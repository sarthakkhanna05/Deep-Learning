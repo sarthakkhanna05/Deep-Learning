{
  "nbformat": 4,
  "nbformat_minor": 0,
  "metadata": {
    "colab": {
      "name": "hw7.ipynb",
      "provenance": []
    },
    "kernelspec": {
      "name": "python3",
      "display_name": "Python 3"
    },
    "language_info": {
      "name": "python"
    },
    "accelerator": "GPU"
  },
  "cells": [
    {
      "cell_type": "code",
      "metadata": {
        "id": "aFosxZ6eq0ja"
      },
      "source": [
        "import matplotlib.pyplot as plt\n",
        "import keras\n",
        "import pandas as pd\n",
        "import numpy as np\n",
        "from keras.models import Sequential\n",
        "from keras.layers import Dense\n",
        "from keras.layers import LSTM\n",
        "from keras.layers import Dropout\n",
        "from sklearn.preprocessing import MinMaxScaler\n",
        "from sklearn.metrics import mean_squared_error\n",
        "from sklearn.metrics import mean_absolute_error\n",
        "from sklearn.model_selection import train_test_split\n",
        "from keras.callbacks import EarlyStopping\n",
        "import tensorflow as tf"
      ],
      "execution_count": 39,
      "outputs": []
    },
    {
      "cell_type": "markdown",
      "metadata": {
        "id": "fWBj_m0rie7D"
      },
      "source": [
        "## Step 1. Import the data from the given .csv file (Google_Stock_Price_Train.csv  Download Google_Stock_Price_Train.csv)."
      ]
    },
    {
      "cell_type": "code",
      "metadata": {
        "id": "gfA_tEIoq4Ek",
        "colab": {
          "base_uri": "https://localhost:8080/",
          "height": 221
        },
        "outputId": "75abe23b-ca7c-4ee7-80f1-2c317398fa0f"
      },
      "source": [
        "df=pd.read_csv(\"/content/Google_Stock_Price_Train.csv\")\n",
        "print('Number of rows and columns:', df.shape)\n",
        "df.head(5)"
      ],
      "execution_count": 34,
      "outputs": [
        {
          "output_type": "stream",
          "name": "stdout",
          "text": [
            "Number of rows and columns: (1258, 6)\n"
          ]
        },
        {
          "output_type": "execute_result",
          "data": {
            "text/html": [
              "<div>\n",
              "<style scoped>\n",
              "    .dataframe tbody tr th:only-of-type {\n",
              "        vertical-align: middle;\n",
              "    }\n",
              "\n",
              "    .dataframe tbody tr th {\n",
              "        vertical-align: top;\n",
              "    }\n",
              "\n",
              "    .dataframe thead th {\n",
              "        text-align: right;\n",
              "    }\n",
              "</style>\n",
              "<table border=\"1\" class=\"dataframe\">\n",
              "  <thead>\n",
              "    <tr style=\"text-align: right;\">\n",
              "      <th></th>\n",
              "      <th>Date</th>\n",
              "      <th>Open</th>\n",
              "      <th>High</th>\n",
              "      <th>Low</th>\n",
              "      <th>Close</th>\n",
              "      <th>Volume</th>\n",
              "    </tr>\n",
              "  </thead>\n",
              "  <tbody>\n",
              "    <tr>\n",
              "      <th>0</th>\n",
              "      <td>1/3/2012</td>\n",
              "      <td>325.25</td>\n",
              "      <td>332.83</td>\n",
              "      <td>324.97</td>\n",
              "      <td>663.59</td>\n",
              "      <td>7,380,500</td>\n",
              "    </tr>\n",
              "    <tr>\n",
              "      <th>1</th>\n",
              "      <td>1/4/2012</td>\n",
              "      <td>331.27</td>\n",
              "      <td>333.87</td>\n",
              "      <td>329.08</td>\n",
              "      <td>666.45</td>\n",
              "      <td>5,749,400</td>\n",
              "    </tr>\n",
              "    <tr>\n",
              "      <th>2</th>\n",
              "      <td>1/5/2012</td>\n",
              "      <td>329.83</td>\n",
              "      <td>330.75</td>\n",
              "      <td>326.89</td>\n",
              "      <td>657.21</td>\n",
              "      <td>6,590,300</td>\n",
              "    </tr>\n",
              "    <tr>\n",
              "      <th>3</th>\n",
              "      <td>1/6/2012</td>\n",
              "      <td>328.34</td>\n",
              "      <td>328.77</td>\n",
              "      <td>323.68</td>\n",
              "      <td>648.24</td>\n",
              "      <td>5,405,900</td>\n",
              "    </tr>\n",
              "    <tr>\n",
              "      <th>4</th>\n",
              "      <td>1/9/2012</td>\n",
              "      <td>322.04</td>\n",
              "      <td>322.29</td>\n",
              "      <td>309.46</td>\n",
              "      <td>620.76</td>\n",
              "      <td>11,688,800</td>\n",
              "    </tr>\n",
              "  </tbody>\n",
              "</table>\n",
              "</div>"
            ],
            "text/plain": [
              "       Date    Open    High     Low   Close      Volume\n",
              "0  1/3/2012  325.25  332.83  324.97  663.59   7,380,500\n",
              "1  1/4/2012  331.27  333.87  329.08  666.45   5,749,400\n",
              "2  1/5/2012  329.83  330.75  326.89  657.21   6,590,300\n",
              "3  1/6/2012  328.34  328.77  323.68  648.24   5,405,900\n",
              "4  1/9/2012  322.04  322.29  309.46  620.76  11,688,800"
            ]
          },
          "metadata": {},
          "execution_count": 34
        }
      ]
    },
    {
      "cell_type": "markdown",
      "metadata": {
        "id": "X07Twxhmiotr"
      },
      "source": [
        "## Step 2. Preprocess the data as you see fit"
      ]
    },
    {
      "cell_type": "markdown",
      "metadata": {
        "id": "I4GnK74rivF9"
      },
      "source": [
        "## Step 3. Split into 80% train 20% prediction"
      ]
    },
    {
      "cell_type": "code",
      "metadata": {
        "id": "OLJeGUDWq5MQ"
      },
      "source": [
        "#80% of 1258 is 1006\n",
        "training_set = df.iloc[:1006, 1:2].values\n",
        "test_set = df.iloc[1006:, 1:2].values"
      ],
      "execution_count": 35,
      "outputs": []
    },
    {
      "cell_type": "code",
      "metadata": {
        "id": "UVDl2rO-rEnf",
        "colab": {
          "base_uri": "https://localhost:8080/"
        },
        "outputId": "ded8a9aa-074e-4d67-9acf-b9bc2e7e610f"
      },
      "source": [
        "# Feature Scaling\n",
        "sc = MinMaxScaler(feature_range = (0, 1))\n",
        "training_set_scaled = sc.fit_transform(training_set)\n",
        "# Creating a data structure with 60 time-steps and 1 output\n",
        "X_train = []\n",
        "y_train = []\n",
        "for i in range(60, 1006):\n",
        "    X_train.append(training_set_scaled[i-60:i, 0])\n",
        "    y_train.append(training_set_scaled[i, 0])\n",
        "X_train, y_train = np.array(X_train), np.array(y_train)\n",
        "X_train = np.reshape(X_train, (X_train.shape[0], X_train.shape[1], 1))\n",
        "print(X_train.shape)\n",
        "#Shape = (946, 60, 1) (values, time-step,label)"
      ],
      "execution_count": 36,
      "outputs": [
        {
          "output_type": "stream",
          "name": "stdout",
          "text": [
            "(946, 60, 1)\n"
          ]
        }
      ]
    },
    {
      "cell_type": "markdown",
      "metadata": {
        "id": "w-1WpWiyi3oK"
      },
      "source": [
        "## Step 4. Train the model on the data"
      ]
    },
    {
      "cell_type": "code",
      "metadata": {
        "id": "4d26WoRarHyx",
        "colab": {
          "base_uri": "https://localhost:8080/"
        },
        "outputId": "e793cb26-2eb9-4491-a414-7968c97866cc"
      },
      "source": [
        "model = Sequential()\n",
        "#Adding the first LSTM layer and some Dropout regularisation\n",
        "model.add(LSTM(units = 150, return_sequences = True, input_shape = (X_train.shape[1], 1)))\n",
        "model.add(Dropout(0.5))\n",
        "# Adding a second LSTM layer and some Dropout regularisation\n",
        "model.add(LSTM(units = 100, return_sequences = True))\n",
        "model.add(Dropout(0.5))\n",
        "# Adding a third LSTM layer and some Dropout regularisation\n",
        "model.add(LSTM(units = 100, return_sequences = True))\n",
        "model.add(Dropout(0.4))\n",
        "# Adding a fourth LSTM layer and some Dropout regularisation\n",
        "model.add(LSTM(units = 50))\n",
        "model.add(Dropout(0.3))\n",
        "# Adding the output layer\n",
        "model.add(Dense(units = 1))\n",
        "\n",
        "model.summary()"
      ],
      "execution_count": 37,
      "outputs": [
        {
          "output_type": "stream",
          "name": "stdout",
          "text": [
            "Model: \"sequential_3\"\n",
            "_________________________________________________________________\n",
            "Layer (type)                 Output Shape              Param #   \n",
            "=================================================================\n",
            "lstm_12 (LSTM)               (None, 60, 150)           91200     \n",
            "_________________________________________________________________\n",
            "dropout_12 (Dropout)         (None, 60, 150)           0         \n",
            "_________________________________________________________________\n",
            "lstm_13 (LSTM)               (None, 60, 100)           100400    \n",
            "_________________________________________________________________\n",
            "dropout_13 (Dropout)         (None, 60, 100)           0         \n",
            "_________________________________________________________________\n",
            "lstm_14 (LSTM)               (None, 60, 100)           80400     \n",
            "_________________________________________________________________\n",
            "dropout_14 (Dropout)         (None, 60, 100)           0         \n",
            "_________________________________________________________________\n",
            "lstm_15 (LSTM)               (None, 50)                30200     \n",
            "_________________________________________________________________\n",
            "dropout_15 (Dropout)         (None, 50)                0         \n",
            "_________________________________________________________________\n",
            "dense_3 (Dense)              (None, 1)                 51        \n",
            "=================================================================\n",
            "Total params: 302,251\n",
            "Trainable params: 302,251\n",
            "Non-trainable params: 0\n",
            "_________________________________________________________________\n"
          ]
        }
      ]
    },
    {
      "cell_type": "code",
      "metadata": {
        "colab": {
          "base_uri": "https://localhost:8080/"
        },
        "id": "AUadTbn-nVii",
        "outputId": "4919af6c-9c9e-4bf7-a6d3-c79d5bdb9982"
      },
      "source": [
        "# Compiling the RNN\n",
        "model.compile(tf.keras.optimizers.Adam(learning_rate=0.001), loss = 'mean_squared_error')\n",
        "\n",
        "es=EarlyStopping(monitor='val_loss',patience=14, mode='min', restore_best_weights=True )\n",
        "# Fitting the RNN to the Training set\n",
        "model.fit(X_train, y_train, validation_split=0.2, epochs = 200, batch_size = 32, callbacks=[es])"
      ],
      "execution_count": 41,
      "outputs": [
        {
          "output_type": "stream",
          "name": "stdout",
          "text": [
            "Epoch 1/200\n",
            "24/24 [==============================] - 9s 151ms/step - loss: 0.0052 - val_loss: 0.0105\n",
            "Epoch 2/200\n",
            "24/24 [==============================] - 2s 77ms/step - loss: 0.0037 - val_loss: 0.0059\n",
            "Epoch 3/200\n",
            "24/24 [==============================] - 2s 76ms/step - loss: 0.0037 - val_loss: 0.0077\n",
            "Epoch 4/200\n",
            "24/24 [==============================] - 2s 77ms/step - loss: 0.0036 - val_loss: 0.0106\n",
            "Epoch 5/200\n",
            "24/24 [==============================] - 2s 77ms/step - loss: 0.0032 - val_loss: 0.0090\n",
            "Epoch 6/200\n",
            "24/24 [==============================] - 2s 78ms/step - loss: 0.0026 - val_loss: 0.0092\n",
            "Epoch 7/200\n",
            "24/24 [==============================] - 2s 76ms/step - loss: 0.0031 - val_loss: 0.0058\n",
            "Epoch 8/200\n",
            "24/24 [==============================] - 2s 77ms/step - loss: 0.0031 - val_loss: 0.0076\n",
            "Epoch 9/200\n",
            "24/24 [==============================] - 2s 77ms/step - loss: 0.0031 - val_loss: 0.0096\n",
            "Epoch 10/200\n",
            "24/24 [==============================] - 2s 77ms/step - loss: 0.0027 - val_loss: 0.0046\n",
            "Epoch 11/200\n",
            "24/24 [==============================] - 2s 77ms/step - loss: 0.0032 - val_loss: 0.0060\n",
            "Epoch 12/200\n",
            "24/24 [==============================] - 2s 77ms/step - loss: 0.0028 - val_loss: 0.0073\n",
            "Epoch 13/200\n",
            "24/24 [==============================] - 2s 78ms/step - loss: 0.0022 - val_loss: 0.0124\n",
            "Epoch 14/200\n",
            "24/24 [==============================] - 2s 77ms/step - loss: 0.0025 - val_loss: 0.0065\n",
            "Epoch 15/200\n",
            "24/24 [==============================] - 2s 77ms/step - loss: 0.0021 - val_loss: 0.0041\n",
            "Epoch 16/200\n",
            "24/24 [==============================] - 2s 76ms/step - loss: 0.0023 - val_loss: 0.0068\n",
            "Epoch 17/200\n",
            "24/24 [==============================] - 2s 77ms/step - loss: 0.0023 - val_loss: 0.0059\n",
            "Epoch 18/200\n",
            "24/24 [==============================] - 2s 78ms/step - loss: 0.0020 - val_loss: 0.0102\n",
            "Epoch 19/200\n",
            "24/24 [==============================] - 2s 84ms/step - loss: 0.0028 - val_loss: 0.0097\n",
            "Epoch 20/200\n",
            "24/24 [==============================] - 2s 78ms/step - loss: 0.0022 - val_loss: 0.0059\n",
            "Epoch 21/200\n",
            "24/24 [==============================] - 2s 77ms/step - loss: 0.0019 - val_loss: 0.0048\n",
            "Epoch 22/200\n",
            "24/24 [==============================] - 2s 77ms/step - loss: 0.0018 - val_loss: 0.0069\n",
            "Epoch 23/200\n",
            "24/24 [==============================] - 2s 77ms/step - loss: 0.0020 - val_loss: 0.0053\n",
            "Epoch 24/200\n",
            "24/24 [==============================] - 2s 77ms/step - loss: 0.0022 - val_loss: 0.0041\n",
            "Epoch 25/200\n",
            "24/24 [==============================] - 2s 77ms/step - loss: 0.0023 - val_loss: 0.0090\n",
            "Epoch 26/200\n",
            "24/24 [==============================] - 2s 77ms/step - loss: 0.0018 - val_loss: 0.0032\n",
            "Epoch 27/200\n",
            "24/24 [==============================] - 2s 77ms/step - loss: 0.0019 - val_loss: 0.0054\n",
            "Epoch 28/200\n",
            "24/24 [==============================] - 2s 77ms/step - loss: 0.0018 - val_loss: 0.0038\n",
            "Epoch 29/200\n",
            "24/24 [==============================] - 2s 77ms/step - loss: 0.0021 - val_loss: 0.0035\n",
            "Epoch 30/200\n",
            "24/24 [==============================] - 2s 76ms/step - loss: 0.0024 - val_loss: 0.0100\n",
            "Epoch 31/200\n",
            "24/24 [==============================] - 2s 78ms/step - loss: 0.0022 - val_loss: 0.0035\n",
            "Epoch 32/200\n",
            "24/24 [==============================] - 2s 76ms/step - loss: 0.0020 - val_loss: 0.0031\n",
            "Epoch 33/200\n",
            "24/24 [==============================] - 2s 77ms/step - loss: 0.0018 - val_loss: 0.0044\n",
            "Epoch 34/200\n",
            "24/24 [==============================] - 2s 77ms/step - loss: 0.0016 - val_loss: 0.0052\n",
            "Epoch 35/200\n",
            "24/24 [==============================] - 2s 77ms/step - loss: 0.0018 - val_loss: 0.0057\n",
            "Epoch 36/200\n",
            "24/24 [==============================] - 2s 78ms/step - loss: 0.0017 - val_loss: 0.0071\n",
            "Epoch 37/200\n",
            "24/24 [==============================] - 2s 77ms/step - loss: 0.0017 - val_loss: 0.0046\n",
            "Epoch 38/200\n",
            "24/24 [==============================] - 2s 77ms/step - loss: 0.0018 - val_loss: 0.0042\n",
            "Epoch 39/200\n",
            "24/24 [==============================] - 2s 76ms/step - loss: 0.0015 - val_loss: 0.0062\n",
            "Epoch 40/200\n",
            "24/24 [==============================] - 2s 77ms/step - loss: 0.0016 - val_loss: 0.0047\n",
            "Epoch 41/200\n",
            "24/24 [==============================] - 2s 77ms/step - loss: 0.0016 - val_loss: 0.0048\n",
            "Epoch 42/200\n",
            "24/24 [==============================] - 2s 77ms/step - loss: 0.0015 - val_loss: 0.0038\n",
            "Epoch 43/200\n",
            "24/24 [==============================] - 2s 76ms/step - loss: 0.0018 - val_loss: 0.0069\n",
            "Epoch 44/200\n",
            "24/24 [==============================] - 2s 77ms/step - loss: 0.0015 - val_loss: 0.0025\n",
            "Epoch 45/200\n",
            "24/24 [==============================] - 2s 76ms/step - loss: 0.0016 - val_loss: 0.0053\n",
            "Epoch 46/200\n",
            "24/24 [==============================] - 2s 77ms/step - loss: 0.0016 - val_loss: 0.0044\n",
            "Epoch 47/200\n",
            "24/24 [==============================] - 2s 77ms/step - loss: 0.0017 - val_loss: 0.0047\n",
            "Epoch 48/200\n",
            "24/24 [==============================] - 2s 77ms/step - loss: 0.0014 - val_loss: 0.0052\n",
            "Epoch 49/200\n",
            "24/24 [==============================] - 2s 76ms/step - loss: 0.0015 - val_loss: 0.0066\n",
            "Epoch 50/200\n",
            "24/24 [==============================] - 2s 77ms/step - loss: 0.0018 - val_loss: 0.0038\n",
            "Epoch 51/200\n",
            "24/24 [==============================] - 2s 77ms/step - loss: 0.0014 - val_loss: 0.0030\n",
            "Epoch 52/200\n",
            "24/24 [==============================] - 2s 78ms/step - loss: 0.0014 - val_loss: 0.0023\n",
            "Epoch 53/200\n",
            "24/24 [==============================] - 2s 77ms/step - loss: 0.0014 - val_loss: 0.0035\n",
            "Epoch 54/200\n",
            "24/24 [==============================] - 2s 77ms/step - loss: 0.0013 - val_loss: 0.0032\n",
            "Epoch 55/200\n",
            "24/24 [==============================] - 2s 77ms/step - loss: 0.0014 - val_loss: 0.0075\n",
            "Epoch 56/200\n",
            "24/24 [==============================] - 2s 75ms/step - loss: 0.0014 - val_loss: 0.0030\n",
            "Epoch 57/200\n",
            "24/24 [==============================] - 2s 77ms/step - loss: 0.0012 - val_loss: 0.0042\n",
            "Epoch 58/200\n",
            "24/24 [==============================] - 2s 77ms/step - loss: 0.0013 - val_loss: 0.0021\n",
            "Epoch 59/200\n",
            "24/24 [==============================] - 2s 77ms/step - loss: 0.0015 - val_loss: 0.0040\n",
            "Epoch 60/200\n",
            "24/24 [==============================] - 2s 77ms/step - loss: 0.0015 - val_loss: 0.0026\n",
            "Epoch 61/200\n",
            "24/24 [==============================] - 2s 77ms/step - loss: 0.0013 - val_loss: 0.0043\n",
            "Epoch 62/200\n",
            "24/24 [==============================] - 2s 77ms/step - loss: 0.0015 - val_loss: 0.0066\n",
            "Epoch 63/200\n",
            "24/24 [==============================] - 2s 78ms/step - loss: 0.0013 - val_loss: 0.0045\n",
            "Epoch 64/200\n",
            "24/24 [==============================] - 2s 77ms/step - loss: 0.0012 - val_loss: 0.0038\n",
            "Epoch 65/200\n",
            "24/24 [==============================] - 2s 78ms/step - loss: 0.0014 - val_loss: 0.0039\n",
            "Epoch 66/200\n",
            "24/24 [==============================] - 2s 77ms/step - loss: 0.0013 - val_loss: 0.0040\n",
            "Epoch 67/200\n",
            "24/24 [==============================] - 2s 77ms/step - loss: 0.0012 - val_loss: 0.0029\n",
            "Epoch 68/200\n",
            "24/24 [==============================] - 2s 77ms/step - loss: 0.0013 - val_loss: 0.0041\n",
            "Epoch 69/200\n",
            "24/24 [==============================] - 2s 77ms/step - loss: 0.0014 - val_loss: 0.0017\n",
            "Epoch 70/200\n",
            "24/24 [==============================] - 2s 77ms/step - loss: 0.0015 - val_loss: 0.0019\n",
            "Epoch 71/200\n",
            "24/24 [==============================] - 2s 77ms/step - loss: 0.0012 - val_loss: 0.0023\n",
            "Epoch 72/200\n",
            "24/24 [==============================] - 2s 77ms/step - loss: 0.0012 - val_loss: 0.0030\n",
            "Epoch 73/200\n",
            "24/24 [==============================] - 2s 77ms/step - loss: 0.0012 - val_loss: 0.0042\n",
            "Epoch 74/200\n",
            "24/24 [==============================] - 2s 76ms/step - loss: 0.0012 - val_loss: 0.0027\n",
            "Epoch 75/200\n",
            "24/24 [==============================] - 2s 77ms/step - loss: 0.0011 - val_loss: 0.0054\n",
            "Epoch 76/200\n",
            "24/24 [==============================] - 2s 77ms/step - loss: 0.0012 - val_loss: 0.0021\n",
            "Epoch 77/200\n",
            "24/24 [==============================] - 2s 77ms/step - loss: 0.0011 - val_loss: 0.0022\n",
            "Epoch 78/200\n",
            "24/24 [==============================] - 2s 76ms/step - loss: 0.0012 - val_loss: 0.0027\n",
            "Epoch 79/200\n",
            "24/24 [==============================] - 2s 76ms/step - loss: 0.0013 - val_loss: 0.0020\n",
            "Epoch 80/200\n",
            "24/24 [==============================] - 2s 77ms/step - loss: 0.0011 - val_loss: 0.0020\n",
            "Epoch 81/200\n",
            "24/24 [==============================] - 2s 77ms/step - loss: 0.0012 - val_loss: 0.0059\n",
            "Epoch 82/200\n",
            "24/24 [==============================] - 2s 77ms/step - loss: 0.0013 - val_loss: 0.0033\n",
            "Epoch 83/200\n",
            "24/24 [==============================] - 2s 77ms/step - loss: 0.0011 - val_loss: 0.0044\n",
            "Epoch 84/200\n",
            "24/24 [==============================] - 2s 78ms/step - loss: 0.0011 - val_loss: 0.0043\n",
            "Epoch 85/200\n",
            "24/24 [==============================] - 2s 76ms/step - loss: 0.0013 - val_loss: 0.0029\n",
            "Epoch 86/200\n",
            "24/24 [==============================] - 2s 77ms/step - loss: 0.0013 - val_loss: 0.0028\n",
            "Epoch 87/200\n",
            "24/24 [==============================] - 2s 76ms/step - loss: 0.0013 - val_loss: 0.0019\n",
            "Epoch 88/200\n",
            "24/24 [==============================] - 2s 77ms/step - loss: 0.0012 - val_loss: 0.0027\n",
            "Epoch 89/200\n",
            "24/24 [==============================] - 2s 76ms/step - loss: 0.0011 - val_loss: 0.0055\n"
          ]
        },
        {
          "output_type": "execute_result",
          "data": {
            "text/plain": [
              "<keras.callbacks.History at 0x7fb77aae48d0>"
            ]
          },
          "metadata": {},
          "execution_count": 41
        }
      ]
    },
    {
      "cell_type": "code",
      "metadata": {
        "id": "x4MQrthrc5kA",
        "colab": {
          "base_uri": "https://localhost:8080/"
        },
        "outputId": "c9bbb7cd-cbee-43a7-eb9e-6370612ac3ee"
      },
      "source": [
        "# Getting the predicted stock price of 2015\n",
        "# 20% of data is 252\n",
        "dataset_train = df.iloc[:1006, 1:2]\n",
        "dataset_test = df.iloc[1006:, 1:2]\n",
        "dataset_total = pd.concat((dataset_train, dataset_test), axis = 0)\n",
        "inputs = dataset_total[len(dataset_total) - len(dataset_test) - 60:].values\n",
        "inputs = inputs.reshape(-1,1)\n",
        "inputs = sc.transform(inputs)\n",
        "X_test = []\n",
        "Y_test = []\n",
        "for i in range(60, 312):\n",
        "    X_test.append(inputs[i-60:i, 0])\n",
        "    Y_test.append(inputs[i, 0])\n",
        "X_test, Y_test = np.array(X_test), np.array(Y_test)\n",
        "X_test = np.reshape(X_test, (X_test.shape[0], X_test.shape[1], 1))\n",
        "print(X_test.shape)\n",
        "# Shape of test data same format, but smaller sample (192, 60, 1)"
      ],
      "execution_count": 43,
      "outputs": [
        {
          "output_type": "stream",
          "name": "stdout",
          "text": [
            "(252, 60, 1)\n"
          ]
        }
      ]
    },
    {
      "cell_type": "code",
      "metadata": {
        "id": "Q5G3KUkBrK_2"
      },
      "source": [
        "predicted_stock_price = model.predict(X_test)\n",
        "predicted_stock_price = sc.inverse_transform(predicted_stock_price)"
      ],
      "execution_count": 44,
      "outputs": []
    },
    {
      "cell_type": "code",
      "metadata": {
        "colab": {
          "base_uri": "https://localhost:8080/"
        },
        "id": "77XOip4ZqITK",
        "outputId": "6771a1b6-ac22-465c-f2dc-1bc5167652de"
      },
      "source": [
        "predicted_stock_price.shape"
      ],
      "execution_count": 45,
      "outputs": [
        {
          "output_type": "execute_result",
          "data": {
            "text/plain": [
              "(252, 1)"
            ]
          },
          "metadata": {},
          "execution_count": 45
        }
      ]
    },
    {
      "cell_type": "markdown",
      "metadata": {
        "id": "CKis1cmei9E3"
      },
      "source": [
        "## Step 5. Report on the results of your model"
      ]
    },
    {
      "cell_type": "code",
      "metadata": {
        "id": "AJo7vyodrNmr",
        "colab": {
          "base_uri": "https://localhost:8080/",
          "height": 730
        },
        "outputId": "04f87c8d-6608-4f31-80b4-b069fd0295d0"
      },
      "source": [
        "# Visualising the results\n",
        "plt.figure(figsize=(16,12))\n",
        "plt.plot(df.loc[1006:, 'Date'],dataset_test.values, color = 'red', label = 'Real Google Stock Price')\n",
        "plt.plot(df.loc[1006:, 'Date'],predicted_stock_price, color = 'blue', label = 'Predicted Google Stock Price')\n",
        "plt.xticks(np.arange(0,252,50))\n",
        "plt.title('Google Stock Price Prediction')\n",
        "plt.xlabel('Time')\n",
        "plt.ylabel('Google Stock Price')\n",
        "plt.legend()\n",
        "plt.show()"
      ],
      "execution_count": 48,
      "outputs": [
        {
          "output_type": "display_data",
          "data": {
            "image/png": "[encoded data removed]",
            "text/plain": [
              "<Figure size 1152x864 with 1 Axes>"
            ]
          },
          "metadata": {
            "needs_background": "light"
          }
        }
      ]
    },
    {
      "cell_type": "markdown",
      "metadata": {
        "id": "mjWoQFljuIpD"
      },
      "source": [
        "Comments:\n",
        "\n",
        "The code had to be modified a bit from the demo as the google stock price data had only 1258 rows instead of 1259 rows. In order to incorporate the change, the number of test batches generated decreased from 459 to 458. In the graph we can see that the predicted data is close to the original data. The LSTM model has followed the trend however it was not able to make accurate predictions on the data after 10th october. "
      ]
    }
  ]
}