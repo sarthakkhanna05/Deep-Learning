{
  "nbformat": 4,
  "nbformat_minor": 0,
  "metadata": {
    "colab": {
      "name": "hw7.ipynb",
      "provenance": []
    },
    "kernelspec": {
      "name": "python3",
      "display_name": "Python 3"
    },
    "language_info": {
      "name": "python"
    },
    "accelerator": "GPU"
  },
  "cells": [
    {
      "cell_type": "code",
      "metadata": {
        "id": "aFosxZ6eq0ja"
      },
      "source": [
        "import matplotlib.pyplot as plt\n",
        "import keras\n",
        "import pandas as pd\n",
        "import numpy as np\n",
        "from keras.models import Sequential\n",
        "from keras.layers import Dense\n",
        "from keras.layers import LSTM\n",
        "from keras.layers import Dropout\n",
        "from sklearn.preprocessing import MinMaxScaler\n",
        "from sklearn.metrics import mean_squared_error\n",
        "from sklearn.metrics import mean_absolute_error\n",
        "from sklearn.model_selection import train_test_split\n",
        "from keras.callbacks import EarlyStopping"
      ],
      "execution_count": 19,
      "outputs": []
    },
    {
      "cell_type": "code",
      "metadata": {
        "id": "gfA_tEIoq4Ek",
        "colab": {
          "base_uri": "https://localhost:8080/",
          "height": 221
        },
        "outputId": "96449efe-c68e-430f-bd59-77bcd41c700a"
      },
      "source": [
        "df=pd.read_csv(\"/content/Google_Stock_Price_Train.csv\")\n",
        "print('Number of rows and columns:', df.shape)\n",
        "df.head(5)"
      ],
      "execution_count": 20,
      "outputs": [
        {
          "output_type": "stream",
          "name": "stdout",
          "text": [
            "Number of rows and columns: (1258, 6)\n"
          ]
        },
        {
          "output_type": "execute_result",
          "data": {
            "text/html": [
              "<div>\n",
              "<style scoped>\n",
              "    .dataframe tbody tr th:only-of-type {\n",
              "        vertical-align: middle;\n",
              "    }\n",
              "\n",
              "    .dataframe tbody tr th {\n",
              "        vertical-align: top;\n",
              "    }\n",
              "\n",
              "    .dataframe thead th {\n",
              "        text-align: right;\n",
              "    }\n",
              "</style>\n",
              "<table border=\"1\" class=\"dataframe\">\n",
              "  <thead>\n",
              "    <tr style=\"text-align: right;\">\n",
              "      <th></th>\n",
              "      <th>Date</th>\n",
              "      <th>Open</th>\n",
              "      <th>High</th>\n",
              "      <th>Low</th>\n",
              "      <th>Close</th>\n",
              "      <th>Volume</th>\n",
              "    </tr>\n",
              "  </thead>\n",
              "  <tbody>\n",
              "    <tr>\n",
              "      <th>0</th>\n",
              "      <td>1/3/2012</td>\n",
              "      <td>325.25</td>\n",
              "      <td>332.83</td>\n",
              "      <td>324.97</td>\n",
              "      <td>663.59</td>\n",
              "      <td>7,380,500</td>\n",
              "    </tr>\n",
              "    <tr>\n",
              "      <th>1</th>\n",
              "      <td>1/4/2012</td>\n",
              "      <td>331.27</td>\n",
              "      <td>333.87</td>\n",
              "      <td>329.08</td>\n",
              "      <td>666.45</td>\n",
              "      <td>5,749,400</td>\n",
              "    </tr>\n",
              "    <tr>\n",
              "      <th>2</th>\n",
              "      <td>1/5/2012</td>\n",
              "      <td>329.83</td>\n",
              "      <td>330.75</td>\n",
              "      <td>326.89</td>\n",
              "      <td>657.21</td>\n",
              "      <td>6,590,300</td>\n",
              "    </tr>\n",
              "    <tr>\n",
              "      <th>3</th>\n",
              "      <td>1/6/2012</td>\n",
              "      <td>328.34</td>\n",
              "      <td>328.77</td>\n",
              "      <td>323.68</td>\n",
              "      <td>648.24</td>\n",
              "      <td>5,405,900</td>\n",
              "    </tr>\n",
              "    <tr>\n",
              "      <th>4</th>\n",
              "      <td>1/9/2012</td>\n",
              "      <td>322.04</td>\n",
              "      <td>322.29</td>\n",
              "      <td>309.46</td>\n",
              "      <td>620.76</td>\n",
              "      <td>11,688,800</td>\n",
              "    </tr>\n",
              "  </tbody>\n",
              "</table>\n",
              "</div>"
            ],
            "text/plain": [
              "       Date    Open    High     Low   Close      Volume\n",
              "0  1/3/2012  325.25  332.83  324.97  663.59   7,380,500\n",
              "1  1/4/2012  331.27  333.87  329.08  666.45   5,749,400\n",
              "2  1/5/2012  329.83  330.75  326.89  657.21   6,590,300\n",
              "3  1/6/2012  328.34  328.77  323.68  648.24   5,405,900\n",
              "4  1/9/2012  322.04  322.29  309.46  620.76  11,688,800"
            ]
          },
          "metadata": {},
          "execution_count": 20
        }
      ]
    },
    {
      "cell_type": "code",
      "metadata": {
        "id": "OLJeGUDWq5MQ"
      },
      "source": [
        "training_set = df.iloc[:800, 1:2].values\n",
        "test_set = df.iloc[800:, 1:2].values"
      ],
      "execution_count": 21,
      "outputs": []
    },
    {
      "cell_type": "code",
      "metadata": {
        "id": "UVDl2rO-rEnf",
        "colab": {
          "base_uri": "https://localhost:8080/"
        },
        "outputId": "3c526fce-cd5a-4bad-c479-03fbbe75183c"
      },
      "source": [
        "# Feature Scaling\n",
        "sc = MinMaxScaler(feature_range = (0, 1))\n",
        "training_set_scaled = sc.fit_transform(training_set)\n",
        "# Creating a data structure with 60 time-steps and 1 output\n",
        "X_train = []\n",
        "y_train = []\n",
        "for i in range(60, 800):\n",
        "    X_train.append(training_set_scaled[i-60:i, 0])\n",
        "    y_train.append(training_set_scaled[i, 0])\n",
        "X_train, y_train = np.array(X_train), np.array(y_train)\n",
        "X_train = np.reshape(X_train, (X_train.shape[0], X_train.shape[1], 1))\n",
        "print(X_train.shape)\n",
        "#Shape = (740, 60, 1) (values, time-step,label)"
      ],
      "execution_count": 49,
      "outputs": [
        {
          "output_type": "stream",
          "name": "stdout",
          "text": [
            "(740, 60, 1)\n"
          ]
        }
      ]
    },
    {
      "cell_type": "code",
      "metadata": {
        "id": "4d26WoRarHyx",
        "colab": {
          "base_uri": "https://localhost:8080/"
        },
        "outputId": "b78cfe41-a49f-4641-fb5d-c9aef9aef897"
      },
      "source": [
        "model = Sequential()\n",
        "#Adding the first LSTM layer and some Dropout regularisation\n",
        "model.add(LSTM(units = 150, return_sequences = True, input_shape = (X_train.shape[1], 1)))\n",
        "model.add(Dropout(0.4))\n",
        "# Adding a second LSTM layer and some Dropout regularisation\n",
        "model.add(LSTM(units = 100, return_sequences = True))\n",
        "model.add(Dropout(0.4))\n",
        "# Adding a third LSTM layer and some Dropout regularisation\n",
        "model.add(LSTM(units = 100, return_sequences = True))\n",
        "model.add(Dropout(0.2))\n",
        "# Adding a fourth LSTM layer and some Dropout regularisation\n",
        "model.add(LSTM(units = 50))\n",
        "model.add(Dropout(0.2))\n",
        "# Adding the output layer\n",
        "model.add(Dense(units = 1))\n",
        "\n",
        "model.summary()"
      ],
      "execution_count": 30,
      "outputs": [
        {
          "output_type": "stream",
          "name": "stdout",
          "text": [
            "Model: \"sequential_10\"\n",
            "_________________________________________________________________\n",
            "Layer (type)                 Output Shape              Param #   \n",
            "=================================================================\n",
            "lstm_38 (LSTM)               (None, 60, 150)           91200     \n",
            "_________________________________________________________________\n",
            "dropout_36 (Dropout)         (None, 60, 150)           0         \n",
            "_________________________________________________________________\n",
            "lstm_39 (LSTM)               (None, 60, 100)           100400    \n",
            "_________________________________________________________________\n",
            "dropout_37 (Dropout)         (None, 60, 100)           0         \n",
            "_________________________________________________________________\n",
            "lstm_40 (LSTM)               (None, 60, 100)           80400     \n",
            "_________________________________________________________________\n",
            "dropout_38 (Dropout)         (None, 60, 100)           0         \n",
            "_________________________________________________________________\n",
            "lstm_41 (LSTM)               (None, 50)                30200     \n",
            "_________________________________________________________________\n",
            "dropout_39 (Dropout)         (None, 50)                0         \n",
            "_________________________________________________________________\n",
            "dense_8 (Dense)              (None, 1)                 51        \n",
            "=================================================================\n",
            "Total params: 302,251\n",
            "Trainable params: 302,251\n",
            "Non-trainable params: 0\n",
            "_________________________________________________________________\n"
          ]
        }
      ]
    },
    {
      "cell_type": "code",
      "metadata": {
        "colab": {
          "base_uri": "https://localhost:8080/"
        },
        "id": "AUadTbn-nVii",
        "outputId": "5bea8302-25b3-4eed-be19-ff80dd3e6e61"
      },
      "source": [
        "# Compiling the RNN\n",
        "model.compile(optimizer = 'adam', loss = 'mean_squared_error')\n",
        "\n",
        "es=EarlyStopping(monitor='val_loss',patience=20, mode='min', restore_best_weights=True )\n",
        "# Fitting the RNN to the Training set\n",
        "model.fit(X_train, y_train, validation_split=0.2, epochs = 100, batch_size = 32, callbacks=[es])"
      ],
      "execution_count": 31,
      "outputs": [
        {
          "output_type": "stream",
          "name": "stdout",
          "text": [
            "Epoch 1/100\n",
            "19/19 [==============================] - 27s 160ms/step - loss: 0.0416 - val_loss: 0.0051\n",
            "Epoch 2/100\n",
            "19/19 [==============================] - 1s 79ms/step - loss: 0.0063 - val_loss: 0.0042\n",
            "Epoch 3/100\n",
            "19/19 [==============================] - 1s 79ms/step - loss: 0.0065 - val_loss: 0.0027\n",
            "Epoch 4/100\n",
            "19/19 [==============================] - 1s 79ms/step - loss: 0.0061 - val_loss: 0.0026\n",
            "Epoch 5/100\n",
            "19/19 [==============================] - 1s 79ms/step - loss: 0.0061 - val_loss: 0.0026\n",
            "Epoch 6/100\n",
            "19/19 [==============================] - 1s 79ms/step - loss: 0.0061 - val_loss: 0.0048\n",
            "Epoch 7/100\n",
            "19/19 [==============================] - 1s 79ms/step - loss: 0.0054 - val_loss: 0.0043\n",
            "Epoch 8/100\n",
            "19/19 [==============================] - 1s 78ms/step - loss: 0.0069 - val_loss: 0.0079\n",
            "Epoch 9/100\n",
            "19/19 [==============================] - 1s 79ms/step - loss: 0.0058 - val_loss: 0.0031\n",
            "Epoch 10/100\n",
            "19/19 [==============================] - 1s 79ms/step - loss: 0.0049 - val_loss: 0.0024\n",
            "Epoch 11/100\n",
            "19/19 [==============================] - 1s 78ms/step - loss: 0.0056 - val_loss: 0.0070\n",
            "Epoch 12/100\n",
            "19/19 [==============================] - 1s 79ms/step - loss: 0.0050 - val_loss: 0.0056\n",
            "Epoch 13/100\n",
            "19/19 [==============================] - 1s 80ms/step - loss: 0.0062 - val_loss: 0.0023\n",
            "Epoch 14/100\n",
            "19/19 [==============================] - 1s 78ms/step - loss: 0.0045 - val_loss: 0.0027\n",
            "Epoch 15/100\n",
            "19/19 [==============================] - 2s 80ms/step - loss: 0.0060 - val_loss: 0.0023\n",
            "Epoch 16/100\n",
            "19/19 [==============================] - 2s 80ms/step - loss: 0.0050 - val_loss: 0.0023\n",
            "Epoch 17/100\n",
            "19/19 [==============================] - 1s 79ms/step - loss: 0.0047 - val_loss: 0.0023\n",
            "Epoch 18/100\n",
            "19/19 [==============================] - 2s 80ms/step - loss: 0.0041 - val_loss: 0.0022\n",
            "Epoch 19/100\n",
            "19/19 [==============================] - 1s 79ms/step - loss: 0.0043 - val_loss: 0.0027\n",
            "Epoch 20/100\n",
            "19/19 [==============================] - 1s 79ms/step - loss: 0.0052 - val_loss: 0.0024\n",
            "Epoch 21/100\n",
            "19/19 [==============================] - 1s 78ms/step - loss: 0.0053 - val_loss: 0.0026\n",
            "Epoch 22/100\n",
            "19/19 [==============================] - 1s 78ms/step - loss: 0.0042 - val_loss: 0.0026\n",
            "Epoch 23/100\n",
            "19/19 [==============================] - 1s 79ms/step - loss: 0.0037 - val_loss: 0.0022\n",
            "Epoch 24/100\n",
            "19/19 [==============================] - 1s 78ms/step - loss: 0.0036 - val_loss: 0.0027\n",
            "Epoch 25/100\n",
            "19/19 [==============================] - 1s 79ms/step - loss: 0.0040 - val_loss: 0.0087\n",
            "Epoch 26/100\n",
            "19/19 [==============================] - 1s 79ms/step - loss: 0.0045 - val_loss: 0.0022\n",
            "Epoch 27/100\n",
            "19/19 [==============================] - 1s 78ms/step - loss: 0.0035 - val_loss: 0.0040\n",
            "Epoch 28/100\n",
            "19/19 [==============================] - 1s 78ms/step - loss: 0.0037 - val_loss: 0.0055\n",
            "Epoch 29/100\n",
            "19/19 [==============================] - 1s 78ms/step - loss: 0.0049 - val_loss: 0.0020\n",
            "Epoch 30/100\n",
            "19/19 [==============================] - 1s 78ms/step - loss: 0.0040 - val_loss: 0.0033\n",
            "Epoch 31/100\n",
            "19/19 [==============================] - 2s 80ms/step - loss: 0.0041 - val_loss: 0.0028\n",
            "Epoch 32/100\n",
            "19/19 [==============================] - 1s 79ms/step - loss: 0.0040 - val_loss: 0.0024\n",
            "Epoch 33/100\n",
            "19/19 [==============================] - 1s 79ms/step - loss: 0.0030 - val_loss: 0.0021\n",
            "Epoch 34/100\n",
            "19/19 [==============================] - 2s 81ms/step - loss: 0.0039 - val_loss: 0.0023\n",
            "Epoch 35/100\n",
            "19/19 [==============================] - 1s 78ms/step - loss: 0.0036 - val_loss: 0.0020\n",
            "Epoch 36/100\n",
            "19/19 [==============================] - 1s 79ms/step - loss: 0.0032 - val_loss: 0.0020\n",
            "Epoch 37/100\n",
            "19/19 [==============================] - 1s 77ms/step - loss: 0.0036 - val_loss: 0.0025\n",
            "Epoch 38/100\n",
            "19/19 [==============================] - 1s 78ms/step - loss: 0.0032 - val_loss: 0.0025\n",
            "Epoch 39/100\n",
            "19/19 [==============================] - 1s 79ms/step - loss: 0.0033 - val_loss: 0.0020\n",
            "Epoch 40/100\n",
            "19/19 [==============================] - 1s 78ms/step - loss: 0.0030 - val_loss: 0.0021\n",
            "Epoch 41/100\n",
            "19/19 [==============================] - 1s 79ms/step - loss: 0.0036 - val_loss: 0.0024\n",
            "Epoch 42/100\n",
            "19/19 [==============================] - 1s 79ms/step - loss: 0.0033 - val_loss: 0.0021\n",
            "Epoch 43/100\n",
            "19/19 [==============================] - 1s 79ms/step - loss: 0.0029 - val_loss: 0.0020\n",
            "Epoch 44/100\n",
            "19/19 [==============================] - 1s 78ms/step - loss: 0.0037 - val_loss: 0.0031\n",
            "Epoch 45/100\n",
            "19/19 [==============================] - 1s 78ms/step - loss: 0.0032 - val_loss: 0.0019\n",
            "Epoch 46/100\n",
            "19/19 [==============================] - 1s 79ms/step - loss: 0.0030 - val_loss: 0.0047\n",
            "Epoch 47/100\n",
            "19/19 [==============================] - 1s 78ms/step - loss: 0.0042 - val_loss: 0.0033\n",
            "Epoch 48/100\n",
            "19/19 [==============================] - 1s 79ms/step - loss: 0.0035 - val_loss: 0.0055\n",
            "Epoch 49/100\n",
            "19/19 [==============================] - 1s 78ms/step - loss: 0.0045 - val_loss: 0.0049\n",
            "Epoch 50/100\n",
            "19/19 [==============================] - 1s 79ms/step - loss: 0.0043 - val_loss: 0.0019\n",
            "Epoch 51/100\n",
            "19/19 [==============================] - 1s 79ms/step - loss: 0.0036 - val_loss: 0.0018\n",
            "Epoch 52/100\n",
            "19/19 [==============================] - 1s 78ms/step - loss: 0.0027 - val_loss: 0.0026\n",
            "Epoch 53/100\n",
            "19/19 [==============================] - 1s 79ms/step - loss: 0.0032 - val_loss: 0.0021\n",
            "Epoch 54/100\n",
            "19/19 [==============================] - 1s 80ms/step - loss: 0.0029 - val_loss: 0.0031\n",
            "Epoch 55/100\n",
            "19/19 [==============================] - 1s 79ms/step - loss: 0.0035 - val_loss: 0.0021\n",
            "Epoch 56/100\n",
            "19/19 [==============================] - 1s 79ms/step - loss: 0.0030 - val_loss: 0.0018\n",
            "Epoch 57/100\n",
            "19/19 [==============================] - 1s 79ms/step - loss: 0.0029 - val_loss: 0.0018\n",
            "Epoch 58/100\n",
            "19/19 [==============================] - 1s 78ms/step - loss: 0.0033 - val_loss: 0.0020\n",
            "Epoch 59/100\n",
            "19/19 [==============================] - 1s 78ms/step - loss: 0.0035 - val_loss: 0.0027\n",
            "Epoch 60/100\n",
            "19/19 [==============================] - 2s 80ms/step - loss: 0.0025 - val_loss: 0.0022\n",
            "Epoch 61/100\n",
            "19/19 [==============================] - 2s 80ms/step - loss: 0.0025 - val_loss: 0.0018\n",
            "Epoch 62/100\n",
            "19/19 [==============================] - 1s 78ms/step - loss: 0.0026 - val_loss: 0.0017\n",
            "Epoch 63/100\n",
            "19/19 [==============================] - 1s 79ms/step - loss: 0.0027 - val_loss: 0.0022\n",
            "Epoch 64/100\n",
            "19/19 [==============================] - 1s 79ms/step - loss: 0.0027 - val_loss: 0.0037\n",
            "Epoch 65/100\n",
            "19/19 [==============================] - 1s 79ms/step - loss: 0.0033 - val_loss: 0.0023\n",
            "Epoch 66/100\n",
            "19/19 [==============================] - 1s 78ms/step - loss: 0.0027 - val_loss: 0.0017\n",
            "Epoch 67/100\n",
            "19/19 [==============================] - 1s 77ms/step - loss: 0.0029 - val_loss: 0.0017\n",
            "Epoch 68/100\n",
            "19/19 [==============================] - 2s 81ms/step - loss: 0.0024 - val_loss: 0.0019\n",
            "Epoch 69/100\n",
            "19/19 [==============================] - 1s 79ms/step - loss: 0.0024 - val_loss: 0.0016\n",
            "Epoch 70/100\n",
            "19/19 [==============================] - 2s 80ms/step - loss: 0.0025 - val_loss: 0.0017\n",
            "Epoch 71/100\n",
            "19/19 [==============================] - 1s 79ms/step - loss: 0.0021 - val_loss: 0.0018\n",
            "Epoch 72/100\n",
            "19/19 [==============================] - 1s 78ms/step - loss: 0.0026 - val_loss: 0.0018\n",
            "Epoch 73/100\n",
            "19/19 [==============================] - 2s 80ms/step - loss: 0.0024 - val_loss: 0.0019\n",
            "Epoch 74/100\n",
            "19/19 [==============================] - 2s 80ms/step - loss: 0.0027 - val_loss: 0.0017\n",
            "Epoch 75/100\n",
            "19/19 [==============================] - 1s 79ms/step - loss: 0.0026 - val_loss: 0.0031\n",
            "Epoch 76/100\n",
            "19/19 [==============================] - 1s 78ms/step - loss: 0.0025 - val_loss: 0.0028\n",
            "Epoch 77/100\n",
            "19/19 [==============================] - 2s 80ms/step - loss: 0.0021 - val_loss: 0.0033\n",
            "Epoch 78/100\n",
            "19/19 [==============================] - 2s 80ms/step - loss: 0.0028 - val_loss: 0.0018\n",
            "Epoch 79/100\n",
            "19/19 [==============================] - 1s 79ms/step - loss: 0.0029 - val_loss: 0.0015\n",
            "Epoch 80/100\n",
            "19/19 [==============================] - 1s 79ms/step - loss: 0.0023 - val_loss: 0.0020\n",
            "Epoch 81/100\n",
            "19/19 [==============================] - 1s 80ms/step - loss: 0.0026 - val_loss: 0.0015\n",
            "Epoch 82/100\n",
            "19/19 [==============================] - 1s 79ms/step - loss: 0.0024 - val_loss: 0.0015\n",
            "Epoch 83/100\n",
            "19/19 [==============================] - 1s 79ms/step - loss: 0.0028 - val_loss: 0.0016\n",
            "Epoch 84/100\n",
            "19/19 [==============================] - 1s 79ms/step - loss: 0.0029 - val_loss: 0.0015\n",
            "Epoch 85/100\n",
            "19/19 [==============================] - 1s 79ms/step - loss: 0.0025 - val_loss: 0.0014\n",
            "Epoch 86/100\n",
            "19/19 [==============================] - 1s 79ms/step - loss: 0.0025 - val_loss: 0.0017\n",
            "Epoch 87/100\n",
            "19/19 [==============================] - 1s 79ms/step - loss: 0.0024 - val_loss: 0.0016\n",
            "Epoch 88/100\n",
            "19/19 [==============================] - 1s 79ms/step - loss: 0.0025 - val_loss: 0.0015\n",
            "Epoch 89/100\n",
            "19/19 [==============================] - 1s 79ms/step - loss: 0.0026 - val_loss: 0.0017\n",
            "Epoch 90/100\n",
            "19/19 [==============================] - 1s 79ms/step - loss: 0.0022 - val_loss: 0.0017\n",
            "Epoch 91/100\n",
            "19/19 [==============================] - 1s 78ms/step - loss: 0.0024 - val_loss: 0.0018\n",
            "Epoch 92/100\n",
            "19/19 [==============================] - 1s 80ms/step - loss: 0.0026 - val_loss: 0.0015\n",
            "Epoch 93/100\n",
            "19/19 [==============================] - 1s 79ms/step - loss: 0.0024 - val_loss: 0.0024\n",
            "Epoch 94/100\n",
            "19/19 [==============================] - 1s 79ms/step - loss: 0.0023 - val_loss: 0.0013\n",
            "Epoch 95/100\n",
            "19/19 [==============================] - 1s 79ms/step - loss: 0.0024 - val_loss: 0.0017\n",
            "Epoch 96/100\n",
            "19/19 [==============================] - 1s 79ms/step - loss: 0.0022 - val_loss: 0.0013\n",
            "Epoch 97/100\n",
            "19/19 [==============================] - 2s 80ms/step - loss: 0.0022 - val_loss: 0.0014\n",
            "Epoch 98/100\n",
            "19/19 [==============================] - 1s 79ms/step - loss: 0.0025 - val_loss: 0.0033\n",
            "Epoch 99/100\n",
            "19/19 [==============================] - 2s 80ms/step - loss: 0.0024 - val_loss: 0.0017\n",
            "Epoch 100/100\n",
            "19/19 [==============================] - 2s 81ms/step - loss: 0.0027 - val_loss: 0.0013\n"
          ]
        },
        {
          "output_type": "execute_result",
          "data": {
            "text/plain": [
              "<keras.callbacks.History at 0x7f2bbb1e3410>"
            ]
          },
          "metadata": {},
          "execution_count": 31
        }
      ]
    },
    {
      "cell_type": "code",
      "metadata": {
        "id": "4aBrnunHrIVQ",
        "colab": {
          "base_uri": "https://localhost:8080/"
        },
        "outputId": "dd81d595-e8cd-48f5-8aa6-2097acb9e812"
      },
      "source": [
        "# Getting the predicted stock price of 2015\n",
        "dataset_train = df.iloc[:800, 1:2]\n",
        "dataset_test = df.iloc[800:, 1:2]\n",
        "dataset_total = pd.concat((dataset_train, dataset_test), axis = 0)\n",
        "inputs = dataset_total[len(dataset_total) - len(dataset_test) - 60:].values\n",
        "inputs = inputs.reshape(-1,1)\n",
        "inputs = sc.transform(inputs)\n",
        "X_test = []\n",
        "for i in range(60, 518):\n",
        "    X_test.append(inputs[i-60:i, 0])\n",
        "X_test = np.array(X_test)\n",
        "X_test = np.reshape(X_test, (X_test.shape[0], X_test.shape[1], 1))\n",
        "print(X_test.shape)\n",
        "# Shape of test data same format, but smaller sample (458, 60, 1)\n"
      ],
      "execution_count": 56,
      "outputs": [
        {
          "output_type": "stream",
          "name": "stdout",
          "text": [
            "(458, 60, 1)\n"
          ]
        }
      ]
    },
    {
      "cell_type": "code",
      "metadata": {
        "id": "Q5G3KUkBrK_2"
      },
      "source": [
        "predicted_stock_price = model.predict(X_test)\n",
        "predicted_stock_price = sc.inverse_transform(predicted_stock_price)"
      ],
      "execution_count": 58,
      "outputs": []
    },
    {
      "cell_type": "code",
      "metadata": {
        "colab": {
          "base_uri": "https://localhost:8080/"
        },
        "id": "77XOip4ZqITK",
        "outputId": "4291c13c-45d9-4a41-e04d-c3d68cfec04b"
      },
      "source": [
        "predicted_stock_price.shape"
      ],
      "execution_count": 59,
      "outputs": [
        {
          "output_type": "execute_result",
          "data": {
            "text/plain": [
              "(458, 1)"
            ]
          },
          "metadata": {},
          "execution_count": 59
        }
      ]
    },
    {
      "cell_type": "code",
      "metadata": {
        "colab": {
          "base_uri": "https://localhost:8080/"
        },
        "id": "5JYuYvM_qMfJ",
        "outputId": "b4c69d50-0b36-4f8c-9b1a-1638c0fb16d2"
      },
      "source": [
        "dataset_test.shape"
      ],
      "execution_count": 60,
      "outputs": [
        {
          "output_type": "execute_result",
          "data": {
            "text/plain": [
              "(458, 1)"
            ]
          },
          "metadata": {},
          "execution_count": 60
        }
      ]
    },
    {
      "cell_type": "code",
      "metadata": {
        "id": "AJo7vyodrNmr",
        "colab": {
          "base_uri": "https://localhost:8080/",
          "height": 730
        },
        "outputId": "bd69ef65-d26c-4e60-cfac-d15e27a8e0da"
      },
      "source": [
        "# Visualising the results\n",
        "plt.figure(figsize=(16,12))\n",
        "plt.plot(df.loc[800:, 'Date'],dataset_test.values, color = 'red', label = 'Real Google Stock Price')\n",
        "plt.plot(df.loc[800:, 'Date'],predicted_stock_price, color = 'blue', label = 'Predicted Google Stock Price')\n",
        "plt.xticks(np.arange(0,458,50))\n",
        "plt.title('Google Stock Price Prediction')\n",
        "plt.xlabel('Time')\n",
        "plt.ylabel('Google Stock Price')\n",
        "plt.legend()\n",
        "plt.show()"
      ],
      "execution_count": 64,
      "outputs": [
        {
          "output_type": "display_data",
          "data": {
            "image/png": "[encoded data removed]",
            "text/plain": [
              "<Figure size 1152x864 with 1 Axes>"
            ]
          },
          "metadata": {
            "needs_background": "light"
          }
        }
      ]
    },
    {
      "cell_type": "markdown",
      "metadata": {
        "id": "mjWoQFljuIpD"
      },
      "source": [
        "Comments:\n",
        "\n",
        "The code had to be modified a bit from the demo as the google stock price data had only 1258 rows instead of 1259 rows. In order to incorporate the change, the number of test batches generated decreased from 459 to 458. In the graph we can see that the predicted data is close to the original data. The LSTM model has followed the trend however it was not able to make accurate predictions on the data after 10th october. "
      ]
    }
  ]
}