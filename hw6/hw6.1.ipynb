{
  "nbformat": 4,
  "nbformat_minor": 0,
  "metadata": {
    "accelerator": "GPU",
    "colab": {
      "name": "hw6.ipynb",
      "provenance": [],
      "collapsed_sections": []
    },
    "kernelspec": {
      "display_name": "Python 3 (ipykernel)",
      "language": "python",
      "name": "python3"
    },
    "language_info": {
      "codemirror_mode": {
        "name": "ipython",
        "version": 3
      },
      "file_extension": ".py",
      "mimetype": "text/x-python",
      "name": "python",
      "nbconvert_exporter": "python",
      "pygments_lexer": "ipython3",
      "version": "3.7.11"
    },
    "widgets": {
      "application/vnd.jupyter.widget-state+json": {
        "9b045173e88c4b41aec4a4bbd627d263": {
          "model_module": "@jupyter-widgets/controls",
          "model_name": "HBoxModel",
          "model_module_version": "1.5.0",
          "state": {
            "_view_name": "HBoxView",
            "_dom_classes": [],
            "_model_name": "HBoxModel",
            "_view_module": "@jupyter-widgets/controls",
            "_model_module_version": "1.5.0",
            "_view_count": null,
            "_view_module_version": "1.5.0",
            "box_style": "",
            "layout": "IPY_MODEL_5fa25c4e93ea40128908848657aa096a",
            "_model_module": "@jupyter-widgets/controls",
            "children": [
              "IPY_MODEL_f470d0382c614cad8b6027bb33bce827",
              "IPY_MODEL_5ab6399daedd47fe89934b8aa45d39d0",
              "IPY_MODEL_4370483d4fa24002a3205b73b10e0f5e"
            ]
          }
        },
        "5fa25c4e93ea40128908848657aa096a": {
          "model_module": "@jupyter-widgets/base",
          "model_name": "LayoutModel",
          "model_module_version": "1.2.0",
          "state": {
            "_view_name": "LayoutView",
            "grid_template_rows": null,
            "right": null,
            "justify_content": null,
            "_view_module": "@jupyter-widgets/base",
            "overflow": null,
            "_model_module_version": "1.2.0",
            "_view_count": null,
            "flex_flow": null,
            "width": null,
            "min_width": null,
            "border": null,
            "align_items": null,
            "bottom": null,
            "_model_module": "@jupyter-widgets/base",
            "top": null,
            "grid_column": null,
            "overflow_y": null,
            "overflow_x": null,
            "grid_auto_flow": null,
            "grid_area": null,
            "grid_template_columns": null,
            "flex": null,
            "_model_name": "LayoutModel",
            "justify_items": null,
            "grid_row": null,
            "max_height": null,
            "align_content": null,
            "visibility": null,
            "align_self": null,
            "height": null,
            "min_height": null,
            "padding": null,
            "grid_auto_rows": null,
            "grid_gap": null,
            "max_width": null,
            "order": null,
            "_view_module_version": "1.2.0",
            "grid_template_areas": null,
            "object_position": null,
            "object_fit": null,
            "grid_auto_columns": null,
            "margin": null,
            "display": null,
            "left": null
          }
        },
        "f470d0382c614cad8b6027bb33bce827": {
          "model_module": "@jupyter-widgets/controls",
          "model_name": "HTMLModel",
          "model_module_version": "1.5.0",
          "state": {
            "_view_name": "HTMLView",
            "style": "IPY_MODEL_46d7c86d94db4ac4b5e9af8a652179a8",
            "_dom_classes": [],
            "description": "",
            "_model_name": "HTMLModel",
            "placeholder": "​",
            "_view_module": "@jupyter-widgets/controls",
            "_model_module_version": "1.5.0",
            "value": "Dl Completed...: 100%",
            "_view_count": null,
            "_view_module_version": "1.5.0",
            "description_tooltip": null,
            "_model_module": "@jupyter-widgets/controls",
            "layout": "IPY_MODEL_4544363fc6f3474cb9530594e4cf2530"
          }
        },
        "5ab6399daedd47fe89934b8aa45d39d0": {
          "model_module": "@jupyter-widgets/controls",
          "model_name": "FloatProgressModel",
          "model_module_version": "1.5.0",
          "state": {
            "_view_name": "ProgressView",
            "style": "IPY_MODEL_77ddd48e935849b9a3e8573e79807acf",
            "_dom_classes": [],
            "description": "",
            "_model_name": "FloatProgressModel",
            "bar_style": "success",
            "max": 1,
            "_view_module": "@jupyter-widgets/controls",
            "_model_module_version": "1.5.0",
            "value": 1,
            "_view_count": null,
            "_view_module_version": "1.5.0",
            "orientation": "horizontal",
            "min": 0,
            "description_tooltip": null,
            "_model_module": "@jupyter-widgets/controls",
            "layout": "IPY_MODEL_95be3edf77b44cada06328f1a67bb045"
          }
        },
        "4370483d4fa24002a3205b73b10e0f5e": {
          "model_module": "@jupyter-widgets/controls",
          "model_name": "HTMLModel",
          "model_module_version": "1.5.0",
          "state": {
            "_view_name": "HTMLView",
            "style": "IPY_MODEL_36afa4fcc78e489e8a110bbb710fdc4e",
            "_dom_classes": [],
            "description": "",
            "_model_name": "HTMLModel",
            "placeholder": "​",
            "_view_module": "@jupyter-widgets/controls",
            "_model_module_version": "1.5.0",
            "value": " 1/1 [00:16&lt;00:00, 11.42s/ url]",
            "_view_count": null,
            "_view_module_version": "1.5.0",
            "description_tooltip": null,
            "_model_module": "@jupyter-widgets/controls",
            "layout": "IPY_MODEL_d1825b0e04c1425d900146e52efed18f"
          }
        },
        "46d7c86d94db4ac4b5e9af8a652179a8": {
          "model_module": "@jupyter-widgets/controls",
          "model_name": "DescriptionStyleModel",
          "model_module_version": "1.5.0",
          "state": {
            "_view_name": "StyleView",
            "_model_name": "DescriptionStyleModel",
            "description_width": "",
            "_view_module": "@jupyter-widgets/base",
            "_model_module_version": "1.5.0",
            "_view_count": null,
            "_view_module_version": "1.2.0",
            "_model_module": "@jupyter-widgets/controls"
          }
        },
        "4544363fc6f3474cb9530594e4cf2530": {
          "model_module": "@jupyter-widgets/base",
          "model_name": "LayoutModel",
          "model_module_version": "1.2.0",
          "state": {
            "_view_name": "LayoutView",
            "grid_template_rows": null,
            "right": null,
            "justify_content": null,
            "_view_module": "@jupyter-widgets/base",
            "overflow": null,
            "_model_module_version": "1.2.0",
            "_view_count": null,
            "flex_flow": null,
            "width": null,
            "min_width": null,
            "border": null,
            "align_items": null,
            "bottom": null,
            "_model_module": "@jupyter-widgets/base",
            "top": null,
            "grid_column": null,
            "overflow_y": null,
            "overflow_x": null,
            "grid_auto_flow": null,
            "grid_area": null,
            "grid_template_columns": null,
            "flex": null,
            "_model_name": "LayoutModel",
            "justify_items": null,
            "grid_row": null,
            "max_height": null,
            "align_content": null,
            "visibility": null,
            "align_self": null,
            "height": null,
            "min_height": null,
            "padding": null,
            "grid_auto_rows": null,
            "grid_gap": null,
            "max_width": null,
            "order": null,
            "_view_module_version": "1.2.0",
            "grid_template_areas": null,
            "object_position": null,
            "object_fit": null,
            "grid_auto_columns": null,
            "margin": null,
            "display": null,
            "left": null
          }
        },
        "77ddd48e935849b9a3e8573e79807acf": {
          "model_module": "@jupyter-widgets/controls",
          "model_name": "ProgressStyleModel",
          "model_module_version": "1.5.0",
          "state": {
            "_view_name": "StyleView",
            "_model_name": "ProgressStyleModel",
            "description_width": "",
            "_view_module": "@jupyter-widgets/base",
            "_model_module_version": "1.5.0",
            "_view_count": null,
            "_view_module_version": "1.2.0",
            "bar_color": null,
            "_model_module": "@jupyter-widgets/controls"
          }
        },
        "95be3edf77b44cada06328f1a67bb045": {
          "model_module": "@jupyter-widgets/base",
          "model_name": "LayoutModel",
          "model_module_version": "1.2.0",
          "state": {
            "_view_name": "LayoutView",
            "grid_template_rows": null,
            "right": null,
            "justify_content": null,
            "_view_module": "@jupyter-widgets/base",
            "overflow": null,
            "_model_module_version": "1.2.0",
            "_view_count": null,
            "flex_flow": null,
            "width": "20px",
            "min_width": null,
            "border": null,
            "align_items": null,
            "bottom": null,
            "_model_module": "@jupyter-widgets/base",
            "top": null,
            "grid_column": null,
            "overflow_y": null,
            "overflow_x": null,
            "grid_auto_flow": null,
            "grid_area": null,
            "grid_template_columns": null,
            "flex": null,
            "_model_name": "LayoutModel",
            "justify_items": null,
            "grid_row": null,
            "max_height": null,
            "align_content": null,
            "visibility": null,
            "align_self": null,
            "height": null,
            "min_height": null,
            "padding": null,
            "grid_auto_rows": null,
            "grid_gap": null,
            "max_width": null,
            "order": null,
            "_view_module_version": "1.2.0",
            "grid_template_areas": null,
            "object_position": null,
            "object_fit": null,
            "grid_auto_columns": null,
            "margin": null,
            "display": null,
            "left": null
          }
        },
        "36afa4fcc78e489e8a110bbb710fdc4e": {
          "model_module": "@jupyter-widgets/controls",
          "model_name": "DescriptionStyleModel",
          "model_module_version": "1.5.0",
          "state": {
            "_view_name": "StyleView",
            "_model_name": "DescriptionStyleModel",
            "description_width": "",
            "_view_module": "@jupyter-widgets/base",
            "_model_module_version": "1.5.0",
            "_view_count": null,
            "_view_module_version": "1.2.0",
            "_model_module": "@jupyter-widgets/controls"
          }
        },
        "d1825b0e04c1425d900146e52efed18f": {
          "model_module": "@jupyter-widgets/base",
          "model_name": "LayoutModel",
          "model_module_version": "1.2.0",
          "state": {
            "_view_name": "LayoutView",
            "grid_template_rows": null,
            "right": null,
            "justify_content": null,
            "_view_module": "@jupyter-widgets/base",
            "overflow": null,
            "_model_module_version": "1.2.0",
            "_view_count": null,
            "flex_flow": null,
            "width": null,
            "min_width": null,
            "border": null,
            "align_items": null,
            "bottom": null,
            "_model_module": "@jupyter-widgets/base",
            "top": null,
            "grid_column": null,
            "overflow_y": null,
            "overflow_x": null,
            "grid_auto_flow": null,
            "grid_area": null,
            "grid_template_columns": null,
            "flex": null,
            "_model_name": "LayoutModel",
            "justify_items": null,
            "grid_row": null,
            "max_height": null,
            "align_content": null,
            "visibility": null,
            "align_self": null,
            "height": null,
            "min_height": null,
            "padding": null,
            "grid_auto_rows": null,
            "grid_gap": null,
            "max_width": null,
            "order": null,
            "_view_module_version": "1.2.0",
            "grid_template_areas": null,
            "object_position": null,
            "object_fit": null,
            "grid_auto_columns": null,
            "margin": null,
            "display": null,
            "left": null
          }
        },
        "20074bf32a4944ffac3fb9f761f7cbe6": {
          "model_module": "@jupyter-widgets/controls",
          "model_name": "HBoxModel",
          "model_module_version": "1.5.0",
          "state": {
            "_view_name": "HBoxView",
            "_dom_classes": [],
            "_model_name": "HBoxModel",
            "_view_module": "@jupyter-widgets/controls",
            "_model_module_version": "1.5.0",
            "_view_count": null,
            "_view_module_version": "1.5.0",
            "box_style": "",
            "layout": "IPY_MODEL_ceb2a8c284314e1695b4474224026a68",
            "_model_module": "@jupyter-widgets/controls",
            "children": [
              "IPY_MODEL_7ab62c1d11754f4eb64ad2d570f3de5e",
              "IPY_MODEL_5752798ba894440daeeb810bb9eb192b",
              "IPY_MODEL_5f83820ccbc84032b04b8d71175c8be9"
            ]
          }
        },
        "ceb2a8c284314e1695b4474224026a68": {
          "model_module": "@jupyter-widgets/base",
          "model_name": "LayoutModel",
          "model_module_version": "1.2.0",
          "state": {
            "_view_name": "LayoutView",
            "grid_template_rows": null,
            "right": null,
            "justify_content": null,
            "_view_module": "@jupyter-widgets/base",
            "overflow": null,
            "_model_module_version": "1.2.0",
            "_view_count": null,
            "flex_flow": null,
            "width": null,
            "min_width": null,
            "border": null,
            "align_items": null,
            "bottom": null,
            "_model_module": "@jupyter-widgets/base",
            "top": null,
            "grid_column": null,
            "overflow_y": null,
            "overflow_x": null,
            "grid_auto_flow": null,
            "grid_area": null,
            "grid_template_columns": null,
            "flex": null,
            "_model_name": "LayoutModel",
            "justify_items": null,
            "grid_row": null,
            "max_height": null,
            "align_content": null,
            "visibility": null,
            "align_self": null,
            "height": null,
            "min_height": null,
            "padding": null,
            "grid_auto_rows": null,
            "grid_gap": null,
            "max_width": null,
            "order": null,
            "_view_module_version": "1.2.0",
            "grid_template_areas": null,
            "object_position": null,
            "object_fit": null,
            "grid_auto_columns": null,
            "margin": null,
            "display": null,
            "left": null
          }
        },
        "7ab62c1d11754f4eb64ad2d570f3de5e": {
          "model_module": "@jupyter-widgets/controls",
          "model_name": "HTMLModel",
          "model_module_version": "1.5.0",
          "state": {
            "_view_name": "HTMLView",
            "style": "IPY_MODEL_89e371ce50004d758e5151b8d0ae0955",
            "_dom_classes": [],
            "description": "",
            "_model_name": "HTMLModel",
            "placeholder": "​",
            "_view_module": "@jupyter-widgets/controls",
            "_model_module_version": "1.5.0",
            "value": "Dl Size...: 100%",
            "_view_count": null,
            "_view_module_version": "1.5.0",
            "description_tooltip": null,
            "_model_module": "@jupyter-widgets/controls",
            "layout": "IPY_MODEL_47da1971801344b3ad06ac653ff415fb"
          }
        },
        "5752798ba894440daeeb810bb9eb192b": {
          "model_module": "@jupyter-widgets/controls",
          "model_name": "FloatProgressModel",
          "model_module_version": "1.5.0",
          "state": {
            "_view_name": "ProgressView",
            "style": "IPY_MODEL_4c810f3d2a4645419271b440659b14fd",
            "_dom_classes": [],
            "description": "",
            "_model_name": "FloatProgressModel",
            "bar_style": "success",
            "max": 1,
            "_view_module": "@jupyter-widgets/controls",
            "_model_module_version": "1.5.0",
            "value": 1,
            "_view_count": null,
            "_view_module_version": "1.5.0",
            "orientation": "horizontal",
            "min": 0,
            "description_tooltip": null,
            "_model_module": "@jupyter-widgets/controls",
            "layout": "IPY_MODEL_28480e8920fc451e9782b13cf45c18f3"
          }
        },
        "5f83820ccbc84032b04b8d71175c8be9": {
          "model_module": "@jupyter-widgets/controls",
          "model_name": "HTMLModel",
          "model_module_version": "1.5.0",
          "state": {
            "_view_name": "HTMLView",
            "style": "IPY_MODEL_687fd64759a24ce3ad1f9e5ca02aa6a6",
            "_dom_classes": [],
            "description": "",
            "_model_name": "HTMLModel",
            "placeholder": "​",
            "_view_module": "@jupyter-widgets/controls",
            "_model_module_version": "1.5.0",
            "value": " 124/124 [00:16&lt;00:00, 14.94 MiB/s]",
            "_view_count": null,
            "_view_module_version": "1.5.0",
            "description_tooltip": null,
            "_model_module": "@jupyter-widgets/controls",
            "layout": "IPY_MODEL_5e429e79567f408b91df0dc208adf41d"
          }
        },
        "89e371ce50004d758e5151b8d0ae0955": {
          "model_module": "@jupyter-widgets/controls",
          "model_name": "DescriptionStyleModel",
          "model_module_version": "1.5.0",
          "state": {
            "_view_name": "StyleView",
            "_model_name": "DescriptionStyleModel",
            "description_width": "",
            "_view_module": "@jupyter-widgets/base",
            "_model_module_version": "1.5.0",
            "_view_count": null,
            "_view_module_version": "1.2.0",
            "_model_module": "@jupyter-widgets/controls"
          }
        },
        "47da1971801344b3ad06ac653ff415fb": {
          "model_module": "@jupyter-widgets/base",
          "model_name": "LayoutModel",
          "model_module_version": "1.2.0",
          "state": {
            "_view_name": "LayoutView",
            "grid_template_rows": null,
            "right": null,
            "justify_content": null,
            "_view_module": "@jupyter-widgets/base",
            "overflow": null,
            "_model_module_version": "1.2.0",
            "_view_count": null,
            "flex_flow": null,
            "width": null,
            "min_width": null,
            "border": null,
            "align_items": null,
            "bottom": null,
            "_model_module": "@jupyter-widgets/base",
            "top": null,
            "grid_column": null,
            "overflow_y": null,
            "overflow_x": null,
            "grid_auto_flow": null,
            "grid_area": null,
            "grid_template_columns": null,
            "flex": null,
            "_model_name": "LayoutModel",
            "justify_items": null,
            "grid_row": null,
            "max_height": null,
            "align_content": null,
            "visibility": null,
            "align_self": null,
            "height": null,
            "min_height": null,
            "padding": null,
            "grid_auto_rows": null,
            "grid_gap": null,
            "max_width": null,
            "order": null,
            "_view_module_version": "1.2.0",
            "grid_template_areas": null,
            "object_position": null,
            "object_fit": null,
            "grid_auto_columns": null,
            "margin": null,
            "display": null,
            "left": null
          }
        },
        "4c810f3d2a4645419271b440659b14fd": {
          "model_module": "@jupyter-widgets/controls",
          "model_name": "ProgressStyleModel",
          "model_module_version": "1.5.0",
          "state": {
            "_view_name": "StyleView",
            "_model_name": "ProgressStyleModel",
            "description_width": "",
            "_view_module": "@jupyter-widgets/base",
            "_model_module_version": "1.5.0",
            "_view_count": null,
            "_view_module_version": "1.2.0",
            "bar_color": null,
            "_model_module": "@jupyter-widgets/controls"
          }
        },
        "28480e8920fc451e9782b13cf45c18f3": {
          "model_module": "@jupyter-widgets/base",
          "model_name": "LayoutModel",
          "model_module_version": "1.2.0",
          "state": {
            "_view_name": "LayoutView",
            "grid_template_rows": null,
            "right": null,
            "justify_content": null,
            "_view_module": "@jupyter-widgets/base",
            "overflow": null,
            "_model_module_version": "1.2.0",
            "_view_count": null,
            "flex_flow": null,
            "width": "20px",
            "min_width": null,
            "border": null,
            "align_items": null,
            "bottom": null,
            "_model_module": "@jupyter-widgets/base",
            "top": null,
            "grid_column": null,
            "overflow_y": null,
            "overflow_x": null,
            "grid_auto_flow": null,
            "grid_area": null,
            "grid_template_columns": null,
            "flex": null,
            "_model_name": "LayoutModel",
            "justify_items": null,
            "grid_row": null,
            "max_height": null,
            "align_content": null,
            "visibility": null,
            "align_self": null,
            "height": null,
            "min_height": null,
            "padding": null,
            "grid_auto_rows": null,
            "grid_gap": null,
            "max_width": null,
            "order": null,
            "_view_module_version": "1.2.0",
            "grid_template_areas": null,
            "object_position": null,
            "object_fit": null,
            "grid_auto_columns": null,
            "margin": null,
            "display": null,
            "left": null
          }
        },
        "687fd64759a24ce3ad1f9e5ca02aa6a6": {
          "model_module": "@jupyter-widgets/controls",
          "model_name": "DescriptionStyleModel",
          "model_module_version": "1.5.0",
          "state": {
            "_view_name": "StyleView",
            "_model_name": "DescriptionStyleModel",
            "description_width": "",
            "_view_module": "@jupyter-widgets/base",
            "_model_module_version": "1.5.0",
            "_view_count": null,
            "_view_module_version": "1.2.0",
            "_model_module": "@jupyter-widgets/controls"
          }
        },
        "5e429e79567f408b91df0dc208adf41d": {
          "model_module": "@jupyter-widgets/base",
          "model_name": "LayoutModel",
          "model_module_version": "1.2.0",
          "state": {
            "_view_name": "LayoutView",
            "grid_template_rows": null,
            "right": null,
            "justify_content": null,
            "_view_module": "@jupyter-widgets/base",
            "overflow": null,
            "_model_module_version": "1.2.0",
            "_view_count": null,
            "flex_flow": null,
            "width": null,
            "min_width": null,
            "border": null,
            "align_items": null,
            "bottom": null,
            "_model_module": "@jupyter-widgets/base",
            "top": null,
            "grid_column": null,
            "overflow_y": null,
            "overflow_x": null,
            "grid_auto_flow": null,
            "grid_area": null,
            "grid_template_columns": null,
            "flex": null,
            "_model_name": "LayoutModel",
            "justify_items": null,
            "grid_row": null,
            "max_height": null,
            "align_content": null,
            "visibility": null,
            "align_self": null,
            "height": null,
            "min_height": null,
            "padding": null,
            "grid_auto_rows": null,
            "grid_gap": null,
            "max_width": null,
            "order": null,
            "_view_module_version": "1.2.0",
            "grid_template_areas": null,
            "object_position": null,
            "object_fit": null,
            "grid_auto_columns": null,
            "margin": null,
            "display": null,
            "left": null
          }
        },
        "abdd1dc2f0ef4fb1852a32b1a1516a09": {
          "model_module": "@jupyter-widgets/controls",
          "model_name": "HBoxModel",
          "model_module_version": "1.5.0",
          "state": {
            "_view_name": "HBoxView",
            "_dom_classes": [],
            "_model_name": "HBoxModel",
            "_view_module": "@jupyter-widgets/controls",
            "_model_module_version": "1.5.0",
            "_view_count": null,
            "_view_module_version": "1.5.0",
            "box_style": "",
            "layout": "IPY_MODEL_4c433432f17b4468b910e312f5e814f7",
            "_model_module": "@jupyter-widgets/controls",
            "children": [
              "IPY_MODEL_b7ad12d664de430da1aeb0652f9f9bd9",
              "IPY_MODEL_3875774ee0514a4faeb74234d21b1d12",
              "IPY_MODEL_ebfb8f2447df4e38aedb9b734388d570"
            ]
          }
        },
        "4c433432f17b4468b910e312f5e814f7": {
          "model_module": "@jupyter-widgets/base",
          "model_name": "LayoutModel",
          "model_module_version": "1.2.0",
          "state": {
            "_view_name": "LayoutView",
            "grid_template_rows": null,
            "right": null,
            "justify_content": null,
            "_view_module": "@jupyter-widgets/base",
            "overflow": null,
            "_model_module_version": "1.2.0",
            "_view_count": null,
            "flex_flow": null,
            "width": null,
            "min_width": null,
            "border": null,
            "align_items": null,
            "bottom": null,
            "_model_module": "@jupyter-widgets/base",
            "top": null,
            "grid_column": null,
            "overflow_y": null,
            "overflow_x": null,
            "grid_auto_flow": null,
            "grid_area": null,
            "grid_template_columns": null,
            "flex": null,
            "_model_name": "LayoutModel",
            "justify_items": null,
            "grid_row": null,
            "max_height": null,
            "align_content": null,
            "visibility": null,
            "align_self": null,
            "height": null,
            "min_height": null,
            "padding": null,
            "grid_auto_rows": null,
            "grid_gap": null,
            "max_width": null,
            "order": null,
            "_view_module_version": "1.2.0",
            "grid_template_areas": null,
            "object_position": null,
            "object_fit": null,
            "grid_auto_columns": null,
            "margin": null,
            "display": null,
            "left": null
          }
        },
        "b7ad12d664de430da1aeb0652f9f9bd9": {
          "model_module": "@jupyter-widgets/controls",
          "model_name": "HTMLModel",
          "model_module_version": "1.5.0",
          "state": {
            "_view_name": "HTMLView",
            "style": "IPY_MODEL_95bfb9e97aa24e67b76104803a08d2f0",
            "_dom_classes": [],
            "description": "",
            "_model_name": "HTMLModel",
            "placeholder": "​",
            "_view_module": "@jupyter-widgets/controls",
            "_model_module_version": "1.5.0",
            "value": "Extraction completed...: 100%",
            "_view_count": null,
            "_view_module_version": "1.5.0",
            "description_tooltip": null,
            "_model_module": "@jupyter-widgets/controls",
            "layout": "IPY_MODEL_78d2bf72171a4163b4548632aa1f1a1f"
          }
        },
        "3875774ee0514a4faeb74234d21b1d12": {
          "model_module": "@jupyter-widgets/controls",
          "model_name": "FloatProgressModel",
          "model_module_version": "1.5.0",
          "state": {
            "_view_name": "ProgressView",
            "style": "IPY_MODEL_76884ecc283d4e8b861c66815fe7c93e",
            "_dom_classes": [],
            "description": "",
            "_model_name": "FloatProgressModel",
            "bar_style": "success",
            "max": 1,
            "_view_module": "@jupyter-widgets/controls",
            "_model_module_version": "1.5.0",
            "value": 1,
            "_view_count": null,
            "_view_module_version": "1.5.0",
            "orientation": "horizontal",
            "min": 0,
            "description_tooltip": null,
            "_model_module": "@jupyter-widgets/controls",
            "layout": "IPY_MODEL_9a0adccf125f440096b1788f12fbbe41"
          }
        },
        "ebfb8f2447df4e38aedb9b734388d570": {
          "model_module": "@jupyter-widgets/controls",
          "model_name": "HTMLModel",
          "model_module_version": "1.5.0",
          "state": {
            "_view_name": "HTMLView",
            "style": "IPY_MODEL_64ab740a8a49456a9c4739fc35ff86d9",
            "_dom_classes": [],
            "description": "",
            "_model_name": "HTMLModel",
            "placeholder": "​",
            "_view_module": "@jupyter-widgets/controls",
            "_model_module_version": "1.5.0",
            "value": " 1/1 [00:16&lt;00:00, 16.50s/ file]",
            "_view_count": null,
            "_view_module_version": "1.5.0",
            "description_tooltip": null,
            "_model_module": "@jupyter-widgets/controls",
            "layout": "IPY_MODEL_a3e116b038814c4fbf649bbe7dcab90e"
          }
        },
        "95bfb9e97aa24e67b76104803a08d2f0": {
          "model_module": "@jupyter-widgets/controls",
          "model_name": "DescriptionStyleModel",
          "model_module_version": "1.5.0",
          "state": {
            "_view_name": "StyleView",
            "_model_name": "DescriptionStyleModel",
            "description_width": "",
            "_view_module": "@jupyter-widgets/base",
            "_model_module_version": "1.5.0",
            "_view_count": null,
            "_view_module_version": "1.2.0",
            "_model_module": "@jupyter-widgets/controls"
          }
        },
        "78d2bf72171a4163b4548632aa1f1a1f": {
          "model_module": "@jupyter-widgets/base",
          "model_name": "LayoutModel",
          "model_module_version": "1.2.0",
          "state": {
            "_view_name": "LayoutView",
            "grid_template_rows": null,
            "right": null,
            "justify_content": null,
            "_view_module": "@jupyter-widgets/base",
            "overflow": null,
            "_model_module_version": "1.2.0",
            "_view_count": null,
            "flex_flow": null,
            "width": null,
            "min_width": null,
            "border": null,
            "align_items": null,
            "bottom": null,
            "_model_module": "@jupyter-widgets/base",
            "top": null,
            "grid_column": null,
            "overflow_y": null,
            "overflow_x": null,
            "grid_auto_flow": null,
            "grid_area": null,
            "grid_template_columns": null,
            "flex": null,
            "_model_name": "LayoutModel",
            "justify_items": null,
            "grid_row": null,
            "max_height": null,
            "align_content": null,
            "visibility": null,
            "align_self": null,
            "height": null,
            "min_height": null,
            "padding": null,
            "grid_auto_rows": null,
            "grid_gap": null,
            "max_width": null,
            "order": null,
            "_view_module_version": "1.2.0",
            "grid_template_areas": null,
            "object_position": null,
            "object_fit": null,
            "grid_auto_columns": null,
            "margin": null,
            "display": null,
            "left": null
          }
        },
        "76884ecc283d4e8b861c66815fe7c93e": {
          "model_module": "@jupyter-widgets/controls",
          "model_name": "ProgressStyleModel",
          "model_module_version": "1.5.0",
          "state": {
            "_view_name": "StyleView",
            "_model_name": "ProgressStyleModel",
            "description_width": "",
            "_view_module": "@jupyter-widgets/base",
            "_model_module_version": "1.5.0",
            "_view_count": null,
            "_view_module_version": "1.2.0",
            "bar_color": null,
            "_model_module": "@jupyter-widgets/controls"
          }
        },
        "9a0adccf125f440096b1788f12fbbe41": {
          "model_module": "@jupyter-widgets/base",
          "model_name": "LayoutModel",
          "model_module_version": "1.2.0",
          "state": {
            "_view_name": "LayoutView",
            "grid_template_rows": null,
            "right": null,
            "justify_content": null,
            "_view_module": "@jupyter-widgets/base",
            "overflow": null,
            "_model_module_version": "1.2.0",
            "_view_count": null,
            "flex_flow": null,
            "width": "20px",
            "min_width": null,
            "border": null,
            "align_items": null,
            "bottom": null,
            "_model_module": "@jupyter-widgets/base",
            "top": null,
            "grid_column": null,
            "overflow_y": null,
            "overflow_x": null,
            "grid_auto_flow": null,
            "grid_area": null,
            "grid_template_columns": null,
            "flex": null,
            "_model_name": "LayoutModel",
            "justify_items": null,
            "grid_row": null,
            "max_height": null,
            "align_content": null,
            "visibility": null,
            "align_self": null,
            "height": null,
            "min_height": null,
            "padding": null,
            "grid_auto_rows": null,
            "grid_gap": null,
            "max_width": null,
            "order": null,
            "_view_module_version": "1.2.0",
            "grid_template_areas": null,
            "object_position": null,
            "object_fit": null,
            "grid_auto_columns": null,
            "margin": null,
            "display": null,
            "left": null
          }
        },
        "64ab740a8a49456a9c4739fc35ff86d9": {
          "model_module": "@jupyter-widgets/controls",
          "model_name": "DescriptionStyleModel",
          "model_module_version": "1.5.0",
          "state": {
            "_view_name": "StyleView",
            "_model_name": "DescriptionStyleModel",
            "description_width": "",
            "_view_module": "@jupyter-widgets/base",
            "_model_module_version": "1.5.0",
            "_view_count": null,
            "_view_module_version": "1.2.0",
            "_model_module": "@jupyter-widgets/controls"
          }
        },
        "a3e116b038814c4fbf649bbe7dcab90e": {
          "model_module": "@jupyter-widgets/base",
          "model_name": "LayoutModel",
          "model_module_version": "1.2.0",
          "state": {
            "_view_name": "LayoutView",
            "grid_template_rows": null,
            "right": null,
            "justify_content": null,
            "_view_module": "@jupyter-widgets/base",
            "overflow": null,
            "_model_module_version": "1.2.0",
            "_view_count": null,
            "flex_flow": null,
            "width": null,
            "min_width": null,
            "border": null,
            "align_items": null,
            "bottom": null,
            "_model_module": "@jupyter-widgets/base",
            "top": null,
            "grid_column": null,
            "overflow_y": null,
            "overflow_x": null,
            "grid_auto_flow": null,
            "grid_area": null,
            "grid_template_columns": null,
            "flex": null,
            "_model_name": "LayoutModel",
            "justify_items": null,
            "grid_row": null,
            "max_height": null,
            "align_content": null,
            "visibility": null,
            "align_self": null,
            "height": null,
            "min_height": null,
            "padding": null,
            "grid_auto_rows": null,
            "grid_gap": null,
            "max_width": null,
            "order": null,
            "_view_module_version": "1.2.0",
            "grid_template_areas": null,
            "object_position": null,
            "object_fit": null,
            "grid_auto_columns": null,
            "margin": null,
            "display": null,
            "left": null
          }
        },
        "dd961ec1a10e4efc9207cd123115ccd0": {
          "model_module": "@jupyter-widgets/controls",
          "model_name": "HBoxModel",
          "model_module_version": "1.5.0",
          "state": {
            "_view_name": "HBoxView",
            "_dom_classes": [],
            "_model_name": "HBoxModel",
            "_view_module": "@jupyter-widgets/controls",
            "_model_module_version": "1.5.0",
            "_view_count": null,
            "_view_module_version": "1.5.0",
            "box_style": "",
            "layout": "IPY_MODEL_d76db251f97c4b1e877a1b301024d7b9",
            "_model_module": "@jupyter-widgets/controls",
            "children": [
              "IPY_MODEL_c950dbdb3af84cdf8ab95cb55e833a27",
              "IPY_MODEL_7697fe5786284d4a9facd2e9c20f5732",
              "IPY_MODEL_06b9411a8f0646b2a6ef320a8e368648"
            ]
          }
        },
        "d76db251f97c4b1e877a1b301024d7b9": {
          "model_module": "@jupyter-widgets/base",
          "model_name": "LayoutModel",
          "model_module_version": "1.2.0",
          "state": {
            "_view_name": "LayoutView",
            "grid_template_rows": null,
            "right": null,
            "justify_content": null,
            "_view_module": "@jupyter-widgets/base",
            "overflow": null,
            "_model_module_version": "1.2.0",
            "_view_count": null,
            "flex_flow": null,
            "width": null,
            "min_width": null,
            "border": null,
            "align_items": null,
            "bottom": null,
            "_model_module": "@jupyter-widgets/base",
            "top": null,
            "grid_column": null,
            "overflow_y": null,
            "overflow_x": null,
            "grid_auto_flow": null,
            "grid_area": null,
            "grid_template_columns": null,
            "flex": null,
            "_model_name": "LayoutModel",
            "justify_items": null,
            "grid_row": null,
            "max_height": null,
            "align_content": null,
            "visibility": null,
            "align_self": null,
            "height": null,
            "min_height": null,
            "padding": null,
            "grid_auto_rows": null,
            "grid_gap": null,
            "max_width": null,
            "order": null,
            "_view_module_version": "1.2.0",
            "grid_template_areas": null,
            "object_position": null,
            "object_fit": null,
            "grid_auto_columns": null,
            "margin": null,
            "display": null,
            "left": null
          }
        },
        "c950dbdb3af84cdf8ab95cb55e833a27": {
          "model_module": "@jupyter-widgets/controls",
          "model_name": "HTMLModel",
          "model_module_version": "1.5.0",
          "state": {
            "_view_name": "HTMLView",
            "style": "IPY_MODEL_8eec9159f31f465e9b925c1c9a801984",
            "_dom_classes": [],
            "description": "",
            "_model_name": "HTMLModel",
            "placeholder": "​",
            "_view_module": "@jupyter-widgets/controls",
            "_model_module_version": "1.5.0",
            "value": "",
            "_view_count": null,
            "_view_module_version": "1.5.0",
            "description_tooltip": null,
            "_model_module": "@jupyter-widgets/controls",
            "layout": "IPY_MODEL_23b734a28fe14c65a8f3235af985c06d"
          }
        },
        "7697fe5786284d4a9facd2e9c20f5732": {
          "model_module": "@jupyter-widgets/controls",
          "model_name": "FloatProgressModel",
          "model_module_version": "1.5.0",
          "state": {
            "_view_name": "ProgressView",
            "style": "IPY_MODEL_619d141a45be4c7180bd85a1d240eb76",
            "_dom_classes": [],
            "description": "",
            "_model_name": "FloatProgressModel",
            "bar_style": "info",
            "max": 1,
            "_view_module": "@jupyter-widgets/controls",
            "_model_module_version": "1.5.0",
            "value": 1,
            "_view_count": null,
            "_view_module_version": "1.5.0",
            "orientation": "horizontal",
            "min": 0,
            "description_tooltip": null,
            "_model_module": "@jupyter-widgets/controls",
            "layout": "IPY_MODEL_0b980243b6dc4cdf8b866dbb670eb9df"
          }
        },
        "06b9411a8f0646b2a6ef320a8e368648": {
          "model_module": "@jupyter-widgets/controls",
          "model_name": "HTMLModel",
          "model_module_version": "1.5.0",
          "state": {
            "_view_name": "HTMLView",
            "style": "IPY_MODEL_07b8f8ffe3274613abbebc5da64aa40a",
            "_dom_classes": [],
            "description": "",
            "_model_name": "HTMLModel",
            "placeholder": "​",
            "_view_module": "@jupyter-widgets/controls",
            "_model_module_version": "1.5.0",
            "value": " 51358/0 [00:12&lt;00:00, 4255.29 examples/s]",
            "_view_count": null,
            "_view_module_version": "1.5.0",
            "description_tooltip": null,
            "_model_module": "@jupyter-widgets/controls",
            "layout": "IPY_MODEL_8d79bab9a89245eda8a8ad737d7372fe"
          }
        },
        "8eec9159f31f465e9b925c1c9a801984": {
          "model_module": "@jupyter-widgets/controls",
          "model_name": "DescriptionStyleModel",
          "model_module_version": "1.5.0",
          "state": {
            "_view_name": "StyleView",
            "_model_name": "DescriptionStyleModel",
            "description_width": "",
            "_view_module": "@jupyter-widgets/base",
            "_model_module_version": "1.5.0",
            "_view_count": null,
            "_view_module_version": "1.2.0",
            "_model_module": "@jupyter-widgets/controls"
          }
        },
        "23b734a28fe14c65a8f3235af985c06d": {
          "model_module": "@jupyter-widgets/base",
          "model_name": "LayoutModel",
          "model_module_version": "1.2.0",
          "state": {
            "_view_name": "LayoutView",
            "grid_template_rows": null,
            "right": null,
            "justify_content": null,
            "_view_module": "@jupyter-widgets/base",
            "overflow": null,
            "_model_module_version": "1.2.0",
            "_view_count": null,
            "flex_flow": null,
            "width": null,
            "min_width": null,
            "border": null,
            "align_items": null,
            "bottom": null,
            "_model_module": "@jupyter-widgets/base",
            "top": null,
            "grid_column": null,
            "overflow_y": null,
            "overflow_x": null,
            "grid_auto_flow": null,
            "grid_area": null,
            "grid_template_columns": null,
            "flex": null,
            "_model_name": "LayoutModel",
            "justify_items": null,
            "grid_row": null,
            "max_height": null,
            "align_content": null,
            "visibility": null,
            "align_self": null,
            "height": null,
            "min_height": null,
            "padding": null,
            "grid_auto_rows": null,
            "grid_gap": null,
            "max_width": null,
            "order": null,
            "_view_module_version": "1.2.0",
            "grid_template_areas": null,
            "object_position": null,
            "object_fit": null,
            "grid_auto_columns": null,
            "margin": null,
            "display": null,
            "left": null
          }
        },
        "619d141a45be4c7180bd85a1d240eb76": {
          "model_module": "@jupyter-widgets/controls",
          "model_name": "ProgressStyleModel",
          "model_module_version": "1.5.0",
          "state": {
            "_view_name": "StyleView",
            "_model_name": "ProgressStyleModel",
            "description_width": "",
            "_view_module": "@jupyter-widgets/base",
            "_model_module_version": "1.5.0",
            "_view_count": null,
            "_view_module_version": "1.2.0",
            "bar_color": null,
            "_model_module": "@jupyter-widgets/controls"
          }
        },
        "0b980243b6dc4cdf8b866dbb670eb9df": {
          "model_module": "@jupyter-widgets/base",
          "model_name": "LayoutModel",
          "model_module_version": "1.2.0",
          "state": {
            "_view_name": "LayoutView",
            "grid_template_rows": null,
            "right": null,
            "justify_content": null,
            "_view_module": "@jupyter-widgets/base",
            "overflow": null,
            "_model_module_version": "1.2.0",
            "_view_count": null,
            "flex_flow": null,
            "width": "20px",
            "min_width": null,
            "border": null,
            "align_items": null,
            "bottom": null,
            "_model_module": "@jupyter-widgets/base",
            "top": null,
            "grid_column": null,
            "overflow_y": null,
            "overflow_x": null,
            "grid_auto_flow": null,
            "grid_area": null,
            "grid_template_columns": null,
            "flex": null,
            "_model_name": "LayoutModel",
            "justify_items": null,
            "grid_row": null,
            "max_height": null,
            "align_content": null,
            "visibility": null,
            "align_self": null,
            "height": null,
            "min_height": null,
            "padding": null,
            "grid_auto_rows": null,
            "grid_gap": null,
            "max_width": null,
            "order": null,
            "_view_module_version": "1.2.0",
            "grid_template_areas": null,
            "object_position": null,
            "object_fit": null,
            "grid_auto_columns": null,
            "margin": null,
            "display": null,
            "left": null
          }
        },
        "07b8f8ffe3274613abbebc5da64aa40a": {
          "model_module": "@jupyter-widgets/controls",
          "model_name": "DescriptionStyleModel",
          "model_module_version": "1.5.0",
          "state": {
            "_view_name": "StyleView",
            "_model_name": "DescriptionStyleModel",
            "description_width": "",
            "_view_module": "@jupyter-widgets/base",
            "_model_module_version": "1.5.0",
            "_view_count": null,
            "_view_module_version": "1.2.0",
            "_model_module": "@jupyter-widgets/controls"
          }
        },
        "8d79bab9a89245eda8a8ad737d7372fe": {
          "model_module": "@jupyter-widgets/base",
          "model_name": "LayoutModel",
          "model_module_version": "1.2.0",
          "state": {
            "_view_name": "LayoutView",
            "grid_template_rows": null,
            "right": null,
            "justify_content": null,
            "_view_module": "@jupyter-widgets/base",
            "overflow": null,
            "_model_module_version": "1.2.0",
            "_view_count": null,
            "flex_flow": null,
            "width": null,
            "min_width": null,
            "border": null,
            "align_items": null,
            "bottom": null,
            "_model_module": "@jupyter-widgets/base",
            "top": null,
            "grid_column": null,
            "overflow_y": null,
            "overflow_x": null,
            "grid_auto_flow": null,
            "grid_area": null,
            "grid_template_columns": null,
            "flex": null,
            "_model_name": "LayoutModel",
            "justify_items": null,
            "grid_row": null,
            "max_height": null,
            "align_content": null,
            "visibility": null,
            "align_self": null,
            "height": null,
            "min_height": null,
            "padding": null,
            "grid_auto_rows": null,
            "grid_gap": null,
            "max_width": null,
            "order": null,
            "_view_module_version": "1.2.0",
            "grid_template_areas": null,
            "object_position": null,
            "object_fit": null,
            "grid_auto_columns": null,
            "margin": null,
            "display": null,
            "left": null
          }
        },
        "46551630b69d43bbbf52e83e107f614d": {
          "model_module": "@jupyter-widgets/controls",
          "model_name": "HBoxModel",
          "model_module_version": "1.5.0",
          "state": {
            "_view_name": "HBoxView",
            "_dom_classes": [],
            "_model_name": "HBoxModel",
            "_view_module": "@jupyter-widgets/controls",
            "_model_module_version": "1.5.0",
            "_view_count": null,
            "_view_module_version": "1.5.0",
            "box_style": "",
            "layout": "IPY_MODEL_bda0f411bb054c369277441ebfe82d47",
            "_model_module": "@jupyter-widgets/controls",
            "children": [
              "IPY_MODEL_11543bec734a4c1a92f9552f2316a1a7",
              "IPY_MODEL_97978472fa274fa4bfa77ad842766eb2",
              "IPY_MODEL_cfe4dfd666a6405b89a22cb4d59df8b4"
            ]
          }
        },
        "bda0f411bb054c369277441ebfe82d47": {
          "model_module": "@jupyter-widgets/base",
          "model_name": "LayoutModel",
          "model_module_version": "1.2.0",
          "state": {
            "_view_name": "LayoutView",
            "grid_template_rows": null,
            "right": null,
            "justify_content": null,
            "_view_module": "@jupyter-widgets/base",
            "overflow": null,
            "_model_module_version": "1.2.0",
            "_view_count": null,
            "flex_flow": null,
            "width": null,
            "min_width": null,
            "border": null,
            "align_items": null,
            "bottom": null,
            "_model_module": "@jupyter-widgets/base",
            "top": null,
            "grid_column": null,
            "overflow_y": null,
            "overflow_x": null,
            "grid_auto_flow": null,
            "grid_area": null,
            "grid_template_columns": null,
            "flex": null,
            "_model_name": "LayoutModel",
            "justify_items": null,
            "grid_row": null,
            "max_height": null,
            "align_content": null,
            "visibility": null,
            "align_self": null,
            "height": null,
            "min_height": null,
            "padding": null,
            "grid_auto_rows": null,
            "grid_gap": null,
            "max_width": null,
            "order": null,
            "_view_module_version": "1.2.0",
            "grid_template_areas": null,
            "object_position": null,
            "object_fit": null,
            "grid_auto_columns": null,
            "margin": null,
            "display": null,
            "left": null
          }
        },
        "11543bec734a4c1a92f9552f2316a1a7": {
          "model_module": "@jupyter-widgets/controls",
          "model_name": "HTMLModel",
          "model_module_version": "1.5.0",
          "state": {
            "_view_name": "HTMLView",
            "style": "IPY_MODEL_b7f556a703e24b86a5e49efc4e8ae4ec",
            "_dom_classes": [],
            "description": "",
            "_model_name": "HTMLModel",
            "placeholder": "​",
            "_view_module": "@jupyter-widgets/controls",
            "_model_module_version": "1.5.0",
            "value": "100%",
            "_view_count": null,
            "_view_module_version": "1.5.0",
            "description_tooltip": null,
            "_model_module": "@jupyter-widgets/controls",
            "layout": "IPY_MODEL_bd0ddde764134fa5b6647f7426753806"
          }
        },
        "97978472fa274fa4bfa77ad842766eb2": {
          "model_module": "@jupyter-widgets/controls",
          "model_name": "FloatProgressModel",
          "model_module_version": "1.5.0",
          "state": {
            "_view_name": "ProgressView",
            "style": "IPY_MODEL_05584c36b86244e2b8713fc2f8a76719",
            "_dom_classes": [],
            "description": "",
            "_model_name": "FloatProgressModel",
            "bar_style": "danger",
            "max": 51785,
            "_view_module": "@jupyter-widgets/controls",
            "_model_module_version": "1.5.0",
            "value": 51784,
            "_view_count": null,
            "_view_module_version": "1.5.0",
            "orientation": "horizontal",
            "min": 0,
            "description_tooltip": null,
            "_model_module": "@jupyter-widgets/controls",
            "layout": "IPY_MODEL_b331c209f5884221b47cd36001109b10"
          }
        },
        "cfe4dfd666a6405b89a22cb4d59df8b4": {
          "model_module": "@jupyter-widgets/controls",
          "model_name": "HTMLModel",
          "model_module_version": "1.5.0",
          "state": {
            "_view_name": "HTMLView",
            "style": "IPY_MODEL_3ff8e5f47ac3475ba0821bf3e30725a8",
            "_dom_classes": [],
            "description": "",
            "_model_name": "HTMLModel",
            "placeholder": "​",
            "_view_module": "@jupyter-widgets/controls",
            "_model_module_version": "1.5.0",
            "value": " 51784/51785 [00:00&lt;00:00, 166788.89 examples/s]",
            "_view_count": null,
            "_view_module_version": "1.5.0",
            "description_tooltip": null,
            "_model_module": "@jupyter-widgets/controls",
            "layout": "IPY_MODEL_e895fa141a8e4189b1229f4c9a0f61c2"
          }
        },
        "b7f556a703e24b86a5e49efc4e8ae4ec": {
          "model_module": "@jupyter-widgets/controls",
          "model_name": "DescriptionStyleModel",
          "model_module_version": "1.5.0",
          "state": {
            "_view_name": "StyleView",
            "_model_name": "DescriptionStyleModel",
            "description_width": "",
            "_view_module": "@jupyter-widgets/base",
            "_model_module_version": "1.5.0",
            "_view_count": null,
            "_view_module_version": "1.2.0",
            "_model_module": "@jupyter-widgets/controls"
          }
        },
        "bd0ddde764134fa5b6647f7426753806": {
          "model_module": "@jupyter-widgets/base",
          "model_name": "LayoutModel",
          "model_module_version": "1.2.0",
          "state": {
            "_view_name": "LayoutView",
            "grid_template_rows": null,
            "right": null,
            "justify_content": null,
            "_view_module": "@jupyter-widgets/base",
            "overflow": null,
            "_model_module_version": "1.2.0",
            "_view_count": null,
            "flex_flow": null,
            "width": null,
            "min_width": null,
            "border": null,
            "align_items": null,
            "bottom": null,
            "_model_module": "@jupyter-widgets/base",
            "top": null,
            "grid_column": null,
            "overflow_y": null,
            "overflow_x": null,
            "grid_auto_flow": null,
            "grid_area": null,
            "grid_template_columns": null,
            "flex": null,
            "_model_name": "LayoutModel",
            "justify_items": null,
            "grid_row": null,
            "max_height": null,
            "align_content": null,
            "visibility": null,
            "align_self": null,
            "height": null,
            "min_height": null,
            "padding": null,
            "grid_auto_rows": null,
            "grid_gap": null,
            "max_width": null,
            "order": null,
            "_view_module_version": "1.2.0",
            "grid_template_areas": null,
            "object_position": null,
            "object_fit": null,
            "grid_auto_columns": null,
            "margin": null,
            "display": null,
            "left": null
          }
        },
        "05584c36b86244e2b8713fc2f8a76719": {
          "model_module": "@jupyter-widgets/controls",
          "model_name": "ProgressStyleModel",
          "model_module_version": "1.5.0",
          "state": {
            "_view_name": "StyleView",
            "_model_name": "ProgressStyleModel",
            "description_width": "",
            "_view_module": "@jupyter-widgets/base",
            "_model_module_version": "1.5.0",
            "_view_count": null,
            "_view_module_version": "1.2.0",
            "bar_color": null,
            "_model_module": "@jupyter-widgets/controls"
          }
        },
        "b331c209f5884221b47cd36001109b10": {
          "model_module": "@jupyter-widgets/base",
          "model_name": "LayoutModel",
          "model_module_version": "1.2.0",
          "state": {
            "_view_name": "LayoutView",
            "grid_template_rows": null,
            "right": null,
            "justify_content": null,
            "_view_module": "@jupyter-widgets/base",
            "overflow": null,
            "_model_module_version": "1.2.0",
            "_view_count": null,
            "flex_flow": null,
            "width": null,
            "min_width": null,
            "border": null,
            "align_items": null,
            "bottom": null,
            "_model_module": "@jupyter-widgets/base",
            "top": null,
            "grid_column": null,
            "overflow_y": null,
            "overflow_x": null,
            "grid_auto_flow": null,
            "grid_area": null,
            "grid_template_columns": null,
            "flex": null,
            "_model_name": "LayoutModel",
            "justify_items": null,
            "grid_row": null,
            "max_height": null,
            "align_content": null,
            "visibility": null,
            "align_self": null,
            "height": null,
            "min_height": null,
            "padding": null,
            "grid_auto_rows": null,
            "grid_gap": null,
            "max_width": null,
            "order": null,
            "_view_module_version": "1.2.0",
            "grid_template_areas": null,
            "object_position": null,
            "object_fit": null,
            "grid_auto_columns": null,
            "margin": null,
            "display": null,
            "left": null
          }
        },
        "3ff8e5f47ac3475ba0821bf3e30725a8": {
          "model_module": "@jupyter-widgets/controls",
          "model_name": "DescriptionStyleModel",
          "model_module_version": "1.5.0",
          "state": {
            "_view_name": "StyleView",
            "_model_name": "DescriptionStyleModel",
            "description_width": "",
            "_view_module": "@jupyter-widgets/base",
            "_model_module_version": "1.5.0",
            "_view_count": null,
            "_view_module_version": "1.2.0",
            "_model_module": "@jupyter-widgets/controls"
          }
        },
        "e895fa141a8e4189b1229f4c9a0f61c2": {
          "model_module": "@jupyter-widgets/base",
          "model_name": "LayoutModel",
          "model_module_version": "1.2.0",
          "state": {
            "_view_name": "LayoutView",
            "grid_template_rows": null,
            "right": null,
            "justify_content": null,
            "_view_module": "@jupyter-widgets/base",
            "overflow": null,
            "_model_module_version": "1.2.0",
            "_view_count": null,
            "flex_flow": null,
            "width": null,
            "min_width": null,
            "border": null,
            "align_items": null,
            "bottom": null,
            "_model_module": "@jupyter-widgets/base",
            "top": null,
            "grid_column": null,
            "overflow_y": null,
            "overflow_x": null,
            "grid_auto_flow": null,
            "grid_area": null,
            "grid_template_columns": null,
            "flex": null,
            "_model_name": "LayoutModel",
            "justify_items": null,
            "grid_row": null,
            "max_height": null,
            "align_content": null,
            "visibility": null,
            "align_self": null,
            "height": null,
            "min_height": null,
            "padding": null,
            "grid_auto_rows": null,
            "grid_gap": null,
            "max_width": null,
            "order": null,
            "_view_module_version": "1.2.0",
            "grid_template_areas": null,
            "object_position": null,
            "object_fit": null,
            "grid_auto_columns": null,
            "margin": null,
            "display": null,
            "left": null
          }
        },
        "698e7f8c48194a99877ba31558e6b398": {
          "model_module": "@jupyter-widgets/controls",
          "model_name": "HBoxModel",
          "model_module_version": "1.5.0",
          "state": {
            "_view_name": "HBoxView",
            "_dom_classes": [],
            "_model_name": "HBoxModel",
            "_view_module": "@jupyter-widgets/controls",
            "_model_module_version": "1.5.0",
            "_view_count": null,
            "_view_module_version": "1.5.0",
            "box_style": "",
            "layout": "IPY_MODEL_c9896653dd814d0eaa16d3d442bcb18a",
            "_model_module": "@jupyter-widgets/controls",
            "children": [
              "IPY_MODEL_8f2cad7a5a4a4724a973d68a64616d14",
              "IPY_MODEL_f795192935bb45d1b87e0dd03b8223da",
              "IPY_MODEL_7cb0a87925e64a8da8aacb03448f1fac"
            ]
          }
        },
        "c9896653dd814d0eaa16d3d442bcb18a": {
          "model_module": "@jupyter-widgets/base",
          "model_name": "LayoutModel",
          "model_module_version": "1.2.0",
          "state": {
            "_view_name": "LayoutView",
            "grid_template_rows": null,
            "right": null,
            "justify_content": null,
            "_view_module": "@jupyter-widgets/base",
            "overflow": null,
            "_model_module_version": "1.2.0",
            "_view_count": null,
            "flex_flow": null,
            "width": null,
            "min_width": null,
            "border": null,
            "align_items": null,
            "bottom": null,
            "_model_module": "@jupyter-widgets/base",
            "top": null,
            "grid_column": null,
            "overflow_y": null,
            "overflow_x": null,
            "grid_auto_flow": null,
            "grid_area": null,
            "grid_template_columns": null,
            "flex": null,
            "_model_name": "LayoutModel",
            "justify_items": null,
            "grid_row": null,
            "max_height": null,
            "align_content": null,
            "visibility": null,
            "align_self": null,
            "height": null,
            "min_height": null,
            "padding": null,
            "grid_auto_rows": null,
            "grid_gap": null,
            "max_width": null,
            "order": null,
            "_view_module_version": "1.2.0",
            "grid_template_areas": null,
            "object_position": null,
            "object_fit": null,
            "grid_auto_columns": null,
            "margin": null,
            "display": null,
            "left": null
          }
        },
        "8f2cad7a5a4a4724a973d68a64616d14": {
          "model_module": "@jupyter-widgets/controls",
          "model_name": "HTMLModel",
          "model_module_version": "1.5.0",
          "state": {
            "_view_name": "HTMLView",
            "style": "IPY_MODEL_9061399d706649128cce3b8a219eab4e",
            "_dom_classes": [],
            "description": "",
            "_model_name": "HTMLModel",
            "placeholder": "​",
            "_view_module": "@jupyter-widgets/controls",
            "_model_module_version": "1.5.0",
            "value": "",
            "_view_count": null,
            "_view_module_version": "1.5.0",
            "description_tooltip": null,
            "_model_module": "@jupyter-widgets/controls",
            "layout": "IPY_MODEL_ac0c193925f94c51864329214fac9f3d"
          }
        },
        "f795192935bb45d1b87e0dd03b8223da": {
          "model_module": "@jupyter-widgets/controls",
          "model_name": "FloatProgressModel",
          "model_module_version": "1.5.0",
          "state": {
            "_view_name": "ProgressView",
            "style": "IPY_MODEL_7da201e74e6d41e0b037dae4b6956ebb",
            "_dom_classes": [],
            "description": "",
            "_model_name": "FloatProgressModel",
            "bar_style": "info",
            "max": 1,
            "_view_module": "@jupyter-widgets/controls",
            "_model_module_version": "1.5.0",
            "value": 1,
            "_view_count": null,
            "_view_module_version": "1.5.0",
            "orientation": "horizontal",
            "min": 0,
            "description_tooltip": null,
            "_model_module": "@jupyter-widgets/controls",
            "layout": "IPY_MODEL_49671f7febce46e68893f2f7d9e60d08"
          }
        },
        "7cb0a87925e64a8da8aacb03448f1fac": {
          "model_module": "@jupyter-widgets/controls",
          "model_name": "HTMLModel",
          "model_module_version": "1.5.0",
          "state": {
            "_view_name": "HTMLView",
            "style": "IPY_MODEL_def4e4db9e864542aeaf7efdbc3765ac",
            "_dom_classes": [],
            "description": "",
            "_model_name": "HTMLModel",
            "placeholder": "​",
            "_view_module": "@jupyter-widgets/controls",
            "_model_module_version": "1.5.0",
            "value": " 829/0 [00:00&lt;00:00, 3098.66 examples/s]",
            "_view_count": null,
            "_view_module_version": "1.5.0",
            "description_tooltip": null,
            "_model_module": "@jupyter-widgets/controls",
            "layout": "IPY_MODEL_bdd1f2c49ae04f90bcccf8742e75725e"
          }
        },
        "9061399d706649128cce3b8a219eab4e": {
          "model_module": "@jupyter-widgets/controls",
          "model_name": "DescriptionStyleModel",
          "model_module_version": "1.5.0",
          "state": {
            "_view_name": "StyleView",
            "_model_name": "DescriptionStyleModel",
            "description_width": "",
            "_view_module": "@jupyter-widgets/base",
            "_model_module_version": "1.5.0",
            "_view_count": null,
            "_view_module_version": "1.2.0",
            "_model_module": "@jupyter-widgets/controls"
          }
        },
        "ac0c193925f94c51864329214fac9f3d": {
          "model_module": "@jupyter-widgets/base",
          "model_name": "LayoutModel",
          "model_module_version": "1.2.0",
          "state": {
            "_view_name": "LayoutView",
            "grid_template_rows": null,
            "right": null,
            "justify_content": null,
            "_view_module": "@jupyter-widgets/base",
            "overflow": null,
            "_model_module_version": "1.2.0",
            "_view_count": null,
            "flex_flow": null,
            "width": null,
            "min_width": null,
            "border": null,
            "align_items": null,
            "bottom": null,
            "_model_module": "@jupyter-widgets/base",
            "top": null,
            "grid_column": null,
            "overflow_y": null,
            "overflow_x": null,
            "grid_auto_flow": null,
            "grid_area": null,
            "grid_template_columns": null,
            "flex": null,
            "_model_name": "LayoutModel",
            "justify_items": null,
            "grid_row": null,
            "max_height": null,
            "align_content": null,
            "visibility": null,
            "align_self": null,
            "height": null,
            "min_height": null,
            "padding": null,
            "grid_auto_rows": null,
            "grid_gap": null,
            "max_width": null,
            "order": null,
            "_view_module_version": "1.2.0",
            "grid_template_areas": null,
            "object_position": null,
            "object_fit": null,
            "grid_auto_columns": null,
            "margin": null,
            "display": null,
            "left": null
          }
        },
        "7da201e74e6d41e0b037dae4b6956ebb": {
          "model_module": "@jupyter-widgets/controls",
          "model_name": "ProgressStyleModel",
          "model_module_version": "1.5.0",
          "state": {
            "_view_name": "StyleView",
            "_model_name": "ProgressStyleModel",
            "description_width": "",
            "_view_module": "@jupyter-widgets/base",
            "_model_module_version": "1.5.0",
            "_view_count": null,
            "_view_module_version": "1.2.0",
            "bar_color": null,
            "_model_module": "@jupyter-widgets/controls"
          }
        },
        "49671f7febce46e68893f2f7d9e60d08": {
          "model_module": "@jupyter-widgets/base",
          "model_name": "LayoutModel",
          "model_module_version": "1.2.0",
          "state": {
            "_view_name": "LayoutView",
            "grid_template_rows": null,
            "right": null,
            "justify_content": null,
            "_view_module": "@jupyter-widgets/base",
            "overflow": null,
            "_model_module_version": "1.2.0",
            "_view_count": null,
            "flex_flow": null,
            "width": "20px",
            "min_width": null,
            "border": null,
            "align_items": null,
            "bottom": null,
            "_model_module": "@jupyter-widgets/base",
            "top": null,
            "grid_column": null,
            "overflow_y": null,
            "overflow_x": null,
            "grid_auto_flow": null,
            "grid_area": null,
            "grid_template_columns": null,
            "flex": null,
            "_model_name": "LayoutModel",
            "justify_items": null,
            "grid_row": null,
            "max_height": null,
            "align_content": null,
            "visibility": null,
            "align_self": null,
            "height": null,
            "min_height": null,
            "padding": null,
            "grid_auto_rows": null,
            "grid_gap": null,
            "max_width": null,
            "order": null,
            "_view_module_version": "1.2.0",
            "grid_template_areas": null,
            "object_position": null,
            "object_fit": null,
            "grid_auto_columns": null,
            "margin": null,
            "display": null,
            "left": null
          }
        },
        "def4e4db9e864542aeaf7efdbc3765ac": {
          "model_module": "@jupyter-widgets/controls",
          "model_name": "DescriptionStyleModel",
          "model_module_version": "1.5.0",
          "state": {
            "_view_name": "StyleView",
            "_model_name": "DescriptionStyleModel",
            "description_width": "",
            "_view_module": "@jupyter-widgets/base",
            "_model_module_version": "1.5.0",
            "_view_count": null,
            "_view_module_version": "1.2.0",
            "_model_module": "@jupyter-widgets/controls"
          }
        },
        "bdd1f2c49ae04f90bcccf8742e75725e": {
          "model_module": "@jupyter-widgets/base",
          "model_name": "LayoutModel",
          "model_module_version": "1.2.0",
          "state": {
            "_view_name": "LayoutView",
            "grid_template_rows": null,
            "right": null,
            "justify_content": null,
            "_view_module": "@jupyter-widgets/base",
            "overflow": null,
            "_model_module_version": "1.2.0",
            "_view_count": null,
            "flex_flow": null,
            "width": null,
            "min_width": null,
            "border": null,
            "align_items": null,
            "bottom": null,
            "_model_module": "@jupyter-widgets/base",
            "top": null,
            "grid_column": null,
            "overflow_y": null,
            "overflow_x": null,
            "grid_auto_flow": null,
            "grid_area": null,
            "grid_template_columns": null,
            "flex": null,
            "_model_name": "LayoutModel",
            "justify_items": null,
            "grid_row": null,
            "max_height": null,
            "align_content": null,
            "visibility": null,
            "align_self": null,
            "height": null,
            "min_height": null,
            "padding": null,
            "grid_auto_rows": null,
            "grid_gap": null,
            "max_width": null,
            "order": null,
            "_view_module_version": "1.2.0",
            "grid_template_areas": null,
            "object_position": null,
            "object_fit": null,
            "grid_auto_columns": null,
            "margin": null,
            "display": null,
            "left": null
          }
        },
        "eb58bbfa53304a5387d2d130ddf8e691": {
          "model_module": "@jupyter-widgets/controls",
          "model_name": "HBoxModel",
          "model_module_version": "1.5.0",
          "state": {
            "_view_name": "HBoxView",
            "_dom_classes": [],
            "_model_name": "HBoxModel",
            "_view_module": "@jupyter-widgets/controls",
            "_model_module_version": "1.5.0",
            "_view_count": null,
            "_view_module_version": "1.5.0",
            "box_style": "",
            "layout": "IPY_MODEL_329f7c38dedf4ceab1ad3dfd7d78eba7",
            "_model_module": "@jupyter-widgets/controls",
            "children": [
              "IPY_MODEL_b0ce42e8df6b40b386a1cf3011014219",
              "IPY_MODEL_49c3d1c748ab43cb8dfa4b9e5391e8bf",
              "IPY_MODEL_dba6839628ad4c1f9a26091f8068e260"
            ]
          }
        },
        "329f7c38dedf4ceab1ad3dfd7d78eba7": {
          "model_module": "@jupyter-widgets/base",
          "model_name": "LayoutModel",
          "model_module_version": "1.2.0",
          "state": {
            "_view_name": "LayoutView",
            "grid_template_rows": null,
            "right": null,
            "justify_content": null,
            "_view_module": "@jupyter-widgets/base",
            "overflow": null,
            "_model_module_version": "1.2.0",
            "_view_count": null,
            "flex_flow": null,
            "width": null,
            "min_width": null,
            "border": null,
            "align_items": null,
            "bottom": null,
            "_model_module": "@jupyter-widgets/base",
            "top": null,
            "grid_column": null,
            "overflow_y": null,
            "overflow_x": null,
            "grid_auto_flow": null,
            "grid_area": null,
            "grid_template_columns": null,
            "flex": null,
            "_model_name": "LayoutModel",
            "justify_items": null,
            "grid_row": null,
            "max_height": null,
            "align_content": null,
            "visibility": null,
            "align_self": null,
            "height": null,
            "min_height": null,
            "padding": null,
            "grid_auto_rows": null,
            "grid_gap": null,
            "max_width": null,
            "order": null,
            "_view_module_version": "1.2.0",
            "grid_template_areas": null,
            "object_position": null,
            "object_fit": null,
            "grid_auto_columns": null,
            "margin": null,
            "display": null,
            "left": null
          }
        },
        "b0ce42e8df6b40b386a1cf3011014219": {
          "model_module": "@jupyter-widgets/controls",
          "model_name": "HTMLModel",
          "model_module_version": "1.5.0",
          "state": {
            "_view_name": "HTMLView",
            "style": "IPY_MODEL_c96aea4385d94866bfb745ff29a68c21",
            "_dom_classes": [],
            "description": "",
            "_model_name": "HTMLModel",
            "placeholder": "​",
            "_view_module": "@jupyter-widgets/controls",
            "_model_module_version": "1.5.0",
            "value": "100%",
            "_view_count": null,
            "_view_module_version": "1.5.0",
            "description_tooltip": null,
            "_model_module": "@jupyter-widgets/controls",
            "layout": "IPY_MODEL_8dd29044a9cd4fb1b33901609b46d396"
          }
        },
        "49c3d1c748ab43cb8dfa4b9e5391e8bf": {
          "model_module": "@jupyter-widgets/controls",
          "model_name": "FloatProgressModel",
          "model_module_version": "1.5.0",
          "state": {
            "_view_name": "ProgressView",
            "style": "IPY_MODEL_9de52df6bfc14b33983292f6600f9308",
            "_dom_classes": [],
            "description": "",
            "_model_name": "FloatProgressModel",
            "bar_style": "danger",
            "max": 1193,
            "_view_module": "@jupyter-widgets/controls",
            "_model_module_version": "1.5.0",
            "value": 1192,
            "_view_count": null,
            "_view_module_version": "1.5.0",
            "orientation": "horizontal",
            "min": 0,
            "description_tooltip": null,
            "_model_module": "@jupyter-widgets/controls",
            "layout": "IPY_MODEL_0a6e77631fa64dd19ef0dc7ae6edcffe"
          }
        },
        "dba6839628ad4c1f9a26091f8068e260": {
          "model_module": "@jupyter-widgets/controls",
          "model_name": "HTMLModel",
          "model_module_version": "1.5.0",
          "state": {
            "_view_name": "HTMLView",
            "style": "IPY_MODEL_0bf118fe6a7a4e22b6bed6d1bb7e4964",
            "_dom_classes": [],
            "description": "",
            "_model_name": "HTMLModel",
            "placeholder": "​",
            "_view_module": "@jupyter-widgets/controls",
            "_model_module_version": "1.5.0",
            "value": " 1192/1193 [00:00&lt;00:00, 19667.86 examples/s]",
            "_view_count": null,
            "_view_module_version": "1.5.0",
            "description_tooltip": null,
            "_model_module": "@jupyter-widgets/controls",
            "layout": "IPY_MODEL_74c2cf7e792f47e5980d3bb5c79e68aa"
          }
        },
        "c96aea4385d94866bfb745ff29a68c21": {
          "model_module": "@jupyter-widgets/controls",
          "model_name": "DescriptionStyleModel",
          "model_module_version": "1.5.0",
          "state": {
            "_view_name": "StyleView",
            "_model_name": "DescriptionStyleModel",
            "description_width": "",
            "_view_module": "@jupyter-widgets/base",
            "_model_module_version": "1.5.0",
            "_view_count": null,
            "_view_module_version": "1.2.0",
            "_model_module": "@jupyter-widgets/controls"
          }
        },
        "8dd29044a9cd4fb1b33901609b46d396": {
          "model_module": "@jupyter-widgets/base",
          "model_name": "LayoutModel",
          "model_module_version": "1.2.0",
          "state": {
            "_view_name": "LayoutView",
            "grid_template_rows": null,
            "right": null,
            "justify_content": null,
            "_view_module": "@jupyter-widgets/base",
            "overflow": null,
            "_model_module_version": "1.2.0",
            "_view_count": null,
            "flex_flow": null,
            "width": null,
            "min_width": null,
            "border": null,
            "align_items": null,
            "bottom": null,
            "_model_module": "@jupyter-widgets/base",
            "top": null,
            "grid_column": null,
            "overflow_y": null,
            "overflow_x": null,
            "grid_auto_flow": null,
            "grid_area": null,
            "grid_template_columns": null,
            "flex": null,
            "_model_name": "LayoutModel",
            "justify_items": null,
            "grid_row": null,
            "max_height": null,
            "align_content": null,
            "visibility": null,
            "align_self": null,
            "height": null,
            "min_height": null,
            "padding": null,
            "grid_auto_rows": null,
            "grid_gap": null,
            "max_width": null,
            "order": null,
            "_view_module_version": "1.2.0",
            "grid_template_areas": null,
            "object_position": null,
            "object_fit": null,
            "grid_auto_columns": null,
            "margin": null,
            "display": null,
            "left": null
          }
        },
        "9de52df6bfc14b33983292f6600f9308": {
          "model_module": "@jupyter-widgets/controls",
          "model_name": "ProgressStyleModel",
          "model_module_version": "1.5.0",
          "state": {
            "_view_name": "StyleView",
            "_model_name": "ProgressStyleModel",
            "description_width": "",
            "_view_module": "@jupyter-widgets/base",
            "_model_module_version": "1.5.0",
            "_view_count": null,
            "_view_module_version": "1.2.0",
            "bar_color": null,
            "_model_module": "@jupyter-widgets/controls"
          }
        },
        "0a6e77631fa64dd19ef0dc7ae6edcffe": {
          "model_module": "@jupyter-widgets/base",
          "model_name": "LayoutModel",
          "model_module_version": "1.2.0",
          "state": {
            "_view_name": "LayoutView",
            "grid_template_rows": null,
            "right": null,
            "justify_content": null,
            "_view_module": "@jupyter-widgets/base",
            "overflow": null,
            "_model_module_version": "1.2.0",
            "_view_count": null,
            "flex_flow": null,
            "width": null,
            "min_width": null,
            "border": null,
            "align_items": null,
            "bottom": null,
            "_model_module": "@jupyter-widgets/base",
            "top": null,
            "grid_column": null,
            "overflow_y": null,
            "overflow_x": null,
            "grid_auto_flow": null,
            "grid_area": null,
            "grid_template_columns": null,
            "flex": null,
            "_model_name": "LayoutModel",
            "justify_items": null,
            "grid_row": null,
            "max_height": null,
            "align_content": null,
            "visibility": null,
            "align_self": null,
            "height": null,
            "min_height": null,
            "padding": null,
            "grid_auto_rows": null,
            "grid_gap": null,
            "max_width": null,
            "order": null,
            "_view_module_version": "1.2.0",
            "grid_template_areas": null,
            "object_position": null,
            "object_fit": null,
            "grid_auto_columns": null,
            "margin": null,
            "display": null,
            "left": null
          }
        },
        "0bf118fe6a7a4e22b6bed6d1bb7e4964": {
          "model_module": "@jupyter-widgets/controls",
          "model_name": "DescriptionStyleModel",
          "model_module_version": "1.5.0",
          "state": {
            "_view_name": "StyleView",
            "_model_name": "DescriptionStyleModel",
            "description_width": "",
            "_view_module": "@jupyter-widgets/base",
            "_model_module_version": "1.5.0",
            "_view_count": null,
            "_view_module_version": "1.2.0",
            "_model_module": "@jupyter-widgets/controls"
          }
        },
        "74c2cf7e792f47e5980d3bb5c79e68aa": {
          "model_module": "@jupyter-widgets/base",
          "model_name": "LayoutModel",
          "model_module_version": "1.2.0",
          "state": {
            "_view_name": "LayoutView",
            "grid_template_rows": null,
            "right": null,
            "justify_content": null,
            "_view_module": "@jupyter-widgets/base",
            "overflow": null,
            "_model_module_version": "1.2.0",
            "_view_count": null,
            "flex_flow": null,
            "width": null,
            "min_width": null,
            "border": null,
            "align_items": null,
            "bottom": null,
            "_model_module": "@jupyter-widgets/base",
            "top": null,
            "grid_column": null,
            "overflow_y": null,
            "overflow_x": null,
            "grid_auto_flow": null,
            "grid_area": null,
            "grid_template_columns": null,
            "flex": null,
            "_model_name": "LayoutModel",
            "justify_items": null,
            "grid_row": null,
            "max_height": null,
            "align_content": null,
            "visibility": null,
            "align_self": null,
            "height": null,
            "min_height": null,
            "padding": null,
            "grid_auto_rows": null,
            "grid_gap": null,
            "max_width": null,
            "order": null,
            "_view_module_version": "1.2.0",
            "grid_template_areas": null,
            "object_position": null,
            "object_fit": null,
            "grid_auto_columns": null,
            "margin": null,
            "display": null,
            "left": null
          }
        },
        "dc5b6c25dcf3458694c3327382b9bb44": {
          "model_module": "@jupyter-widgets/controls",
          "model_name": "HBoxModel",
          "model_module_version": "1.5.0",
          "state": {
            "_view_name": "HBoxView",
            "_dom_classes": [],
            "_model_name": "HBoxModel",
            "_view_module": "@jupyter-widgets/controls",
            "_model_module_version": "1.5.0",
            "_view_count": null,
            "_view_module_version": "1.5.0",
            "box_style": "",
            "layout": "IPY_MODEL_5aea8044fa804536912e954dbd66185e",
            "_model_module": "@jupyter-widgets/controls",
            "children": [
              "IPY_MODEL_c3f70af216624716a784c44a52f744aa",
              "IPY_MODEL_9e6da0bc05f045a4892bcdbe6f0a041a",
              "IPY_MODEL_b9ee8be12026473ca5629bcdf4dfc793"
            ]
          }
        },
        "5aea8044fa804536912e954dbd66185e": {
          "model_module": "@jupyter-widgets/base",
          "model_name": "LayoutModel",
          "model_module_version": "1.2.0",
          "state": {
            "_view_name": "LayoutView",
            "grid_template_rows": null,
            "right": null,
            "justify_content": null,
            "_view_module": "@jupyter-widgets/base",
            "overflow": null,
            "_model_module_version": "1.2.0",
            "_view_count": null,
            "flex_flow": null,
            "width": null,
            "min_width": null,
            "border": null,
            "align_items": null,
            "bottom": null,
            "_model_module": "@jupyter-widgets/base",
            "top": null,
            "grid_column": null,
            "overflow_y": null,
            "overflow_x": null,
            "grid_auto_flow": null,
            "grid_area": null,
            "grid_template_columns": null,
            "flex": null,
            "_model_name": "LayoutModel",
            "justify_items": null,
            "grid_row": null,
            "max_height": null,
            "align_content": null,
            "visibility": null,
            "align_self": null,
            "height": null,
            "min_height": null,
            "padding": null,
            "grid_auto_rows": null,
            "grid_gap": null,
            "max_width": null,
            "order": null,
            "_view_module_version": "1.2.0",
            "grid_template_areas": null,
            "object_position": null,
            "object_fit": null,
            "grid_auto_columns": null,
            "margin": null,
            "display": null,
            "left": null
          }
        },
        "c3f70af216624716a784c44a52f744aa": {
          "model_module": "@jupyter-widgets/controls",
          "model_name": "HTMLModel",
          "model_module_version": "1.5.0",
          "state": {
            "_view_name": "HTMLView",
            "style": "IPY_MODEL_e73ca7584f56418480171d0c215c8c18",
            "_dom_classes": [],
            "description": "",
            "_model_name": "HTMLModel",
            "placeholder": "​",
            "_view_module": "@jupyter-widgets/controls",
            "_model_module_version": "1.5.0",
            "value": "",
            "_view_count": null,
            "_view_module_version": "1.5.0",
            "description_tooltip": null,
            "_model_module": "@jupyter-widgets/controls",
            "layout": "IPY_MODEL_a879e47ed05846d6a2376b42fc9a439c"
          }
        },
        "9e6da0bc05f045a4892bcdbe6f0a041a": {
          "model_module": "@jupyter-widgets/controls",
          "model_name": "FloatProgressModel",
          "model_module_version": "1.5.0",
          "state": {
            "_view_name": "ProgressView",
            "style": "IPY_MODEL_726ae56329b143f7b372cf20b4f1ac74",
            "_dom_classes": [],
            "description": "",
            "_model_name": "FloatProgressModel",
            "bar_style": "info",
            "max": 1,
            "_view_module": "@jupyter-widgets/controls",
            "_model_module_version": "1.5.0",
            "value": 1,
            "_view_count": null,
            "_view_module_version": "1.5.0",
            "orientation": "horizontal",
            "min": 0,
            "description_tooltip": null,
            "_model_module": "@jupyter-widgets/controls",
            "layout": "IPY_MODEL_5185406e255441fdbd1f5e6eaaced34e"
          }
        },
        "b9ee8be12026473ca5629bcdf4dfc793": {
          "model_module": "@jupyter-widgets/controls",
          "model_name": "HTMLModel",
          "model_module_version": "1.5.0",
          "state": {
            "_view_name": "HTMLView",
            "style": "IPY_MODEL_97c73db340ab4f2d84c1d8b5cb13c4fd",
            "_dom_classes": [],
            "description": "",
            "_model_name": "HTMLModel",
            "placeholder": "​",
            "_view_module": "@jupyter-widgets/controls",
            "_model_module_version": "1.5.0",
            "value": " 1727/0 [00:00&lt;00:00, 3934.92 examples/s]",
            "_view_count": null,
            "_view_module_version": "1.5.0",
            "description_tooltip": null,
            "_model_module": "@jupyter-widgets/controls",
            "layout": "IPY_MODEL_50cc3a39420b437eb0e621f2ea8454f5"
          }
        },
        "e73ca7584f56418480171d0c215c8c18": {
          "model_module": "@jupyter-widgets/controls",
          "model_name": "DescriptionStyleModel",
          "model_module_version": "1.5.0",
          "state": {
            "_view_name": "StyleView",
            "_model_name": "DescriptionStyleModel",
            "description_width": "",
            "_view_module": "@jupyter-widgets/base",
            "_model_module_version": "1.5.0",
            "_view_count": null,
            "_view_module_version": "1.2.0",
            "_model_module": "@jupyter-widgets/controls"
          }
        },
        "a879e47ed05846d6a2376b42fc9a439c": {
          "model_module": "@jupyter-widgets/base",
          "model_name": "LayoutModel",
          "model_module_version": "1.2.0",
          "state": {
            "_view_name": "LayoutView",
            "grid_template_rows": null,
            "right": null,
            "justify_content": null,
            "_view_module": "@jupyter-widgets/base",
            "overflow": null,
            "_model_module_version": "1.2.0",
            "_view_count": null,
            "flex_flow": null,
            "width": null,
            "min_width": null,
            "border": null,
            "align_items": null,
            "bottom": null,
            "_model_module": "@jupyter-widgets/base",
            "top": null,
            "grid_column": null,
            "overflow_y": null,
            "overflow_x": null,
            "grid_auto_flow": null,
            "grid_area": null,
            "grid_template_columns": null,
            "flex": null,
            "_model_name": "LayoutModel",
            "justify_items": null,
            "grid_row": null,
            "max_height": null,
            "align_content": null,
            "visibility": null,
            "align_self": null,
            "height": null,
            "min_height": null,
            "padding": null,
            "grid_auto_rows": null,
            "grid_gap": null,
            "max_width": null,
            "order": null,
            "_view_module_version": "1.2.0",
            "grid_template_areas": null,
            "object_position": null,
            "object_fit": null,
            "grid_auto_columns": null,
            "margin": null,
            "display": null,
            "left": null
          }
        },
        "726ae56329b143f7b372cf20b4f1ac74": {
          "model_module": "@jupyter-widgets/controls",
          "model_name": "ProgressStyleModel",
          "model_module_version": "1.5.0",
          "state": {
            "_view_name": "StyleView",
            "_model_name": "ProgressStyleModel",
            "description_width": "",
            "_view_module": "@jupyter-widgets/base",
            "_model_module_version": "1.5.0",
            "_view_count": null,
            "_view_module_version": "1.2.0",
            "bar_color": null,
            "_model_module": "@jupyter-widgets/controls"
          }
        },
        "5185406e255441fdbd1f5e6eaaced34e": {
          "model_module": "@jupyter-widgets/base",
          "model_name": "LayoutModel",
          "model_module_version": "1.2.0",
          "state": {
            "_view_name": "LayoutView",
            "grid_template_rows": null,
            "right": null,
            "justify_content": null,
            "_view_module": "@jupyter-widgets/base",
            "overflow": null,
            "_model_module_version": "1.2.0",
            "_view_count": null,
            "flex_flow": null,
            "width": "20px",
            "min_width": null,
            "border": null,
            "align_items": null,
            "bottom": null,
            "_model_module": "@jupyter-widgets/base",
            "top": null,
            "grid_column": null,
            "overflow_y": null,
            "overflow_x": null,
            "grid_auto_flow": null,
            "grid_area": null,
            "grid_template_columns": null,
            "flex": null,
            "_model_name": "LayoutModel",
            "justify_items": null,
            "grid_row": null,
            "max_height": null,
            "align_content": null,
            "visibility": null,
            "align_self": null,
            "height": null,
            "min_height": null,
            "padding": null,
            "grid_auto_rows": null,
            "grid_gap": null,
            "max_width": null,
            "order": null,
            "_view_module_version": "1.2.0",
            "grid_template_areas": null,
            "object_position": null,
            "object_fit": null,
            "grid_auto_columns": null,
            "margin": null,
            "display": null,
            "left": null
          }
        },
        "97c73db340ab4f2d84c1d8b5cb13c4fd": {
          "model_module": "@jupyter-widgets/controls",
          "model_name": "DescriptionStyleModel",
          "model_module_version": "1.5.0",
          "state": {
            "_view_name": "StyleView",
            "_model_name": "DescriptionStyleModel",
            "description_width": "",
            "_view_module": "@jupyter-widgets/base",
            "_model_module_version": "1.5.0",
            "_view_count": null,
            "_view_module_version": "1.2.0",
            "_model_module": "@jupyter-widgets/controls"
          }
        },
        "50cc3a39420b437eb0e621f2ea8454f5": {
          "model_module": "@jupyter-widgets/base",
          "model_name": "LayoutModel",
          "model_module_version": "1.2.0",
          "state": {
            "_view_name": "LayoutView",
            "grid_template_rows": null,
            "right": null,
            "justify_content": null,
            "_view_module": "@jupyter-widgets/base",
            "overflow": null,
            "_model_module_version": "1.2.0",
            "_view_count": null,
            "flex_flow": null,
            "width": null,
            "min_width": null,
            "border": null,
            "align_items": null,
            "bottom": null,
            "_model_module": "@jupyter-widgets/base",
            "top": null,
            "grid_column": null,
            "overflow_y": null,
            "overflow_x": null,
            "grid_auto_flow": null,
            "grid_area": null,
            "grid_template_columns": null,
            "flex": null,
            "_model_name": "LayoutModel",
            "justify_items": null,
            "grid_row": null,
            "max_height": null,
            "align_content": null,
            "visibility": null,
            "align_self": null,
            "height": null,
            "min_height": null,
            "padding": null,
            "grid_auto_rows": null,
            "grid_gap": null,
            "max_width": null,
            "order": null,
            "_view_module_version": "1.2.0",
            "grid_template_areas": null,
            "object_position": null,
            "object_fit": null,
            "grid_auto_columns": null,
            "margin": null,
            "display": null,
            "left": null
          }
        },
        "ef4a8cc8b9824435a2a6c998dc642356": {
          "model_module": "@jupyter-widgets/controls",
          "model_name": "HBoxModel",
          "model_module_version": "1.5.0",
          "state": {
            "_view_name": "HBoxView",
            "_dom_classes": [],
            "_model_name": "HBoxModel",
            "_view_module": "@jupyter-widgets/controls",
            "_model_module_version": "1.5.0",
            "_view_count": null,
            "_view_module_version": "1.5.0",
            "box_style": "",
            "layout": "IPY_MODEL_186d6f0106ed440ab5a313692e7ed979",
            "_model_module": "@jupyter-widgets/controls",
            "children": [
              "IPY_MODEL_f15521f5e4324ada8f18a148e4a58002",
              "IPY_MODEL_51e886a42d534973afca30786bbc1737",
              "IPY_MODEL_db7f9654785a47b998d4d452f0c7ceea"
            ]
          }
        },
        "186d6f0106ed440ab5a313692e7ed979": {
          "model_module": "@jupyter-widgets/base",
          "model_name": "LayoutModel",
          "model_module_version": "1.2.0",
          "state": {
            "_view_name": "LayoutView",
            "grid_template_rows": null,
            "right": null,
            "justify_content": null,
            "_view_module": "@jupyter-widgets/base",
            "overflow": null,
            "_model_module_version": "1.2.0",
            "_view_count": null,
            "flex_flow": null,
            "width": null,
            "min_width": null,
            "border": null,
            "align_items": null,
            "bottom": null,
            "_model_module": "@jupyter-widgets/base",
            "top": null,
            "grid_column": null,
            "overflow_y": null,
            "overflow_x": null,
            "grid_auto_flow": null,
            "grid_area": null,
            "grid_template_columns": null,
            "flex": null,
            "_model_name": "LayoutModel",
            "justify_items": null,
            "grid_row": null,
            "max_height": null,
            "align_content": null,
            "visibility": null,
            "align_self": null,
            "height": null,
            "min_height": null,
            "padding": null,
            "grid_auto_rows": null,
            "grid_gap": null,
            "max_width": null,
            "order": null,
            "_view_module_version": "1.2.0",
            "grid_template_areas": null,
            "object_position": null,
            "object_fit": null,
            "grid_auto_columns": null,
            "margin": null,
            "display": null,
            "left": null
          }
        },
        "f15521f5e4324ada8f18a148e4a58002": {
          "model_module": "@jupyter-widgets/controls",
          "model_name": "HTMLModel",
          "model_module_version": "1.5.0",
          "state": {
            "_view_name": "HTMLView",
            "style": "IPY_MODEL_4603ee92e3ed4bb7aa46e74e7a100d01",
            "_dom_classes": [],
            "description": "",
            "_model_name": "HTMLModel",
            "placeholder": "​",
            "_view_module": "@jupyter-widgets/controls",
            "_model_module_version": "1.5.0",
            "value": "100%",
            "_view_count": null,
            "_view_module_version": "1.5.0",
            "description_tooltip": null,
            "_model_module": "@jupyter-widgets/controls",
            "layout": "IPY_MODEL_bbb6604b832b4698bba6784a6a10d1f3"
          }
        },
        "51e886a42d534973afca30786bbc1737": {
          "model_module": "@jupyter-widgets/controls",
          "model_name": "FloatProgressModel",
          "model_module_version": "1.5.0",
          "state": {
            "_view_name": "ProgressView",
            "style": "IPY_MODEL_8b3e0c41c9324f87a45d31b897fd3f8f",
            "_dom_classes": [],
            "description": "",
            "_model_name": "FloatProgressModel",
            "bar_style": "danger",
            "max": 1803,
            "_view_module": "@jupyter-widgets/controls",
            "_model_module_version": "1.5.0",
            "value": 1802,
            "_view_count": null,
            "_view_module_version": "1.5.0",
            "orientation": "horizontal",
            "min": 0,
            "description_tooltip": null,
            "_model_module": "@jupyter-widgets/controls",
            "layout": "IPY_MODEL_5c670ecbb1a147bf98cd697751817103"
          }
        },
        "db7f9654785a47b998d4d452f0c7ceea": {
          "model_module": "@jupyter-widgets/controls",
          "model_name": "HTMLModel",
          "model_module_version": "1.5.0",
          "state": {
            "_view_name": "HTMLView",
            "style": "IPY_MODEL_b0b39e1e849440b9a0d1997796fac5f4",
            "_dom_classes": [],
            "description": "",
            "_model_name": "HTMLModel",
            "placeholder": "​",
            "_view_module": "@jupyter-widgets/controls",
            "_model_module_version": "1.5.0",
            "value": " 1802/1803 [00:00&lt;00:00, 28358.50 examples/s]",
            "_view_count": null,
            "_view_module_version": "1.5.0",
            "description_tooltip": null,
            "_model_module": "@jupyter-widgets/controls",
            "layout": "IPY_MODEL_ffda734ea0fb4bf78525593f96dbdf57"
          }
        },
        "4603ee92e3ed4bb7aa46e74e7a100d01": {
          "model_module": "@jupyter-widgets/controls",
          "model_name": "DescriptionStyleModel",
          "model_module_version": "1.5.0",
          "state": {
            "_view_name": "StyleView",
            "_model_name": "DescriptionStyleModel",
            "description_width": "",
            "_view_module": "@jupyter-widgets/base",
            "_model_module_version": "1.5.0",
            "_view_count": null,
            "_view_module_version": "1.2.0",
            "_model_module": "@jupyter-widgets/controls"
          }
        },
        "bbb6604b832b4698bba6784a6a10d1f3": {
          "model_module": "@jupyter-widgets/base",
          "model_name": "LayoutModel",
          "model_module_version": "1.2.0",
          "state": {
            "_view_name": "LayoutView",
            "grid_template_rows": null,
            "right": null,
            "justify_content": null,
            "_view_module": "@jupyter-widgets/base",
            "overflow": null,
            "_model_module_version": "1.2.0",
            "_view_count": null,
            "flex_flow": null,
            "width": null,
            "min_width": null,
            "border": null,
            "align_items": null,
            "bottom": null,
            "_model_module": "@jupyter-widgets/base",
            "top": null,
            "grid_column": null,
            "overflow_y": null,
            "overflow_x": null,
            "grid_auto_flow": null,
            "grid_area": null,
            "grid_template_columns": null,
            "flex": null,
            "_model_name": "LayoutModel",
            "justify_items": null,
            "grid_row": null,
            "max_height": null,
            "align_content": null,
            "visibility": null,
            "align_self": null,
            "height": null,
            "min_height": null,
            "padding": null,
            "grid_auto_rows": null,
            "grid_gap": null,
            "max_width": null,
            "order": null,
            "_view_module_version": "1.2.0",
            "grid_template_areas": null,
            "object_position": null,
            "object_fit": null,
            "grid_auto_columns": null,
            "margin": null,
            "display": null,
            "left": null
          }
        },
        "8b3e0c41c9324f87a45d31b897fd3f8f": {
          "model_module": "@jupyter-widgets/controls",
          "model_name": "ProgressStyleModel",
          "model_module_version": "1.5.0",
          "state": {
            "_view_name": "StyleView",
            "_model_name": "ProgressStyleModel",
            "description_width": "",
            "_view_module": "@jupyter-widgets/base",
            "_model_module_version": "1.5.0",
            "_view_count": null,
            "_view_module_version": "1.2.0",
            "bar_color": null,
            "_model_module": "@jupyter-widgets/controls"
          }
        },
        "5c670ecbb1a147bf98cd697751817103": {
          "model_module": "@jupyter-widgets/base",
          "model_name": "LayoutModel",
          "model_module_version": "1.2.0",
          "state": {
            "_view_name": "LayoutView",
            "grid_template_rows": null,
            "right": null,
            "justify_content": null,
            "_view_module": "@jupyter-widgets/base",
            "overflow": null,
            "_model_module_version": "1.2.0",
            "_view_count": null,
            "flex_flow": null,
            "width": null,
            "min_width": null,
            "border": null,
            "align_items": null,
            "bottom": null,
            "_model_module": "@jupyter-widgets/base",
            "top": null,
            "grid_column": null,
            "overflow_y": null,
            "overflow_x": null,
            "grid_auto_flow": null,
            "grid_area": null,
            "grid_template_columns": null,
            "flex": null,
            "_model_name": "LayoutModel",
            "justify_items": null,
            "grid_row": null,
            "max_height": null,
            "align_content": null,
            "visibility": null,
            "align_self": null,
            "height": null,
            "min_height": null,
            "padding": null,
            "grid_auto_rows": null,
            "grid_gap": null,
            "max_width": null,
            "order": null,
            "_view_module_version": "1.2.0",
            "grid_template_areas": null,
            "object_position": null,
            "object_fit": null,
            "grid_auto_columns": null,
            "margin": null,
            "display": null,
            "left": null
          }
        },
        "b0b39e1e849440b9a0d1997796fac5f4": {
          "model_module": "@jupyter-widgets/controls",
          "model_name": "DescriptionStyleModel",
          "model_module_version": "1.5.0",
          "state": {
            "_view_name": "StyleView",
            "_model_name": "DescriptionStyleModel",
            "description_width": "",
            "_view_module": "@jupyter-widgets/base",
            "_model_module_version": "1.5.0",
            "_view_count": null,
            "_view_module_version": "1.2.0",
            "_model_module": "@jupyter-widgets/controls"
          }
        },
        "ffda734ea0fb4bf78525593f96dbdf57": {
          "model_module": "@jupyter-widgets/base",
          "model_name": "LayoutModel",
          "model_module_version": "1.2.0",
          "state": {
            "_view_name": "LayoutView",
            "grid_template_rows": null,
            "right": null,
            "justify_content": null,
            "_view_module": "@jupyter-widgets/base",
            "overflow": null,
            "_model_module_version": "1.2.0",
            "_view_count": null,
            "flex_flow": null,
            "width": null,
            "min_width": null,
            "border": null,
            "align_items": null,
            "bottom": null,
            "_model_module": "@jupyter-widgets/base",
            "top": null,
            "grid_column": null,
            "overflow_y": null,
            "overflow_x": null,
            "grid_auto_flow": null,
            "grid_area": null,
            "grid_template_columns": null,
            "flex": null,
            "_model_name": "LayoutModel",
            "justify_items": null,
            "grid_row": null,
            "max_height": null,
            "align_content": null,
            "visibility": null,
            "align_self": null,
            "height": null,
            "min_height": null,
            "padding": null,
            "grid_auto_rows": null,
            "grid_gap": null,
            "max_width": null,
            "order": null,
            "_view_module_version": "1.2.0",
            "grid_template_areas": null,
            "object_position": null,
            "object_fit": null,
            "grid_auto_columns": null,
            "margin": null,
            "display": null,
            "left": null
          }
        }
      }
    }
  },
  "cells": [
    {
      "cell_type": "markdown",
      "metadata": {
        "id": "s_qNSzzyaCbD"
      },
      "source": [
        "##### Copyright 2019 The TensorFlow Authors."
      ]
    },
    {
      "cell_type": "code",
      "metadata": {
        "cellView": "form",
        "id": "jmjh290raIky"
      },
      "source": [
        "#@title Licensed under the Apache License, Version 2.0 (the \"License\");\n",
        "# you may not use this file except in compliance with the License.\n",
        "# You may obtain a copy of the License at\n",
        "#\n",
        "# https://www.apache.org/licenses/LICENSE-2.0\n",
        "#\n",
        "# Unless required by applicable law or agreed to in writing, software\n",
        "# distributed under the License is distributed on an \"AS IS\" BASIS,\n",
        "# WITHOUT WARRANTIES OR CONDITIONS OF ANY KIND, either express or implied.\n",
        "# See the License for the specific language governing permissions and\n",
        "# limitations under the License."
      ],
      "execution_count": 1,
      "outputs": []
    },
    {
      "cell_type": "markdown",
      "metadata": {
        "id": "J0Qjg6vuaHNt"
      },
      "source": [
        "# Transformer model for language understanding"
      ]
    },
    {
      "cell_type": "markdown",
      "metadata": {
        "id": "AOpGoE2T-YXS"
      },
      "source": [
        "<table class=\"tfo-notebook-buttons\" align=\"left\">\n",
        "  <td>\n",
        "    <a target=\"_blank\" href=\"https://www.tensorflow.org/text/tutorials/transformer\">\n",
        "    <img src=\"https://www.tensorflow.org/images/tf_logo_32px.png\" />\n",
        "    View on TensorFlow.org</a>\n",
        "  </td>\n",
        "  <td>\n",
        "    <a target=\"_blank\" href=\"https://colab.research.google.com/github/tensorflow/text/blob/master/docs/tutorials/transformer.ipynb\">\n",
        "    <img src=\"https://www.tensorflow.org/images/colab_logo_32px.png\" />\n",
        "    Run in Google Colab</a>\n",
        "  </td>\n",
        "  <td>\n",
        "    <a target=\"_blank\" href=\"https://github.com/tensorflow/text/blob/master/docs/tutorials/transformer.ipynb\">\n",
        "    <img src=\"https://www.tensorflow.org/images/GitHub-Mark-32px.png\" />\n",
        "    View source on GitHub</a>\n",
        "  </td>\n",
        "  <td>\n",
        "    <a href=\"https://storage.googleapis.com/tensorflow_docs/text/docs/tutorials/transformer.ipynb\"><img src=\"https://www.tensorflow.org/images/download_logo_32px.png\" />Download notebook</a>\n",
        "  </td>\n",
        "</table>"
      ]
    },
    {
      "cell_type": "markdown",
      "metadata": {
        "id": "M-f8TnGpE_ex"
      },
      "source": [
        "This tutorial trains a <a href=\"https://arxiv.org/abs/1706.03762\" class=\"external\">Transformer model</a> to translate a [Portuguese to English dataset](https://www.tensorflow.org/datasets/catalog/ted_hrlr_translate#ted_hrlr_translatept_to_en). This is an advanced example that assumes knowledge of [text generation](https://www.tensorflow.org/text/tutorials/text_generation) and [attention](https://www.tensorflow.org/text/tutorials/nmt_with_attention).\n",
        "\n",
        "The core idea behind the Transformer model is *self-attention*—the ability to attend to different positions of the input sequence to compute a representation of that sequence. Transformer creates stacks of self-attention layers and is explained below in the sections *Scaled dot product attention* and *Multi-head attention*.\n",
        "\n",
        "A transformer model handles variable-sized input using stacks of self-attention layers instead of [RNNs](https://www.tensorflow.org/text/tutorials/text_classification_rnn) or [CNNs](https://www.tensorflow.org/tutorials/images/cnn). This general architecture has a number of advantages:\n",
        "\n",
        "* It makes no assumptions about the temporal/spatial relationships across the data. This is ideal for processing a set of objects (for example, [StarCraft units](https://deepmind.com/blog/alphastar-mastering-real-time-strategy-game-starcraft-ii/#block-8)).\n",
        "* Layer outputs can be calculated in parallel, instead of a series like an RNN.\n",
        "* Distant items can affect each other's output without passing through many RNN-steps, or convolution layers (see [Scene Memory Transformer](https://arxiv.org/pdf/1903.03878.pdf) for example).\n",
        "* It can learn long-range dependencies. This is a challenge in many sequence tasks.\n",
        "\n",
        "The downsides of this architecture are:\n",
        "\n",
        "* For a time-series, the output for a time-step is calculated from the *entire history* instead of only the inputs and current hidden-state. This _may_ be less efficient.   \n",
        "* If the input *does* have a  temporal/spatial relationship, like text, some positional encoding must be added or the model will effectively see a bag of words. \n",
        "\n",
        "After training the model in this notebook, you will be able to input a Portuguese sentence and return the English translation.\n",
        "\n",
        "<img src=\"https://www.tensorflow.org/images/tutorials/transformer/attention_map_portuguese.png\" width=\"800\" alt=\"Attention heatmap\">"
      ]
    },
    {
      "cell_type": "markdown",
      "metadata": {
        "id": "swymtxpl7W7w"
      },
      "source": [
        "## Setup"
      ]
    },
    {
      "cell_type": "code",
      "metadata": {
        "id": "XFG0NDRu5mYQ",
        "colab": {
          "base_uri": "https://localhost:8080/"
        },
        "outputId": "9ea4988e-0222-4a1c-b9ca-19f992e2baac"
      },
      "source": [
        "!pip install tensorflow_datasets\n",
        "!pip install -U tensorflow-text"
      ],
      "execution_count": 2,
      "outputs": [
        {
          "output_type": "stream",
          "name": "stdout",
          "text": [
            "Requirement already satisfied: tensorflow_datasets in /usr/local/lib/python3.7/dist-packages (4.0.1)\n",
            "Requirement already satisfied: termcolor in /usr/local/lib/python3.7/dist-packages (from tensorflow_datasets) (1.1.0)\n",
            "Requirement already satisfied: requests>=2.19.0 in /usr/local/lib/python3.7/dist-packages (from tensorflow_datasets) (2.23.0)\n",
            "Requirement already satisfied: future in /usr/local/lib/python3.7/dist-packages (from tensorflow_datasets) (0.16.0)\n",
            "Requirement already satisfied: six in /usr/local/lib/python3.7/dist-packages (from tensorflow_datasets) (1.15.0)\n",
            "Requirement already satisfied: tensorflow-metadata in /usr/local/lib/python3.7/dist-packages (from tensorflow_datasets) (1.2.0)\n",
            "Requirement already satisfied: importlib-resources in /usr/local/lib/python3.7/dist-packages (from tensorflow_datasets) (5.2.2)\n",
            "Requirement already satisfied: absl-py in /usr/local/lib/python3.7/dist-packages (from tensorflow_datasets) (0.12.0)\n",
            "Requirement already satisfied: protobuf>=3.6.1 in /usr/local/lib/python3.7/dist-packages (from tensorflow_datasets) (3.17.3)\n",
            "Requirement already satisfied: attrs>=18.1.0 in /usr/local/lib/python3.7/dist-packages (from tensorflow_datasets) (21.2.0)\n",
            "Requirement already satisfied: dm-tree in /usr/local/lib/python3.7/dist-packages (from tensorflow_datasets) (0.1.6)\n",
            "Requirement already satisfied: dill in /usr/local/lib/python3.7/dist-packages (from tensorflow_datasets) (0.3.4)\n",
            "Requirement already satisfied: promise in /usr/local/lib/python3.7/dist-packages (from tensorflow_datasets) (2.3)\n",
            "Requirement already satisfied: numpy in /usr/local/lib/python3.7/dist-packages (from tensorflow_datasets) (1.19.5)\n",
            "Requirement already satisfied: tqdm in /usr/local/lib/python3.7/dist-packages (from tensorflow_datasets) (4.62.3)\n",
            "Requirement already satisfied: urllib3!=1.25.0,!=1.25.1,<1.26,>=1.21.1 in /usr/local/lib/python3.7/dist-packages (from requests>=2.19.0->tensorflow_datasets) (1.24.3)\n",
            "Requirement already satisfied: chardet<4,>=3.0.2 in /usr/local/lib/python3.7/dist-packages (from requests>=2.19.0->tensorflow_datasets) (3.0.4)\n",
            "Requirement already satisfied: idna<3,>=2.5 in /usr/local/lib/python3.7/dist-packages (from requests>=2.19.0->tensorflow_datasets) (2.10)\n",
            "Requirement already satisfied: certifi>=2017.4.17 in /usr/local/lib/python3.7/dist-packages (from requests>=2.19.0->tensorflow_datasets) (2021.5.30)\n",
            "Requirement already satisfied: zipp>=3.1.0 in /usr/local/lib/python3.7/dist-packages (from importlib-resources->tensorflow_datasets) (3.6.0)\n",
            "Requirement already satisfied: googleapis-common-protos<2,>=1.52.0 in /usr/local/lib/python3.7/dist-packages (from tensorflow-metadata->tensorflow_datasets) (1.53.0)\n",
            "Collecting tensorflow-text\n",
            "  Downloading tensorflow_text-2.6.0-cp37-cp37m-manylinux1_x86_64.whl (4.4 MB)\n",
            "\u001b[K     |████████████████████████████████| 4.4 MB 2.8 MB/s \n",
            "\u001b[?25hRequirement already satisfied: tensorflow<2.7,>=2.6.0 in /usr/local/lib/python3.7/dist-packages (from tensorflow-text) (2.6.0)\n",
            "Requirement already satisfied: tensorflow-hub>=0.8.0 in /usr/local/lib/python3.7/dist-packages (from tensorflow-text) (0.12.0)\n",
            "Requirement already satisfied: gast==0.4.0 in /usr/local/lib/python3.7/dist-packages (from tensorflow<2.7,>=2.6.0->tensorflow-text) (0.4.0)\n",
            "Requirement already satisfied: wheel~=0.35 in /usr/local/lib/python3.7/dist-packages (from tensorflow<2.7,>=2.6.0->tensorflow-text) (0.37.0)\n",
            "Requirement already satisfied: h5py~=3.1.0 in /usr/local/lib/python3.7/dist-packages (from tensorflow<2.7,>=2.6.0->tensorflow-text) (3.1.0)\n",
            "Requirement already satisfied: flatbuffers~=1.12.0 in /usr/local/lib/python3.7/dist-packages (from tensorflow<2.7,>=2.6.0->tensorflow-text) (1.12)\n",
            "Requirement already satisfied: tensorflow-estimator~=2.6 in /usr/local/lib/python3.7/dist-packages (from tensorflow<2.7,>=2.6.0->tensorflow-text) (2.6.0)\n",
            "Requirement already satisfied: absl-py~=0.10 in /usr/local/lib/python3.7/dist-packages (from tensorflow<2.7,>=2.6.0->tensorflow-text) (0.12.0)\n",
            "Requirement already satisfied: opt-einsum~=3.3.0 in /usr/local/lib/python3.7/dist-packages (from tensorflow<2.7,>=2.6.0->tensorflow-text) (3.3.0)\n",
            "Requirement already satisfied: clang~=5.0 in /usr/local/lib/python3.7/dist-packages (from tensorflow<2.7,>=2.6.0->tensorflow-text) (5.0)\n",
            "Requirement already satisfied: six~=1.15.0 in /usr/local/lib/python3.7/dist-packages (from tensorflow<2.7,>=2.6.0->tensorflow-text) (1.15.0)\n",
            "Requirement already satisfied: typing-extensions~=3.7.4 in /usr/local/lib/python3.7/dist-packages (from tensorflow<2.7,>=2.6.0->tensorflow-text) (3.7.4.3)\n",
            "Requirement already satisfied: tensorboard~=2.6 in /usr/local/lib/python3.7/dist-packages (from tensorflow<2.7,>=2.6.0->tensorflow-text) (2.6.0)\n",
            "Requirement already satisfied: keras-preprocessing~=1.1.2 in /usr/local/lib/python3.7/dist-packages (from tensorflow<2.7,>=2.6.0->tensorflow-text) (1.1.2)\n",
            "Requirement already satisfied: astunparse~=1.6.3 in /usr/local/lib/python3.7/dist-packages (from tensorflow<2.7,>=2.6.0->tensorflow-text) (1.6.3)\n",
            "Requirement already satisfied: grpcio<2.0,>=1.37.0 in /usr/local/lib/python3.7/dist-packages (from tensorflow<2.7,>=2.6.0->tensorflow-text) (1.41.0)\n",
            "Requirement already satisfied: numpy~=1.19.2 in /usr/local/lib/python3.7/dist-packages (from tensorflow<2.7,>=2.6.0->tensorflow-text) (1.19.5)\n",
            "Requirement already satisfied: google-pasta~=0.2 in /usr/local/lib/python3.7/dist-packages (from tensorflow<2.7,>=2.6.0->tensorflow-text) (0.2.0)\n",
            "Requirement already satisfied: keras~=2.6 in /usr/local/lib/python3.7/dist-packages (from tensorflow<2.7,>=2.6.0->tensorflow-text) (2.6.0)\n",
            "Requirement already satisfied: protobuf>=3.9.2 in /usr/local/lib/python3.7/dist-packages (from tensorflow<2.7,>=2.6.0->tensorflow-text) (3.17.3)\n",
            "Requirement already satisfied: wrapt~=1.12.1 in /usr/local/lib/python3.7/dist-packages (from tensorflow<2.7,>=2.6.0->tensorflow-text) (1.12.1)\n",
            "Requirement already satisfied: termcolor~=1.1.0 in /usr/local/lib/python3.7/dist-packages (from tensorflow<2.7,>=2.6.0->tensorflow-text) (1.1.0)\n",
            "Requirement already satisfied: cached-property in /usr/local/lib/python3.7/dist-packages (from h5py~=3.1.0->tensorflow<2.7,>=2.6.0->tensorflow-text) (1.5.2)\n",
            "Requirement already satisfied: tensorboard-data-server<0.7.0,>=0.6.0 in /usr/local/lib/python3.7/dist-packages (from tensorboard~=2.6->tensorflow<2.7,>=2.6.0->tensorflow-text) (0.6.1)\n",
            "Requirement already satisfied: requests<3,>=2.21.0 in /usr/local/lib/python3.7/dist-packages (from tensorboard~=2.6->tensorflow<2.7,>=2.6.0->tensorflow-text) (2.23.0)\n",
            "Requirement already satisfied: google-auth<2,>=1.6.3 in /usr/local/lib/python3.7/dist-packages (from tensorboard~=2.6->tensorflow<2.7,>=2.6.0->tensorflow-text) (1.35.0)\n",
            "Requirement already satisfied: werkzeug>=0.11.15 in /usr/local/lib/python3.7/dist-packages (from tensorboard~=2.6->tensorflow<2.7,>=2.6.0->tensorflow-text) (1.0.1)\n",
            "Requirement already satisfied: google-auth-oauthlib<0.5,>=0.4.1 in /usr/local/lib/python3.7/dist-packages (from tensorboard~=2.6->tensorflow<2.7,>=2.6.0->tensorflow-text) (0.4.6)\n",
            "Requirement already satisfied: setuptools>=41.0.0 in /usr/local/lib/python3.7/dist-packages (from tensorboard~=2.6->tensorflow<2.7,>=2.6.0->tensorflow-text) (57.4.0)\n",
            "Requirement already satisfied: markdown>=2.6.8 in /usr/local/lib/python3.7/dist-packages (from tensorboard~=2.6->tensorflow<2.7,>=2.6.0->tensorflow-text) (3.3.4)\n",
            "Requirement already satisfied: tensorboard-plugin-wit>=1.6.0 in /usr/local/lib/python3.7/dist-packages (from tensorboard~=2.6->tensorflow<2.7,>=2.6.0->tensorflow-text) (1.8.0)\n",
            "Requirement already satisfied: rsa<5,>=3.1.4 in /usr/local/lib/python3.7/dist-packages (from google-auth<2,>=1.6.3->tensorboard~=2.6->tensorflow<2.7,>=2.6.0->tensorflow-text) (4.7.2)\n",
            "Requirement already satisfied: pyasn1-modules>=0.2.1 in /usr/local/lib/python3.7/dist-packages (from google-auth<2,>=1.6.3->tensorboard~=2.6->tensorflow<2.7,>=2.6.0->tensorflow-text) (0.2.8)\n",
            "Requirement already satisfied: cachetools<5.0,>=2.0.0 in /usr/local/lib/python3.7/dist-packages (from google-auth<2,>=1.6.3->tensorboard~=2.6->tensorflow<2.7,>=2.6.0->tensorflow-text) (4.2.4)\n",
            "Requirement already satisfied: requests-oauthlib>=0.7.0 in /usr/local/lib/python3.7/dist-packages (from google-auth-oauthlib<0.5,>=0.4.1->tensorboard~=2.6->tensorflow<2.7,>=2.6.0->tensorflow-text) (1.3.0)\n",
            "Requirement already satisfied: importlib-metadata in /usr/local/lib/python3.7/dist-packages (from markdown>=2.6.8->tensorboard~=2.6->tensorflow<2.7,>=2.6.0->tensorflow-text) (4.8.1)\n",
            "Requirement already satisfied: pyasn1<0.5.0,>=0.4.6 in /usr/local/lib/python3.7/dist-packages (from pyasn1-modules>=0.2.1->google-auth<2,>=1.6.3->tensorboard~=2.6->tensorflow<2.7,>=2.6.0->tensorflow-text) (0.4.8)\n",
            "Requirement already satisfied: chardet<4,>=3.0.2 in /usr/local/lib/python3.7/dist-packages (from requests<3,>=2.21.0->tensorboard~=2.6->tensorflow<2.7,>=2.6.0->tensorflow-text) (3.0.4)\n",
            "Requirement already satisfied: idna<3,>=2.5 in /usr/local/lib/python3.7/dist-packages (from requests<3,>=2.21.0->tensorboard~=2.6->tensorflow<2.7,>=2.6.0->tensorflow-text) (2.10)\n",
            "Requirement already satisfied: certifi>=2017.4.17 in /usr/local/lib/python3.7/dist-packages (from requests<3,>=2.21.0->tensorboard~=2.6->tensorflow<2.7,>=2.6.0->tensorflow-text) (2021.5.30)\n",
            "Requirement already satisfied: urllib3!=1.25.0,!=1.25.1,<1.26,>=1.21.1 in /usr/local/lib/python3.7/dist-packages (from requests<3,>=2.21.0->tensorboard~=2.6->tensorflow<2.7,>=2.6.0->tensorflow-text) (1.24.3)\n",
            "Requirement already satisfied: oauthlib>=3.0.0 in /usr/local/lib/python3.7/dist-packages (from requests-oauthlib>=0.7.0->google-auth-oauthlib<0.5,>=0.4.1->tensorboard~=2.6->tensorflow<2.7,>=2.6.0->tensorflow-text) (3.1.1)\n",
            "Requirement already satisfied: zipp>=0.5 in /usr/local/lib/python3.7/dist-packages (from importlib-metadata->markdown>=2.6.8->tensorboard~=2.6->tensorflow<2.7,>=2.6.0->tensorflow-text) (3.6.0)\n",
            "Installing collected packages: tensorflow-text\n",
            "Successfully installed tensorflow-text-2.6.0\n"
          ]
        }
      ]
    },
    {
      "cell_type": "code",
      "metadata": {
        "id": "JjJJyJTZYebt"
      },
      "source": [
        "import collections\n",
        "import logging\n",
        "import os\n",
        "import pathlib\n",
        "import re\n",
        "import string\n",
        "import sys\n",
        "import time\n",
        "\n",
        "import numpy as np\n",
        "import matplotlib.pyplot as plt\n",
        "\n",
        "import tensorflow_datasets as tfds\n",
        "import tensorflow_text as text\n",
        "import tensorflow as tf"
      ],
      "execution_count": 3,
      "outputs": []
    },
    {
      "cell_type": "code",
      "metadata": {
        "id": "pXzVhU34zWEU"
      },
      "source": [
        "logging.getLogger('tensorflow').setLevel(logging.ERROR)  # suppress warnings"
      ],
      "execution_count": 4,
      "outputs": []
    },
    {
      "cell_type": "markdown",
      "metadata": {
        "id": "-cCvXbPkccV1"
      },
      "source": [
        "## Download the Dataset"
      ]
    },
    {
      "cell_type": "markdown",
      "metadata": {
        "id": "t4_Qt8W1hJE_"
      },
      "source": [
        "Use [TensorFlow datasets](https://www.tensorflow.org/datasets) to load the [Portuguese-English translation dataset](https://github.com/neulab/word-embeddings-for-nmt) from the [TED Talks Open Translation Project](https://www.ted.com/participate/translate).\n",
        "\n",
        "This dataset contains approximately 50000 training examples, 1100 validation examples, and 2000 test examples."
      ]
    },
    {
      "cell_type": "code",
      "metadata": {
        "id": "8q9t4FmN96eN",
        "colab": {
          "base_uri": "https://localhost:8080/",
          "height": 441,
          "referenced_widgets": [
            "9b045173e88c4b41aec4a4bbd627d263",
            "5fa25c4e93ea40128908848657aa096a",
            "f470d0382c614cad8b6027bb33bce827",
            "5ab6399daedd47fe89934b8aa45d39d0",
            "4370483d4fa24002a3205b73b10e0f5e",
            "46d7c86d94db4ac4b5e9af8a652179a8",
            "4544363fc6f3474cb9530594e4cf2530",
            "77ddd48e935849b9a3e8573e79807acf",
            "95be3edf77b44cada06328f1a67bb045",
            "36afa4fcc78e489e8a110bbb710fdc4e",
            "d1825b0e04c1425d900146e52efed18f",
            "20074bf32a4944ffac3fb9f761f7cbe6",
            "ceb2a8c284314e1695b4474224026a68",
            "7ab62c1d11754f4eb64ad2d570f3de5e",
            "5752798ba894440daeeb810bb9eb192b",
            "5f83820ccbc84032b04b8d71175c8be9",
            "89e371ce50004d758e5151b8d0ae0955",
            "47da1971801344b3ad06ac653ff415fb",
            "4c810f3d2a4645419271b440659b14fd",
            "28480e8920fc451e9782b13cf45c18f3",
            "687fd64759a24ce3ad1f9e5ca02aa6a6",
            "5e429e79567f408b91df0dc208adf41d",
            "abdd1dc2f0ef4fb1852a32b1a1516a09",
            "4c433432f17b4468b910e312f5e814f7",
            "b7ad12d664de430da1aeb0652f9f9bd9",
            "3875774ee0514a4faeb74234d21b1d12",
            "ebfb8f2447df4e38aedb9b734388d570",
            "95bfb9e97aa24e67b76104803a08d2f0",
            "78d2bf72171a4163b4548632aa1f1a1f",
            "76884ecc283d4e8b861c66815fe7c93e",
            "9a0adccf125f440096b1788f12fbbe41",
            "64ab740a8a49456a9c4739fc35ff86d9",
            "a3e116b038814c4fbf649bbe7dcab90e",
            "dd961ec1a10e4efc9207cd123115ccd0",
            "d76db251f97c4b1e877a1b301024d7b9",
            "c950dbdb3af84cdf8ab95cb55e833a27",
            "7697fe5786284d4a9facd2e9c20f5732",
            "06b9411a8f0646b2a6ef320a8e368648",
            "8eec9159f31f465e9b925c1c9a801984",
            "23b734a28fe14c65a8f3235af985c06d",
            "619d141a45be4c7180bd85a1d240eb76",
            "0b980243b6dc4cdf8b866dbb670eb9df",
            "07b8f8ffe3274613abbebc5da64aa40a",
            "8d79bab9a89245eda8a8ad737d7372fe",
            "46551630b69d43bbbf52e83e107f614d",
            "bda0f411bb054c369277441ebfe82d47",
            "11543bec734a4c1a92f9552f2316a1a7",
            "97978472fa274fa4bfa77ad842766eb2",
            "cfe4dfd666a6405b89a22cb4d59df8b4",
            "b7f556a703e24b86a5e49efc4e8ae4ec",
            "bd0ddde764134fa5b6647f7426753806",
            "05584c36b86244e2b8713fc2f8a76719",
            "b331c209f5884221b47cd36001109b10",
            "3ff8e5f47ac3475ba0821bf3e30725a8",
            "e895fa141a8e4189b1229f4c9a0f61c2",
            "698e7f8c48194a99877ba31558e6b398",
            "c9896653dd814d0eaa16d3d442bcb18a",
            "8f2cad7a5a4a4724a973d68a64616d14",
            "f795192935bb45d1b87e0dd03b8223da",
            "7cb0a87925e64a8da8aacb03448f1fac",
            "9061399d706649128cce3b8a219eab4e",
            "ac0c193925f94c51864329214fac9f3d",
            "7da201e74e6d41e0b037dae4b6956ebb",
            "49671f7febce46e68893f2f7d9e60d08",
            "def4e4db9e864542aeaf7efdbc3765ac",
            "bdd1f2c49ae04f90bcccf8742e75725e",
            "eb58bbfa53304a5387d2d130ddf8e691",
            "329f7c38dedf4ceab1ad3dfd7d78eba7",
            "b0ce42e8df6b40b386a1cf3011014219",
            "49c3d1c748ab43cb8dfa4b9e5391e8bf",
            "dba6839628ad4c1f9a26091f8068e260",
            "c96aea4385d94866bfb745ff29a68c21",
            "8dd29044a9cd4fb1b33901609b46d396",
            "9de52df6bfc14b33983292f6600f9308",
            "0a6e77631fa64dd19ef0dc7ae6edcffe",
            "0bf118fe6a7a4e22b6bed6d1bb7e4964",
            "74c2cf7e792f47e5980d3bb5c79e68aa",
            "dc5b6c25dcf3458694c3327382b9bb44",
            "5aea8044fa804536912e954dbd66185e",
            "c3f70af216624716a784c44a52f744aa",
            "9e6da0bc05f045a4892bcdbe6f0a041a",
            "b9ee8be12026473ca5629bcdf4dfc793",
            "e73ca7584f56418480171d0c215c8c18",
            "a879e47ed05846d6a2376b42fc9a439c",
            "726ae56329b143f7b372cf20b4f1ac74",
            "5185406e255441fdbd1f5e6eaaced34e",
            "97c73db340ab4f2d84c1d8b5cb13c4fd",
            "50cc3a39420b437eb0e621f2ea8454f5",
            "ef4a8cc8b9824435a2a6c998dc642356",
            "186d6f0106ed440ab5a313692e7ed979",
            "f15521f5e4324ada8f18a148e4a58002",
            "51e886a42d534973afca30786bbc1737",
            "db7f9654785a47b998d4d452f0c7ceea",
            "4603ee92e3ed4bb7aa46e74e7a100d01",
            "bbb6604b832b4698bba6784a6a10d1f3",
            "8b3e0c41c9324f87a45d31b897fd3f8f",
            "5c670ecbb1a147bf98cd697751817103",
            "b0b39e1e849440b9a0d1997796fac5f4",
            "ffda734ea0fb4bf78525593f96dbdf57"
          ]
        },
        "outputId": "f9fff108-4a67-4b67-ea09-dee00fa11887"
      },
      "source": [
        "examples, metadata = tfds.load('ted_hrlr_translate/pt_to_en', with_info=True,\n",
        "                               as_supervised=True)\n",
        "train_examples, val_examples = examples['train'], examples['validation']"
      ],
      "execution_count": 5,
      "outputs": [
        {
          "output_type": "stream",
          "name": "stdout",
          "text": [
            "\u001b[1mDownloading and preparing dataset ted_hrlr_translate/pt_to_en/1.0.0 (download: 124.94 MiB, generated: Unknown size, total: 124.94 MiB) to /root/tensorflow_datasets/ted_hrlr_translate/pt_to_en/1.0.0...\u001b[0m\n"
          ]
        },
        {
          "output_type": "display_data",
          "data": {
            "application/vnd.jupyter.widget-view+json": {
              "model_id": "9b045173e88c4b41aec4a4bbd627d263",
              "version_minor": 0,
              "version_major": 2
            },
            "text/plain": [
              "Dl Completed...: 0 url [00:00, ? url/s]"
            ]
          },
          "metadata": {}
        },
        {
          "output_type": "display_data",
          "data": {
            "application/vnd.jupyter.widget-view+json": {
              "model_id": "20074bf32a4944ffac3fb9f761f7cbe6",
              "version_minor": 0,
              "version_major": 2
            },
            "text/plain": [
              "Dl Size...: 0 MiB [00:00, ? MiB/s]"
            ]
          },
          "metadata": {}
        },
        {
          "output_type": "display_data",
          "data": {
            "application/vnd.jupyter.widget-view+json": {
              "model_id": "abdd1dc2f0ef4fb1852a32b1a1516a09",
              "version_minor": 0,
              "version_major": 2
            },
            "text/plain": [
              "Extraction completed...: 0 file [00:00, ? file/s]"
            ]
          },
          "metadata": {}
        },
        {
          "output_type": "stream",
          "name": "stdout",
          "text": [
            "\n",
            "\n",
            "\n"
          ]
        },
        {
          "output_type": "display_data",
          "data": {
            "application/vnd.jupyter.widget-view+json": {
              "model_id": "dd961ec1a10e4efc9207cd123115ccd0",
              "version_minor": 0,
              "version_major": 2
            },
            "text/plain": [
              "0 examples [00:00, ? examples/s]"
            ]
          },
          "metadata": {}
        },
        {
          "output_type": "stream",
          "name": "stdout",
          "text": [
            "Shuffling and writing examples to /root/tensorflow_datasets/ted_hrlr_translate/pt_to_en/1.0.0.incompleteSFQHU0/ted_hrlr_translate-train.tfrecord\n"
          ]
        },
        {
          "output_type": "display_data",
          "data": {
            "application/vnd.jupyter.widget-view+json": {
              "model_id": "46551630b69d43bbbf52e83e107f614d",
              "version_minor": 0,
              "version_major": 2
            },
            "text/plain": [
              "  0%|          | 0/51785 [00:00<?, ? examples/s]"
            ]
          },
          "metadata": {}
        },
        {
          "output_type": "display_data",
          "data": {
            "application/vnd.jupyter.widget-view+json": {
              "model_id": "698e7f8c48194a99877ba31558e6b398",
              "version_minor": 0,
              "version_major": 2
            },
            "text/plain": [
              "0 examples [00:00, ? examples/s]"
            ]
          },
          "metadata": {}
        },
        {
          "output_type": "stream",
          "name": "stdout",
          "text": [
            "Shuffling and writing examples to /root/tensorflow_datasets/ted_hrlr_translate/pt_to_en/1.0.0.incompleteSFQHU0/ted_hrlr_translate-validation.tfrecord\n"
          ]
        },
        {
          "output_type": "display_data",
          "data": {
            "application/vnd.jupyter.widget-view+json": {
              "model_id": "eb58bbfa53304a5387d2d130ddf8e691",
              "version_minor": 0,
              "version_major": 2
            },
            "text/plain": [
              "  0%|          | 0/1193 [00:00<?, ? examples/s]"
            ]
          },
          "metadata": {}
        },
        {
          "output_type": "display_data",
          "data": {
            "application/vnd.jupyter.widget-view+json": {
              "model_id": "dc5b6c25dcf3458694c3327382b9bb44",
              "version_minor": 0,
              "version_major": 2
            },
            "text/plain": [
              "0 examples [00:00, ? examples/s]"
            ]
          },
          "metadata": {}
        },
        {
          "output_type": "stream",
          "name": "stdout",
          "text": [
            "Shuffling and writing examples to /root/tensorflow_datasets/ted_hrlr_translate/pt_to_en/1.0.0.incompleteSFQHU0/ted_hrlr_translate-test.tfrecord\n"
          ]
        },
        {
          "output_type": "display_data",
          "data": {
            "application/vnd.jupyter.widget-view+json": {
              "model_id": "ef4a8cc8b9824435a2a6c998dc642356",
              "version_minor": 0,
              "version_major": 2
            },
            "text/plain": [
              "  0%|          | 0/1803 [00:00<?, ? examples/s]"
            ]
          },
          "metadata": {}
        },
        {
          "output_type": "stream",
          "name": "stdout",
          "text": [
            "\u001b[1mDataset ted_hrlr_translate downloaded and prepared to /root/tensorflow_datasets/ted_hrlr_translate/pt_to_en/1.0.0. Subsequent calls will reuse this data.\u001b[0m\n"
          ]
        }
      ]
    },
    {
      "cell_type": "markdown",
      "metadata": {
        "id": "1OnwQZ2IpTbl"
      },
      "source": [
        "The `tf.data.Dataset` object returned by TensorFlow datasets yields pairs of text examples:"
      ]
    },
    {
      "cell_type": "code",
      "metadata": {
        "id": "AtuMLTQGlHZ1",
        "colab": {
          "base_uri": "https://localhost:8080/"
        },
        "outputId": "0da07b1d-cc36-4ed8-ac27-2b1bb8de0a0f"
      },
      "source": [
        "for pt_examples, en_examples in train_examples.batch(3).take(1):\n",
        "  for pt in pt_examples.numpy():\n",
        "    print(pt.decode('utf-8'))\n",
        "\n",
        "  print()\n",
        "\n",
        "  for en in en_examples.numpy():\n",
        "    print(en.decode('utf-8'))"
      ],
      "execution_count": 6,
      "outputs": [
        {
          "output_type": "stream",
          "name": "stdout",
          "text": [
            "e quando melhoramos a procura , tiramos a única vantagem da impressão , que é a serendipidade .\n",
            "mas e se estes fatores fossem ativos ?\n",
            "mas eles não tinham a curiosidade de me testar .\n",
            "\n",
            "and when you improve searchability , you actually take away the one advantage of print , which is serendipity .\n",
            "but what if it were active ?\n",
            "but they did n't test for curiosity .\n"
          ]
        }
      ]
    },
    {
      "cell_type": "markdown",
      "metadata": {
        "id": "eJxTd6aVnZyh"
      },
      "source": [
        "## Text tokenization & detokenization"
      ]
    },
    {
      "cell_type": "markdown",
      "metadata": {
        "id": "WlHAFNaopq6U"
      },
      "source": [
        "You can't train a model directly on text. The text needs to be converted to some numeric representation first. Typically, you convert the text to sequences of token IDs, which are used as indices into an embedding."
      ]
    },
    {
      "cell_type": "markdown",
      "metadata": {
        "id": "2sPvbCEePzOC"
      },
      "source": [
        "One popular implementation is demonstrated in the [Subword tokenizer tutorial](https://www.tensorflow.org/text/guide/subwords_tokenizer) builds subword tokenizers (`text.BertTokenizer`) optimized for this dataset and exports them in a [saved_model](https://www.tensorflow.org/guide/saved_model). \n",
        "\n",
        "Download and unzip and import the `saved_model`:"
      ]
    },
    {
      "cell_type": "code",
      "metadata": {
        "id": "QToMl0NanZPr",
        "colab": {
          "base_uri": "https://localhost:8080/",
          "height": 86
        },
        "outputId": "9ca8ce0e-5584-4e9b-b78b-56a7f067fc6c"
      },
      "source": [
        "model_name = \"ted_hrlr_translate_pt_en_converter\"\n",
        "tf.keras.utils.get_file(\n",
        "    f\"{model_name}.zip\",\n",
        "    f\"https://storage.googleapis.com/download.tensorflow.org/models/{model_name}.zip\",\n",
        "    cache_dir='.', cache_subdir='', extract=True\n",
        ")"
      ],
      "execution_count": 7,
      "outputs": [
        {
          "output_type": "stream",
          "name": "stdout",
          "text": [
            "Downloading data from https://storage.googleapis.com/download.tensorflow.org/models/ted_hrlr_translate_pt_en_converter.zip\n",
            "188416/184801 [==============================] - 0s 0us/step\n",
            "196608/184801 [===============================] - 0s 0us/step\n"
          ]
        },
        {
          "output_type": "execute_result",
          "data": {
            "application/vnd.google.colaboratory.intrinsic+json": {
              "type": "string"
            },
            "text/plain": [
              "'./ted_hrlr_translate_pt_en_converter.zip'"
            ]
          },
          "metadata": {},
          "execution_count": 7
        }
      ]
    },
    {
      "cell_type": "code",
      "metadata": {
        "id": "h5dbGnPXnuI1"
      },
      "source": [
        "tokenizers = tf.saved_model.load(model_name)"
      ],
      "execution_count": 8,
      "outputs": []
    },
    {
      "cell_type": "markdown",
      "metadata": {
        "id": "KQYc0CJTpnvg"
      },
      "source": [
        "The `tf.saved_model` contains two text tokenizers, one for English and one for Portuguese. Both have the same methods:"
      ]
    },
    {
      "cell_type": "code",
      "metadata": {
        "id": "s-PCJijfcZ9_",
        "colab": {
          "base_uri": "https://localhost:8080/"
        },
        "outputId": "d21acd71-8be8-4fef-a1da-31d1e076e7be"
      },
      "source": [
        "[item for item in dir(tokenizers.en) if not item.startswith('_')]"
      ],
      "execution_count": 9,
      "outputs": [
        {
          "output_type": "execute_result",
          "data": {
            "text/plain": [
              "['detokenize',\n",
              " 'get_reserved_tokens',\n",
              " 'get_vocab_path',\n",
              " 'get_vocab_size',\n",
              " 'lookup',\n",
              " 'tokenize',\n",
              " 'tokenizer',\n",
              " 'vocab']"
            ]
          },
          "metadata": {},
          "execution_count": 9
        }
      ]
    },
    {
      "cell_type": "markdown",
      "metadata": {
        "id": "-pv_nc5lrAiD"
      },
      "source": [
        "The `tokenize` method converts a batch of strings to a padded-batch of token IDs. This method splits punctuation, lowercases and unicode-normalizes the input before tokenizing. That standardization is not visible here because the input data is already standardized."
      ]
    },
    {
      "cell_type": "code",
      "metadata": {
        "id": "0GV-smAAQJtM",
        "colab": {
          "base_uri": "https://localhost:8080/"
        },
        "outputId": "783cd675-175f-48c1-a647-71a70939aded"
      },
      "source": [
        "for en in en_examples.numpy():\n",
        "  print(en.decode('utf-8'))"
      ],
      "execution_count": 10,
      "outputs": [
        {
          "output_type": "stream",
          "name": "stdout",
          "text": [
            "and when you improve searchability , you actually take away the one advantage of print , which is serendipity .\n",
            "but what if it were active ?\n",
            "but they did n't test for curiosity .\n"
          ]
        }
      ]
    },
    {
      "cell_type": "code",
      "metadata": {
        "id": "2fQJq1xB-tOn",
        "colab": {
          "base_uri": "https://localhost:8080/"
        },
        "outputId": "b1fa49ae-f026-4e00-81d4-6faa0febe1f6"
      },
      "source": [
        "encoded = tokenizers.en.tokenize(en_examples)\n",
        "\n",
        "for row in encoded.to_list():\n",
        "  print(row)"
      ],
      "execution_count": 11,
      "outputs": [
        {
          "output_type": "stream",
          "name": "stdout",
          "text": [
            "[2, 72, 117, 79, 1259, 1491, 2362, 13, 79, 150, 184, 311, 71, 103, 2308, 74, 2679, 13, 148, 80, 55, 4840, 1434, 2423, 540, 15, 3]\n",
            "[2, 87, 90, 107, 76, 129, 1852, 30, 3]\n",
            "[2, 87, 83, 149, 50, 9, 56, 664, 85, 2512, 15, 3]\n"
          ]
        }
      ]
    },
    {
      "cell_type": "markdown",
      "metadata": {
        "id": "dBRlikwDR2Lu"
      },
      "source": [
        "The `detokenize` method attempts to convert these token IDs back to human readable text: "
      ]
    },
    {
      "cell_type": "code",
      "metadata": {
        "id": "Tpqx1aug3W31",
        "colab": {
          "base_uri": "https://localhost:8080/"
        },
        "outputId": "1366eb69-da85-4940-e704-2a36d4c4eedd"
      },
      "source": [
        "round_trip = tokenizers.en.detokenize(encoded)\n",
        "for line in round_trip.numpy():\n",
        "  print(line.decode('utf-8'))"
      ],
      "execution_count": 12,
      "outputs": [
        {
          "output_type": "stream",
          "name": "stdout",
          "text": [
            "and when you improve searchability , you actually take away the one advantage of print , which is serendipity .\n",
            "but what if it were active ?\n",
            "but they did n ' t test for curiosity .\n"
          ]
        }
      ]
    },
    {
      "cell_type": "markdown",
      "metadata": {
        "id": "e5mGvytArL9g"
      },
      "source": [
        "The lower level `lookup` method converts from token-IDs to token text:"
      ]
    },
    {
      "cell_type": "code",
      "metadata": {
        "id": "RpzRLzvIuN3R",
        "colab": {
          "base_uri": "https://localhost:8080/"
        },
        "outputId": "3f72e3fd-f681-44fe-e27c-eef8815c5f03"
      },
      "source": [
        "tokens = tokenizers.en.lookup(encoded)\n",
        "tokens"
      ],
      "execution_count": 13,
      "outputs": [
        {
          "output_type": "execute_result",
          "data": {
            "text/plain": [
              "<tf.RaggedTensor [[b'[START]', b'and', b'when', b'you', b'improve', b'search', b'##ability', b',', b'you', b'actually', b'take', b'away', b'the', b'one', b'advantage', b'of', b'print', b',', b'which', b'is', b's', b'##ere', b'##nd', b'##ip', b'##ity', b'.', b'[END]'], [b'[START]', b'but', b'what', b'if', b'it', b'were', b'active', b'?', b'[END]'], [b'[START]', b'but', b'they', b'did', b'n', b\"'\", b't', b'test', b'for', b'curiosity', b'.', b'[END]']]>"
            ]
          },
          "metadata": {},
          "execution_count": 13
        }
      ]
    },
    {
      "cell_type": "markdown",
      "metadata": {
        "id": "5V8Ix_PNSfhV"
      },
      "source": [
        "Here you can see the \"subword\" aspect of the tokenizers. The word \"searchability\" is decomposed into \"search ##ability\" and the word \"serendipity\" into \"s ##ere ##nd ##ip ##ity\""
      ]
    },
    {
      "cell_type": "markdown",
      "metadata": {
        "id": "fd1NWMxjfsDd"
      },
      "source": [
        "## Setup input pipeline"
      ]
    },
    {
      "cell_type": "markdown",
      "metadata": {
        "id": "E7JHK7N7tNZy"
      },
      "source": [
        "To build an input pipeline suitable for training you'll apply some transformations to the dataset.\n",
        "\n",
        "This function will be used to encode the batches of raw text:"
      ]
    },
    {
      "cell_type": "code",
      "metadata": {
        "id": "6shgzEck3FiV"
      },
      "source": [
        "def tokenize_pairs(pt, en):\n",
        "    pt = tokenizers.pt.tokenize(pt)\n",
        "    # Convert from ragged to dense, padding with zeros.\n",
        "    pt = pt.to_tensor()\n",
        "\n",
        "    en = tokenizers.en.tokenize(en)\n",
        "    # Convert from ragged to dense, padding with zeros.\n",
        "    en = en.to_tensor()\n",
        "    return pt, en"
      ],
      "execution_count": 14,
      "outputs": []
    },
    {
      "cell_type": "markdown",
      "metadata": {
        "id": "cf2HwC_0wG0v"
      },
      "source": [
        "Here's a simple input pipeline that processes, shuffles and batches the data:"
      ]
    },
    {
      "cell_type": "code",
      "metadata": {
        "id": "bcRp7VcQ5m6g"
      },
      "source": [
        "BUFFER_SIZE = 20000\n",
        "BATCH_SIZE = 64"
      ],
      "execution_count": 15,
      "outputs": []
    },
    {
      "cell_type": "code",
      "metadata": {
        "id": "BUN_jLBTwNxk"
      },
      "source": [
        "def make_batches(ds):\n",
        "  return (\n",
        "      ds\n",
        "      .cache()\n",
        "      .shuffle(BUFFER_SIZE)\n",
        "      .batch(BATCH_SIZE)\n",
        "      .map(tokenize_pairs, num_parallel_calls=tf.data.AUTOTUNE)\n",
        "      .prefetch(tf.data.AUTOTUNE))\n",
        "\n",
        "\n",
        "train_batches = make_batches(train_examples)\n",
        "val_batches = make_batches(val_examples)"
      ],
      "execution_count": 16,
      "outputs": []
    },
    {
      "cell_type": "markdown",
      "metadata": {
        "id": "nBQuibYA4n0n"
      },
      "source": [
        "## Positional encoding\n",
        "\n",
        "Attention layers see their input as a set of vectors, with no sequential order. This model also doesn't contain any recurrent or convolutional layers. Because of this a \"positional encoding\" is added to give the model some information about the relative position of the tokens in the sentence. \n",
        "\n",
        "The positional encoding vector is added to the embedding vector. Embeddings represent a token in a d-dimensional space where tokens with similar meaning will be closer to each other. But the embeddings do not encode the relative position of tokens in a sentence. So after adding the positional encoding, tokens will be closer to each other based on the *similarity of their meaning and their position in the sentence*, in the d-dimensional space.\n",
        "\n",
        "The formula for calculating the positional encoding is as follows:\n",
        "\n",
        "$$\\Large{PE_{(pos, 2i)} = \\sin(pos / 10000^{2i / d_{model}})} $$\n",
        "$$\\Large{PE_{(pos, 2i+1)} = \\cos(pos / 10000^{2i / d_{model}})} $$"
      ]
    },
    {
      "cell_type": "code",
      "metadata": {
        "id": "WhIOZjMNKujn"
      },
      "source": [
        "def get_angles(pos, i, d_model):\n",
        "  angle_rates = 1 / np.power(10000, (2 * (i//2)) / np.float32(d_model))\n",
        "  return pos * angle_rates"
      ],
      "execution_count": 17,
      "outputs": []
    },
    {
      "cell_type": "code",
      "metadata": {
        "id": "1Rz82wEs5biZ"
      },
      "source": [
        "def positional_encoding(position, d_model):\n",
        "  angle_rads = get_angles(np.arange(position)[:, np.newaxis],\n",
        "                          np.arange(d_model)[np.newaxis, :],\n",
        "                          d_model)\n",
        "\n",
        "  # apply sin to even indices in the array; 2i\n",
        "  angle_rads[:, 0::2] = np.sin(angle_rads[:, 0::2])\n",
        "\n",
        "  # apply cos to odd indices in the array; 2i+1\n",
        "  angle_rads[:, 1::2] = np.cos(angle_rads[:, 1::2])\n",
        "\n",
        "  pos_encoding = angle_rads[np.newaxis, ...]\n",
        "\n",
        "  return tf.cast(pos_encoding, dtype=tf.float32)"
      ],
      "execution_count": 18,
      "outputs": []
    },
    {
      "cell_type": "code",
      "metadata": {
        "id": "1kLCla68EloE",
        "colab": {
          "base_uri": "https://localhost:8080/",
          "height": 300
        },
        "outputId": "9df58814-4d4e-452e-9076-7d49e1e87406"
      },
      "source": [
        "n, d = 2048, 512\n",
        "pos_encoding = positional_encoding(n, d)\n",
        "print(pos_encoding.shape)\n",
        "pos_encoding = pos_encoding[0]\n",
        "\n",
        "# Juggle the dimensions for the plot\n",
        "pos_encoding = tf.reshape(pos_encoding, (n, d//2, 2))\n",
        "pos_encoding = tf.transpose(pos_encoding, (2, 1, 0))\n",
        "pos_encoding = tf.reshape(pos_encoding, (d, n))\n",
        "\n",
        "plt.pcolormesh(pos_encoding, cmap='RdBu')\n",
        "plt.ylabel('Depth')\n",
        "plt.xlabel('Position')\n",
        "plt.colorbar()\n",
        "plt.show()"
      ],
      "execution_count": 19,
      "outputs": [
        {
          "output_type": "stream",
          "name": "stdout",
          "text": [
            "(1, 2048, 512)\n"
          ]
        },
        {
          "output_type": "display_data",
          "data": {
            "image/png": "[encoded data removed]",
            "text/plain": [
              "<Figure size 432x288 with 2 Axes>"
            ]
          },
          "metadata": {
            "needs_background": "light"
          }
        }
      ]
    },
    {
      "cell_type": "markdown",
      "metadata": {
        "id": "a_b4ou4TYqUN"
      },
      "source": [
        "## Masking"
      ]
    },
    {
      "cell_type": "markdown",
      "metadata": {
        "id": "s42Uydjkv0hF"
      },
      "source": [
        "Mask all the pad tokens in the batch of sequence. It ensures that the model does not treat padding as the input. The mask indicates where pad value `0` is present: it outputs a `1` at those locations, and a `0` otherwise."
      ]
    },
    {
      "cell_type": "code",
      "metadata": {
        "id": "U2i8-e1s8ti9"
      },
      "source": [
        "def create_padding_mask(seq):\n",
        "  seq = tf.cast(tf.math.equal(seq, 0), tf.float32)\n",
        "\n",
        "  # add extra dimensions to add the padding\n",
        "  # to the attention logits.\n",
        "  return seq[:, tf.newaxis, tf.newaxis, :]  # (batch_size, 1, 1, seq_len)"
      ],
      "execution_count": 20,
      "outputs": []
    },
    {
      "cell_type": "code",
      "metadata": {
        "id": "A7BYeBCNvi7n",
        "colab": {
          "base_uri": "https://localhost:8080/"
        },
        "outputId": "192c5249-7322-462e-e5a3-860eac166ca4"
      },
      "source": [
        "x = tf.constant([[7, 6, 0, 0, 1], [1, 2, 3, 0, 0], [0, 0, 0, 4, 5]])\n",
        "create_padding_mask(x)"
      ],
      "execution_count": 21,
      "outputs": [
        {
          "output_type": "execute_result",
          "data": {
            "text/plain": [
              "<tf.Tensor: shape=(3, 1, 1, 5), dtype=float32, numpy=\n",
              "array([[[[0., 0., 1., 1., 0.]]],\n",
              "\n",
              "\n",
              "       [[[0., 0., 0., 1., 1.]]],\n",
              "\n",
              "\n",
              "       [[[1., 1., 1., 0., 0.]]]], dtype=float32)>"
            ]
          },
          "metadata": {},
          "execution_count": 21
        }
      ]
    },
    {
      "cell_type": "markdown",
      "metadata": {
        "id": "Z0hzukDBgVom"
      },
      "source": [
        "The look-ahead mask is used to mask the future tokens in a sequence. In other words, the mask indicates which entries should not be used.\n",
        "\n",
        "This means that to predict the third token, only the first and second token will be used. Similarly to predict the fourth token, only the first, second and the third tokens will be used and so on."
      ]
    },
    {
      "cell_type": "code",
      "metadata": {
        "id": "dVxS8OPI9uI0"
      },
      "source": [
        "def create_look_ahead_mask(size):\n",
        "  mask = 1 - tf.linalg.band_part(tf.ones((size, size)), -1, 0)\n",
        "  return mask  # (seq_len, seq_len)"
      ],
      "execution_count": 22,
      "outputs": []
    },
    {
      "cell_type": "code",
      "metadata": {
        "id": "yxKGuXxaBeeE",
        "colab": {
          "base_uri": "https://localhost:8080/"
        },
        "outputId": "a9a970c9-850c-42ab-9b03-758871edbf89"
      },
      "source": [
        "x = tf.random.uniform((1, 3))\n",
        "temp = create_look_ahead_mask(x.shape[1])\n",
        "temp"
      ],
      "execution_count": 23,
      "outputs": [
        {
          "output_type": "execute_result",
          "data": {
            "text/plain": [
              "<tf.Tensor: shape=(3, 3), dtype=float32, numpy=\n",
              "array([[0., 1., 1.],\n",
              "       [0., 0., 1.],\n",
              "       [0., 0., 0.]], dtype=float32)>"
            ]
          },
          "metadata": {},
          "execution_count": 23
        }
      ]
    },
    {
      "cell_type": "markdown",
      "metadata": {
        "id": "xluDl5cXYy4y"
      },
      "source": [
        "## Scaled dot product attention"
      ]
    },
    {
      "cell_type": "markdown",
      "metadata": {
        "id": "vsxEE_-Wa1gF"
      },
      "source": [
        "<img src=\"https://www.tensorflow.org/images/tutorials/transformer/scaled_attention.png\" width=\"500\" alt=\"scaled_dot_product_attention\">\n",
        "\n",
        "The attention function used by the transformer takes three inputs: Q (query), K (key), V (value). The equation used to calculate the attention weights is:\n",
        "\n",
        "$$\\Large{Attention(Q, K, V) = softmax_k\\left(\\frac{QK^T}{\\sqrt{d_k}}\\right) V} $$\n",
        "\n",
        "The dot-product attention is scaled by a factor of square root of the depth. This is done because for large values of depth, the dot product grows large in magnitude pushing the softmax function where it has small gradients resulting in a very hard softmax. \n",
        "\n",
        "For example, consider that `Q` and `K` have a mean of 0 and variance of 1. Their matrix multiplication will have a mean of 0 and variance of `dk`. So the *square root of `dk`* is used for scaling, so you get a consistent variance regardless of the value of `dk`. If the variance is too low the output may be too flat to optimize effectively. If the variance is too high the softmax may saturate at initialization making it difficult to learn.\n",
        "\n",
        "The mask is multiplied with -1e9 (close to negative infinity). This is done because the mask is summed with the scaled matrix multiplication of Q and K and is applied immediately before a softmax. The goal is to zero out these cells, and large negative inputs to softmax are near zero in the output."
      ]
    },
    {
      "cell_type": "code",
      "metadata": {
        "id": "LazzUq3bJ5SH"
      },
      "source": [
        "def scaled_dot_product_attention(q, k, v, mask):\n",
        "  \"\"\"Calculate the attention weights.\n",
        "  q, k, v must have matching leading dimensions.\n",
        "  k, v must have matching penultimate dimension, i.e.: seq_len_k = seq_len_v.\n",
        "  The mask has different shapes depending on its type(padding or look ahead)\n",
        "  but it must be broadcastable for addition.\n",
        "\n",
        "  Args:\n",
        "    q: query shape == (..., seq_len_q, depth)\n",
        "    k: key shape == (..., seq_len_k, depth)\n",
        "    v: value shape == (..., seq_len_v, depth_v)\n",
        "    mask: Float tensor with shape broadcastable\n",
        "          to (..., seq_len_q, seq_len_k). Defaults to None.\n",
        "\n",
        "  Returns:\n",
        "    output, attention_weights\n",
        "  \"\"\"\n",
        "\n",
        "  matmul_qk = tf.matmul(q, k, transpose_b=True)  # (..., seq_len_q, seq_len_k)\n",
        "\n",
        "  # scale matmul_qk\n",
        "  dk = tf.cast(tf.shape(k)[-1], tf.float32)\n",
        "  scaled_attention_logits = matmul_qk / tf.math.sqrt(dk)\n",
        "\n",
        "  # add the mask to the scaled tensor.\n",
        "  if mask is not None:\n",
        "    scaled_attention_logits += (mask * -1e9)\n",
        "\n",
        "  # softmax is normalized on the last axis (seq_len_k) so that the scores\n",
        "  # add up to 1.\n",
        "  attention_weights = tf.nn.softmax(scaled_attention_logits, axis=-1)  # (..., seq_len_q, seq_len_k)\n",
        "\n",
        "  output = tf.matmul(attention_weights, v)  # (..., seq_len_q, depth_v)\n",
        "\n",
        "  return output, attention_weights"
      ],
      "execution_count": 24,
      "outputs": []
    },
    {
      "cell_type": "markdown",
      "metadata": {
        "id": "FiqETnhCkoXh"
      },
      "source": [
        "As the softmax normalization is done on K, its values decide the amount of importance given to Q.\n",
        "\n",
        "The output represents the multiplication of the attention weights and the V (value) vector. This ensures that the tokens you want to focus on are kept as-is and the irrelevant tokens are flushed out."
      ]
    },
    {
      "cell_type": "code",
      "metadata": {
        "id": "n90YjClyInFy"
      },
      "source": [
        "def print_out(q, k, v):\n",
        "  temp_out, temp_attn = scaled_dot_product_attention(\n",
        "      q, k, v, None)\n",
        "  print('Attention weights are:')\n",
        "  print(temp_attn)\n",
        "  print('Output is:')\n",
        "  print(temp_out)"
      ],
      "execution_count": 25,
      "outputs": []
    },
    {
      "cell_type": "code",
      "metadata": {
        "id": "yAzUAf2DPlNt",
        "colab": {
          "base_uri": "https://localhost:8080/"
        },
        "outputId": "494c268f-6a4c-468e-e66d-ec147559ba1b"
      },
      "source": [
        "np.set_printoptions(suppress=True)\n",
        "\n",
        "temp_k = tf.constant([[10, 0, 0],\n",
        "                      [0, 10, 0],\n",
        "                      [0, 0, 10],\n",
        "                      [0, 0, 10]], dtype=tf.float32)  # (4, 3)\n",
        "\n",
        "temp_v = tf.constant([[1, 0],\n",
        "                      [10, 0],\n",
        "                      [100, 5],\n",
        "                      [1000, 6]], dtype=tf.float32)  # (4, 2)\n",
        "\n",
        "# This `query` aligns with the second `key`,\n",
        "# so the second `value` is returned.\n",
        "temp_q = tf.constant([[0, 10, 0]], dtype=tf.float32)  # (1, 3)\n",
        "print_out(temp_q, temp_k, temp_v)"
      ],
      "execution_count": 26,
      "outputs": [
        {
          "output_type": "stream",
          "name": "stdout",
          "text": [
            "Attention weights are:\n",
            "tf.Tensor([[0. 1. 0. 0.]], shape=(1, 4), dtype=float32)\n",
            "Output is:\n",
            "tf.Tensor([[10.  0.]], shape=(1, 2), dtype=float32)\n"
          ]
        }
      ]
    },
    {
      "cell_type": "code",
      "metadata": {
        "id": "zg6k-fGhgXra",
        "colab": {
          "base_uri": "https://localhost:8080/"
        },
        "outputId": "feb9d611-615a-4943-c420-3e00bd5112cf"
      },
      "source": [
        "# This query aligns with a repeated key (third and fourth),\n",
        "# so all associated values get averaged.\n",
        "temp_q = tf.constant([[0, 0, 10]], dtype=tf.float32)  # (1, 3)\n",
        "print_out(temp_q, temp_k, temp_v)"
      ],
      "execution_count": 27,
      "outputs": [
        {
          "output_type": "stream",
          "name": "stdout",
          "text": [
            "Attention weights are:\n",
            "tf.Tensor([[0.  0.  0.5 0.5]], shape=(1, 4), dtype=float32)\n",
            "Output is:\n",
            "tf.Tensor([[550.    5.5]], shape=(1, 2), dtype=float32)\n"
          ]
        }
      ]
    },
    {
      "cell_type": "code",
      "metadata": {
        "id": "UAq3YOzUgXhb",
        "colab": {
          "base_uri": "https://localhost:8080/"
        },
        "outputId": "13e1c5ab-70a0-49bd-852a-a0f55c74a986"
      },
      "source": [
        "# This query aligns equally with the first and second key,\n",
        "# so their values get averaged.\n",
        "temp_q = tf.constant([[10, 10, 0]], dtype=tf.float32)  # (1, 3)\n",
        "print_out(temp_q, temp_k, temp_v)"
      ],
      "execution_count": 28,
      "outputs": [
        {
          "output_type": "stream",
          "name": "stdout",
          "text": [
            "Attention weights are:\n",
            "tf.Tensor([[0.5 0.5 0.  0. ]], shape=(1, 4), dtype=float32)\n",
            "Output is:\n",
            "tf.Tensor([[5.5 0. ]], shape=(1, 2), dtype=float32)\n"
          ]
        }
      ]
    },
    {
      "cell_type": "markdown",
      "metadata": {
        "id": "aOz-4_XIhaTP"
      },
      "source": [
        "Pass all the queries together."
      ]
    },
    {
      "cell_type": "code",
      "metadata": {
        "id": "6dlU8Tm-hYrF",
        "colab": {
          "base_uri": "https://localhost:8080/"
        },
        "outputId": "b3a7a40a-4f10-4527-e78b-5407e598d142"
      },
      "source": [
        "temp_q = tf.constant([[0, 0, 10],\n",
        "                      [0, 10, 0],\n",
        "                      [10, 10, 0]], dtype=tf.float32)  # (3, 3)\n",
        "print_out(temp_q, temp_k, temp_v)"
      ],
      "execution_count": 29,
      "outputs": [
        {
          "output_type": "stream",
          "name": "stdout",
          "text": [
            "Attention weights are:\n",
            "tf.Tensor(\n",
            "[[0.  0.  0.5 0.5]\n",
            " [0.  1.  0.  0. ]\n",
            " [0.5 0.5 0.  0. ]], shape=(3, 4), dtype=float32)\n",
            "Output is:\n",
            "tf.Tensor(\n",
            "[[550.    5.5]\n",
            " [ 10.    0. ]\n",
            " [  5.5   0. ]], shape=(3, 2), dtype=float32)\n"
          ]
        }
      ]
    },
    {
      "cell_type": "markdown",
      "metadata": {
        "id": "kmzGPEy64qmA"
      },
      "source": [
        "## Multi-head attention"
      ]
    },
    {
      "cell_type": "markdown",
      "metadata": {
        "id": "fz5BMC8Kaoqo"
      },
      "source": [
        "<img src=\"https://www.tensorflow.org/images/tutorials/transformer/multi_head_attention.png\" width=\"500\" alt=\"multi-head attention\">\n",
        "\n",
        "\n",
        "Multi-head attention consists of four parts:\n",
        "*    Linear layers.\n",
        "*    Scaled dot-product attention.\n",
        "*    Final linear layer."
      ]
    },
    {
      "cell_type": "markdown",
      "metadata": {
        "id": "JPmbr6F1C-v_"
      },
      "source": [
        "Each multi-head attention block gets three inputs; Q (query), K (key), V (value). These are put through linear (Dense) layers before the multi-head attention function.\n",
        "\n",
        "In the diagram above `(K,Q,V)` are passed through sepearte linear (`Dense`) layers for each attention head. For simplicity/efficiency the code below implements this using a single dense layer with `num_heads` times as many outputs. The output is rearranged to a shape of `(batch, num_heads, ...)` before applying the attention function.\n",
        "\n",
        "The `scaled_dot_product_attention` function defined above is applied in a single call, broadcasted for efficiency. An appropriate mask must be used in the attention step.  The attention output for each head is then concatenated (using `tf.transpose`, and `tf.reshape`) and put through a final `Dense` layer.\n",
        "\n",
        "Instead of one single attention head, Q, K, and V are split into multiple heads because it allows the model to jointly attend to information from different representation subspaces at different positions. After the split each head has a reduced dimensionality, so the total computation cost is the same as a single head attention with full dimensionality."
      ]
    },
    {
      "cell_type": "code",
      "metadata": {
        "id": "BSV3PPKsYecw"
      },
      "source": [
        "class MultiHeadAttention(tf.keras.layers.Layer):\n",
        "  def __init__(self, d_model, num_heads):\n",
        "    super(MultiHeadAttention, self).__init__()\n",
        "    self.num_heads = num_heads\n",
        "    self.d_model = d_model\n",
        "\n",
        "    assert d_model % self.num_heads == 0\n",
        "\n",
        "    self.depth = d_model // self.num_heads\n",
        "\n",
        "    self.wq = tf.keras.layers.Dense(d_model)\n",
        "    self.wk = tf.keras.layers.Dense(d_model)\n",
        "    self.wv = tf.keras.layers.Dense(d_model)\n",
        "\n",
        "    self.dense = tf.keras.layers.Dense(d_model)\n",
        "\n",
        "  def split_heads(self, x, batch_size):\n",
        "    \"\"\"Split the last dimension into (num_heads, depth).\n",
        "    Transpose the result such that the shape is (batch_size, num_heads, seq_len, depth)\n",
        "    \"\"\"\n",
        "    x = tf.reshape(x, (batch_size, -1, self.num_heads, self.depth))\n",
        "    return tf.transpose(x, perm=[0, 2, 1, 3])\n",
        "\n",
        "  def call(self, v, k, q, mask):\n",
        "    batch_size = tf.shape(q)[0]\n",
        "\n",
        "    q = self.wq(q)  # (batch_size, seq_len, d_model)\n",
        "    k = self.wk(k)  # (batch_size, seq_len, d_model)\n",
        "    v = self.wv(v)  # (batch_size, seq_len, d_model)\n",
        "\n",
        "    q = self.split_heads(q, batch_size)  # (batch_size, num_heads, seq_len_q, depth)\n",
        "    k = self.split_heads(k, batch_size)  # (batch_size, num_heads, seq_len_k, depth)\n",
        "    v = self.split_heads(v, batch_size)  # (batch_size, num_heads, seq_len_v, depth)\n",
        "\n",
        "    # scaled_attention.shape == (batch_size, num_heads, seq_len_q, depth)\n",
        "    # attention_weights.shape == (batch_size, num_heads, seq_len_q, seq_len_k)\n",
        "    scaled_attention, attention_weights = scaled_dot_product_attention(\n",
        "        q, k, v, mask)\n",
        "\n",
        "    scaled_attention = tf.transpose(scaled_attention, perm=[0, 2, 1, 3])  # (batch_size, seq_len_q, num_heads, depth)\n",
        "\n",
        "    concat_attention = tf.reshape(scaled_attention,\n",
        "                                  (batch_size, -1, self.d_model))  # (batch_size, seq_len_q, d_model)\n",
        "\n",
        "    output = self.dense(concat_attention)  # (batch_size, seq_len_q, d_model)\n",
        "\n",
        "    return output, attention_weights"
      ],
      "execution_count": 30,
      "outputs": []
    },
    {
      "cell_type": "markdown",
      "metadata": {
        "id": "0D8FJue5lDyZ"
      },
      "source": [
        "Create a `MultiHeadAttention` layer to try out. At each location in the sequence, `y`, the `MultiHeadAttention` runs all 8 attention heads across all other locations in the sequence, returning a new vector of the same length at each location."
      ]
    },
    {
      "cell_type": "code",
      "metadata": {
        "id": "Hu94p-_-2_BX",
        "colab": {
          "base_uri": "https://localhost:8080/"
        },
        "outputId": "b48e3cd5-77b3-491c-bbf7-e6c2323338ab"
      },
      "source": [
        "temp_mha = MultiHeadAttention(d_model=512, num_heads=8)\n",
        "y = tf.random.uniform((1, 60, 512))  # (batch_size, encoder_sequence, d_model)\n",
        "out, attn = temp_mha(y, k=y, q=y, mask=None)\n",
        "out.shape, attn.shape"
      ],
      "execution_count": 31,
      "outputs": [
        {
          "output_type": "execute_result",
          "data": {
            "text/plain": [
              "(TensorShape([1, 60, 512]), TensorShape([1, 8, 60, 60]))"
            ]
          },
          "metadata": {},
          "execution_count": 31
        }
      ]
    },
    {
      "cell_type": "markdown",
      "metadata": {
        "id": "RdDqGayx67vv"
      },
      "source": [
        "## Point wise feed forward network"
      ]
    },
    {
      "cell_type": "markdown",
      "metadata": {
        "id": "gBqzJXGfHK3X"
      },
      "source": [
        "Point wise feed forward network consists of two fully-connected layers with a ReLU activation in between."
      ]
    },
    {
      "cell_type": "code",
      "metadata": {
        "id": "ET7xLt0yCT6Z"
      },
      "source": [
        "def point_wise_feed_forward_network(d_model, dff):\n",
        "  return tf.keras.Sequential([\n",
        "      tf.keras.layers.Dense(dff, activation='relu'),  # (batch_size, seq_len, dff)\n",
        "      tf.keras.layers.Dense(d_model)  # (batch_size, seq_len, d_model)\n",
        "  ])"
      ],
      "execution_count": 32,
      "outputs": []
    },
    {
      "cell_type": "code",
      "metadata": {
        "id": "mytb1lPyOHLB",
        "colab": {
          "base_uri": "https://localhost:8080/"
        },
        "outputId": "92a21061-0704-42ec-da49-93c82676ce6e"
      },
      "source": [
        "sample_ffn = point_wise_feed_forward_network(512, 2048)\n",
        "sample_ffn(tf.random.uniform((64, 50, 512))).shape"
      ],
      "execution_count": 33,
      "outputs": [
        {
          "output_type": "execute_result",
          "data": {
            "text/plain": [
              "TensorShape([64, 50, 512])"
            ]
          },
          "metadata": {},
          "execution_count": 33
        }
      ]
    },
    {
      "cell_type": "markdown",
      "metadata": {
        "id": "7e7hKcxn6-zd"
      },
      "source": [
        "## Encoder and decoder"
      ]
    },
    {
      "cell_type": "markdown",
      "metadata": {
        "id": "yScbC0MUH8dS"
      },
      "source": [
        "<img src=\"https://www.tensorflow.org/images/tutorials/transformer/transformer.png\" width=\"600\" alt=\"transformer\">"
      ]
    },
    {
      "cell_type": "markdown",
      "metadata": {
        "id": "MfYJG-Kvgwy2"
      },
      "source": [
        "The transformer model follows the same general pattern as a standard [sequence to sequence with attention model](https://www.tensorflow.org/text/tutorials/nmt_with_attention.ipynb). \n",
        "\n",
        "* The input sentence is passed through `N` encoder layers that generates an output for each token in the sequence.\n",
        "* The decoder attends to the encoder's output and its own input (self-attention) to predict the next word. "
      ]
    },
    {
      "cell_type": "markdown",
      "metadata": {
        "id": "QFv-FNYUmvpn"
      },
      "source": [
        "### Encoder layer\n",
        "\n",
        "Each encoder layer consists of sublayers:\n",
        "\n",
        "1.   Multi-head attention (with padding mask) \n",
        "2.    Point wise feed forward networks. \n",
        "\n",
        "Each of these sublayers has a residual connection around it followed by a layer normalization. Residual connections help in avoiding the vanishing gradient problem in deep networks.\n",
        "\n",
        "The output of each sublayer is `LayerNorm(x + Sublayer(x))`. The normalization is done on the `d_model` (last) axis. There are N encoder layers in the transformer."
      ]
    },
    {
      "cell_type": "code",
      "metadata": {
        "id": "ncyS-Ms3i2x_"
      },
      "source": [
        "class EncoderLayer(tf.keras.layers.Layer):\n",
        "  def __init__(self, d_model, num_heads, dff, rate=0.1):\n",
        "    super(EncoderLayer, self).__init__()\n",
        "\n",
        "    self.mha = MultiHeadAttention(d_model, num_heads)\n",
        "    self.ffn = point_wise_feed_forward_network(d_model, dff)\n",
        "\n",
        "    self.layernorm1 = tf.keras.layers.LayerNormalization(epsilon=1e-6)\n",
        "    self.layernorm2 = tf.keras.layers.LayerNormalization(epsilon=1e-6)\n",
        "\n",
        "    self.dropout1 = tf.keras.layers.Dropout(rate)\n",
        "    self.dropout2 = tf.keras.layers.Dropout(rate)\n",
        "\n",
        "  def call(self, x, training, mask):\n",
        "\n",
        "    attn_output, _ = self.mha(x, x, x, mask)  # (batch_size, input_seq_len, d_model)\n",
        "    attn_output = self.dropout1(attn_output, training=training)\n",
        "    out1 = self.layernorm1(x + attn_output)  # (batch_size, input_seq_len, d_model)\n",
        "\n",
        "    ffn_output = self.ffn(out1)  # (batch_size, input_seq_len, d_model)\n",
        "    ffn_output = self.dropout2(ffn_output, training=training)\n",
        "    out2 = self.layernorm2(out1 + ffn_output)  # (batch_size, input_seq_len, d_model)\n",
        "\n",
        "    return out2"
      ],
      "execution_count": 34,
      "outputs": []
    },
    {
      "cell_type": "code",
      "metadata": {
        "id": "AzZRXdO0mI48",
        "colab": {
          "base_uri": "https://localhost:8080/"
        },
        "outputId": "579bb39c-999d-46f3-d35f-46f296c96e67"
      },
      "source": [
        "sample_encoder_layer = EncoderLayer(512, 8, 2048)\n",
        "\n",
        "sample_encoder_layer_output = sample_encoder_layer(\n",
        "    tf.random.uniform((64, 43, 512)), False, None)\n",
        "\n",
        "sample_encoder_layer_output.shape  # (batch_size, input_seq_len, d_model)"
      ],
      "execution_count": 35,
      "outputs": [
        {
          "output_type": "execute_result",
          "data": {
            "text/plain": [
              "TensorShape([64, 43, 512])"
            ]
          },
          "metadata": {},
          "execution_count": 35
        }
      ]
    },
    {
      "cell_type": "markdown",
      "metadata": {
        "id": "6LO_48Owmx_o"
      },
      "source": [
        "### Decoder layer\n",
        "\n",
        "Each decoder layer consists of sublayers:\n",
        "\n",
        "1.   Masked multi-head attention (with look ahead mask and padding mask)\n",
        "2.   Multi-head attention (with padding mask). V (value) and K (key) receive the *encoder output* as inputs. Q (query) receives the *output from the masked multi-head attention sublayer.*\n",
        "3.   Point wise feed forward networks\n",
        "\n",
        "Each of these sublayers has a residual connection around it followed by a layer normalization. The output of each sublayer is `LayerNorm(x + Sublayer(x))`. The normalization is done on the `d_model` (last) axis.\n",
        "\n",
        "There are N decoder layers in the transformer.\n",
        "\n",
        "As Q receives the output from decoder's first attention block, and K receives the encoder output, the attention weights represent the importance given to the decoder's input based on the encoder's output. In other words, the decoder predicts the next token by looking at the encoder output and self-attending to its own output. See the demonstration above in the scaled dot product attention section."
      ]
    },
    {
      "cell_type": "code",
      "metadata": {
        "id": "9SoX0-vd1hue"
      },
      "source": [
        "class DecoderLayer(tf.keras.layers.Layer):\n",
        "  def __init__(self, d_model, num_heads, dff, rate=0.1):\n",
        "    super(DecoderLayer, self).__init__()\n",
        "\n",
        "    self.mha1 = MultiHeadAttention(d_model, num_heads)\n",
        "    self.mha2 = MultiHeadAttention(d_model, num_heads)\n",
        "\n",
        "    self.ffn = point_wise_feed_forward_network(d_model, dff)\n",
        "\n",
        "    self.layernorm1 = tf.keras.layers.LayerNormalization(epsilon=1e-6)\n",
        "    self.layernorm2 = tf.keras.layers.LayerNormalization(epsilon=1e-6)\n",
        "    self.layernorm3 = tf.keras.layers.LayerNormalization(epsilon=1e-6)\n",
        "\n",
        "    self.dropout1 = tf.keras.layers.Dropout(rate)\n",
        "    self.dropout2 = tf.keras.layers.Dropout(rate)\n",
        "    self.dropout3 = tf.keras.layers.Dropout(rate)\n",
        "\n",
        "  def call(self, x, enc_output, training,\n",
        "           look_ahead_mask, padding_mask):\n",
        "    # enc_output.shape == (batch_size, input_seq_len, d_model)\n",
        "\n",
        "    attn1, attn_weights_block1 = self.mha1(x, x, x, look_ahead_mask)  # (batch_size, target_seq_len, d_model)\n",
        "    attn1 = self.dropout1(attn1, training=training)\n",
        "    out1 = self.layernorm1(attn1 + x)\n",
        "\n",
        "    attn2, attn_weights_block2 = self.mha2(\n",
        "        enc_output, enc_output, out1, padding_mask)  # (batch_size, target_seq_len, d_model)\n",
        "    attn2 = self.dropout2(attn2, training=training)\n",
        "    out2 = self.layernorm2(attn2 + out1)  # (batch_size, target_seq_len, d_model)\n",
        "\n",
        "    ffn_output = self.ffn(out2)  # (batch_size, target_seq_len, d_model)\n",
        "    ffn_output = self.dropout3(ffn_output, training=training)\n",
        "    out3 = self.layernorm3(ffn_output + out2)  # (batch_size, target_seq_len, d_model)\n",
        "\n",
        "    return out3, attn_weights_block1, attn_weights_block2"
      ],
      "execution_count": 36,
      "outputs": []
    },
    {
      "cell_type": "code",
      "metadata": {
        "id": "Ne2Bqx8k71l0",
        "colab": {
          "base_uri": "https://localhost:8080/"
        },
        "outputId": "152d00ab-d8d9-43bc-b166-740bd4c95cc9"
      },
      "source": [
        "sample_decoder_layer = DecoderLayer(512, 8, 2048)\n",
        "\n",
        "sample_decoder_layer_output, _, _ = sample_decoder_layer(\n",
        "    tf.random.uniform((64, 50, 512)), sample_encoder_layer_output,\n",
        "    False, None, None)\n",
        "\n",
        "sample_decoder_layer_output.shape  # (batch_size, target_seq_len, d_model)"
      ],
      "execution_count": 37,
      "outputs": [
        {
          "output_type": "execute_result",
          "data": {
            "text/plain": [
              "TensorShape([64, 50, 512])"
            ]
          },
          "metadata": {},
          "execution_count": 37
        }
      ]
    },
    {
      "cell_type": "markdown",
      "metadata": {
        "id": "SE1H51Ajm0q1"
      },
      "source": [
        "### Encoder\n",
        "\n",
        "The `Encoder` consists of:\n",
        "1.   Input Embedding\n",
        "2.   Positional Encoding\n",
        "3.   N encoder layers\n",
        "\n",
        "The input is put through an embedding which is summed with the positional encoding. The output of this summation is the input to the encoder layers. The output of the encoder is the input to the decoder."
      ]
    },
    {
      "cell_type": "code",
      "metadata": {
        "id": "jpEox7gJ8FCI"
      },
      "source": [
        "class Encoder(tf.keras.layers.Layer):\n",
        "  def __init__(self, num_layers, d_model, num_heads, dff, input_vocab_size,\n",
        "               maximum_position_encoding, rate=0.1):\n",
        "    super(Encoder, self).__init__()\n",
        "\n",
        "    self.d_model = d_model\n",
        "    self.num_layers = num_layers\n",
        "\n",
        "    self.embedding = tf.keras.layers.Embedding(input_vocab_size, d_model)\n",
        "    self.pos_encoding = positional_encoding(maximum_position_encoding,\n",
        "                                            self.d_model)\n",
        "\n",
        "    self.enc_layers = [EncoderLayer(d_model, num_heads, dff, rate)\n",
        "                       for _ in range(num_layers)]\n",
        "\n",
        "    self.dropout = tf.keras.layers.Dropout(rate)\n",
        "\n",
        "  def call(self, x, training, mask):\n",
        "\n",
        "    seq_len = tf.shape(x)[1]\n",
        "\n",
        "    # adding embedding and position encoding.\n",
        "    x = self.embedding(x)  # (batch_size, input_seq_len, d_model)\n",
        "    x *= tf.math.sqrt(tf.cast(self.d_model, tf.float32))\n",
        "    x += self.pos_encoding[:, :seq_len, :]\n",
        "\n",
        "    x = self.dropout(x, training=training)\n",
        "\n",
        "    for i in range(self.num_layers):\n",
        "      x = self.enc_layers[i](x, training, mask)\n",
        "\n",
        "    return x  # (batch_size, input_seq_len, d_model)"
      ],
      "execution_count": 38,
      "outputs": []
    },
    {
      "cell_type": "code",
      "metadata": {
        "id": "8QG9nueFQKXx",
        "colab": {
          "base_uri": "https://localhost:8080/"
        },
        "outputId": "7a59aa64-0d22-4f17-ca3b-be840065d737"
      },
      "source": [
        "sample_encoder = Encoder(num_layers=2, d_model=512, num_heads=8,\n",
        "                         dff=2048, input_vocab_size=8500,\n",
        "                         maximum_position_encoding=10000)\n",
        "temp_input = tf.random.uniform((64, 62), dtype=tf.int64, minval=0, maxval=200)\n",
        "\n",
        "sample_encoder_output = sample_encoder(temp_input, training=False, mask=None)\n",
        "\n",
        "print(sample_encoder_output.shape)  # (batch_size, input_seq_len, d_model)"
      ],
      "execution_count": 39,
      "outputs": [
        {
          "output_type": "stream",
          "name": "stdout",
          "text": [
            "(64, 62, 512)\n"
          ]
        }
      ]
    },
    {
      "cell_type": "markdown",
      "metadata": {
        "id": "p-uO6ls8m2O5"
      },
      "source": [
        "### Decoder"
      ]
    },
    {
      "cell_type": "markdown",
      "metadata": {
        "id": "ZtT7PKzrXkNr"
      },
      "source": [
        " The `Decoder` consists of:\n",
        "1.   Output Embedding\n",
        "2.   Positional Encoding\n",
        "3.   N decoder layers\n",
        "\n",
        "The target is put through an embedding which is summed with the positional encoding. The output of this summation is the input to the decoder layers. The output of the decoder is the input to the final linear layer."
      ]
    },
    {
      "cell_type": "code",
      "metadata": {
        "id": "d5_d5-PLQXwY"
      },
      "source": [
        "class Decoder(tf.keras.layers.Layer):\n",
        "  def __init__(self, num_layers, d_model, num_heads, dff, target_vocab_size,\n",
        "               maximum_position_encoding, rate=0.1):\n",
        "    super(Decoder, self).__init__()\n",
        "\n",
        "    self.d_model = d_model\n",
        "    self.num_layers = num_layers\n",
        "\n",
        "    self.embedding = tf.keras.layers.Embedding(target_vocab_size, d_model)\n",
        "    self.pos_encoding = positional_encoding(maximum_position_encoding, d_model)\n",
        "\n",
        "    self.dec_layers = [DecoderLayer(d_model, num_heads, dff, rate)\n",
        "                       for _ in range(num_layers)]\n",
        "    self.dropout = tf.keras.layers.Dropout(rate)\n",
        "\n",
        "  def call(self, x, enc_output, training,\n",
        "           look_ahead_mask, padding_mask):\n",
        "\n",
        "    seq_len = tf.shape(x)[1]\n",
        "    attention_weights = {}\n",
        "\n",
        "    x = self.embedding(x)  # (batch_size, target_seq_len, d_model)\n",
        "    x *= tf.math.sqrt(tf.cast(self.d_model, tf.float32))\n",
        "    x += self.pos_encoding[:, :seq_len, :]\n",
        "\n",
        "    x = self.dropout(x, training=training)\n",
        "\n",
        "    for i in range(self.num_layers):\n",
        "      x, block1, block2 = self.dec_layers[i](x, enc_output, training,\n",
        "                                             look_ahead_mask, padding_mask)\n",
        "\n",
        "      attention_weights[f'decoder_layer{i+1}_block1'] = block1\n",
        "      attention_weights[f'decoder_layer{i+1}_block2'] = block2\n",
        "\n",
        "    # x.shape == (batch_size, target_seq_len, d_model)\n",
        "    return x, attention_weights"
      ],
      "execution_count": 40,
      "outputs": []
    },
    {
      "cell_type": "code",
      "metadata": {
        "id": "a1jXoAMRZyvu",
        "colab": {
          "base_uri": "https://localhost:8080/"
        },
        "outputId": "cf7071e9-19b1-448b-87c8-4cecec376456"
      },
      "source": [
        "sample_decoder = Decoder(num_layers=2, d_model=512, num_heads=8,\n",
        "                         dff=2048, target_vocab_size=8000,\n",
        "                         maximum_position_encoding=5000)\n",
        "temp_input = tf.random.uniform((64, 26), dtype=tf.int64, minval=0, maxval=200)\n",
        "\n",
        "output, attn = sample_decoder(temp_input,\n",
        "                              enc_output=sample_encoder_output,\n",
        "                              training=False,\n",
        "                              look_ahead_mask=None,\n",
        "                              padding_mask=None)\n",
        "\n",
        "output.shape, attn['decoder_layer2_block2'].shape"
      ],
      "execution_count": 41,
      "outputs": [
        {
          "output_type": "execute_result",
          "data": {
            "text/plain": [
              "(TensorShape([64, 26, 512]), TensorShape([64, 8, 26, 62]))"
            ]
          },
          "metadata": {},
          "execution_count": 41
        }
      ]
    },
    {
      "cell_type": "markdown",
      "metadata": {
        "id": "y54xnJnuYgJ7"
      },
      "source": [
        "## Create the Transformer"
      ]
    },
    {
      "cell_type": "markdown",
      "metadata": {
        "id": "uERO1y54cOKq"
      },
      "source": [
        "Transformer consists of the encoder, decoder and a final linear layer. The output of the decoder is the input to the linear layer and its output is returned."
      ]
    },
    {
      "cell_type": "code",
      "metadata": {
        "id": "PED3bIpOYkBu"
      },
      "source": [
        "class Transformer(tf.keras.Model):\n",
        "  def __init__(self, num_layers, d_model, num_heads, dff, input_vocab_size,\n",
        "               target_vocab_size, pe_input, pe_target, rate=0.1):\n",
        "    super().__init__()\n",
        "    self.encoder = Encoder(num_layers, d_model, num_heads, dff,\n",
        "                             input_vocab_size, pe_input, rate)\n",
        "\n",
        "    self.decoder = Decoder(num_layers, d_model, num_heads, dff,\n",
        "                           target_vocab_size, pe_target, rate)\n",
        "\n",
        "    self.final_layer = tf.keras.layers.Dense(target_vocab_size)\n",
        "\n",
        "  def call(self, inputs, training):\n",
        "    # Keras models prefer if you pass all your inputs in the first argument\n",
        "    inp, tar = inputs\n",
        "\n",
        "    enc_padding_mask, look_ahead_mask, dec_padding_mask = self.create_masks(inp, tar)\n",
        "\n",
        "    enc_output = self.encoder(inp, training, enc_padding_mask)  # (batch_size, inp_seq_len, d_model)\n",
        "\n",
        "    # dec_output.shape == (batch_size, tar_seq_len, d_model)\n",
        "    dec_output, attention_weights = self.decoder(\n",
        "        tar, enc_output, training, look_ahead_mask, dec_padding_mask)\n",
        "\n",
        "    final_output = self.final_layer(dec_output)  # (batch_size, tar_seq_len, target_vocab_size)\n",
        "\n",
        "    return final_output, attention_weights\n",
        "\n",
        "  def create_masks(self, inp, tar):\n",
        "    # Encoder padding mask\n",
        "    enc_padding_mask = create_padding_mask(inp)\n",
        "\n",
        "    # Used in the 2nd attention block in the decoder.\n",
        "    # This padding mask is used to mask the encoder outputs.\n",
        "    dec_padding_mask = create_padding_mask(inp)\n",
        "\n",
        "    # Used in the 1st attention block in the decoder.\n",
        "    # It is used to pad and mask future tokens in the input received by\n",
        "    # the decoder.\n",
        "    look_ahead_mask = create_look_ahead_mask(tf.shape(tar)[1])\n",
        "    dec_target_padding_mask = create_padding_mask(tar)\n",
        "    look_ahead_mask = tf.maximum(dec_target_padding_mask, look_ahead_mask)\n",
        "\n",
        "    return enc_padding_mask, look_ahead_mask, dec_padding_mask"
      ],
      "execution_count": 42,
      "outputs": []
    },
    {
      "cell_type": "code",
      "metadata": {
        "id": "tJ4fbQcIkHW1",
        "colab": {
          "base_uri": "https://localhost:8080/"
        },
        "outputId": "fe8c3fbe-38f1-4fdf-9649-10631f0a4237"
      },
      "source": [
        "sample_transformer = Transformer(\n",
        "    num_layers=2, d_model=512, num_heads=8, dff=2048,\n",
        "    input_vocab_size=8500, target_vocab_size=8000,\n",
        "    pe_input=10000, pe_target=6000)\n",
        "\n",
        "temp_input = tf.random.uniform((64, 38), dtype=tf.int64, minval=0, maxval=200)\n",
        "temp_target = tf.random.uniform((64, 36), dtype=tf.int64, minval=0, maxval=200)\n",
        "\n",
        "fn_out, _ = sample_transformer([temp_input, temp_target], training=False)\n",
        "\n",
        "fn_out.shape  # (batch_size, tar_seq_len, target_vocab_size)"
      ],
      "execution_count": 43,
      "outputs": [
        {
          "output_type": "execute_result",
          "data": {
            "text/plain": [
              "TensorShape([64, 36, 8000])"
            ]
          },
          "metadata": {},
          "execution_count": 43
        }
      ]
    },
    {
      "cell_type": "markdown",
      "metadata": {
        "id": "wsINyf1VEQLC"
      },
      "source": [
        "## Set hyperparameters"
      ]
    },
    {
      "cell_type": "markdown",
      "metadata": {
        "id": "zVjWCxFNcgbt"
      },
      "source": [
        "To keep this example small and relatively fast, the values for `num_layers, d_model, dff` have been reduced. \n",
        "\n",
        "The base model described in the [paper](https://arxiv.org/abs/1706.03762) used: `num_layers=6, d_model=512, dff=2048`."
      ]
    },
    {
      "cell_type": "code",
      "metadata": {
        "id": "lnJn5SLA2ahP"
      },
      "source": [
        "num_layers = 4\n",
        "d_model = 128\n",
        "dff = 512\n",
        "num_heads = 8\n",
        "dropout_rate = 0.1"
      ],
      "execution_count": 44,
      "outputs": []
    },
    {
      "cell_type": "markdown",
      "metadata": {
        "id": "xYEGhEOtzn5W"
      },
      "source": [
        "## Optimizer"
      ]
    },
    {
      "cell_type": "markdown",
      "metadata": {
        "id": "GOmWW--yP3zx"
      },
      "source": [
        "Use the Adam optimizer with a custom learning rate scheduler according to the formula in the [paper](https://arxiv.org/abs/1706.03762).\n",
        "\n",
        "$$\\Large{lrate = d_{model}^{-0.5} * \\min(step{\\_}num^{-0.5}, step{\\_}num \\cdot warmup{\\_}steps^{-1.5})}$$\n"
      ]
    },
    {
      "cell_type": "code",
      "metadata": {
        "id": "iYQdOO1axwEI"
      },
      "source": [
        "class CustomSchedule(tf.keras.optimizers.schedules.LearningRateSchedule):\n",
        "  def __init__(self, d_model, warmup_steps=4000):\n",
        "    super(CustomSchedule, self).__init__()\n",
        "\n",
        "    self.d_model = d_model\n",
        "    self.d_model = tf.cast(self.d_model, tf.float32)\n",
        "\n",
        "    self.warmup_steps = warmup_steps\n",
        "\n",
        "  def __call__(self, step):\n",
        "    arg1 = tf.math.rsqrt(step)\n",
        "    arg2 = step * (self.warmup_steps ** -1.5)\n",
        "\n",
        "    return tf.math.rsqrt(self.d_model) * tf.math.minimum(arg1, arg2)"
      ],
      "execution_count": 45,
      "outputs": []
    },
    {
      "cell_type": "code",
      "metadata": {
        "id": "7r4scdulztRx"
      },
      "source": [
        "learning_rate = CustomSchedule(d_model)\n",
        "\n",
        "optimizer = tf.keras.optimizers.Adam(learning_rate, beta_1=0.9, beta_2=0.98,\n",
        "                                     epsilon=1e-9)"
      ],
      "execution_count": 46,
      "outputs": []
    },
    {
      "cell_type": "code",
      "metadata": {
        "id": "f33ZCgvHpPdG",
        "colab": {
          "base_uri": "https://localhost:8080/",
          "height": 296
        },
        "outputId": "87c99bbc-8c9e-4f97-c4ca-f28e72280a39"
      },
      "source": [
        "temp_learning_rate_schedule = CustomSchedule(d_model)\n",
        "\n",
        "plt.plot(temp_learning_rate_schedule(tf.range(40000, dtype=tf.float32)))\n",
        "plt.ylabel(\"Learning Rate\")\n",
        "plt.xlabel(\"Train Step\")"
      ],
      "execution_count": 47,
      "outputs": [
        {
          "output_type": "execute_result",
          "data": {
            "text/plain": [
              "Text(0.5, 0, 'Train Step')"
            ]
          },
          "metadata": {},
          "execution_count": 47
        },
        {
          "output_type": "display_data",
          "data": {
            "image/png": "[encoded data removed]",
            "text/plain": [
              "<Figure size 432x288 with 1 Axes>"
            ]
          },
          "metadata": {
            "needs_background": "light"
          }
        }
      ]
    },
    {
      "cell_type": "markdown",
      "metadata": {
        "id": "YgkDE7hzo8r5"
      },
      "source": [
        "## Loss and metrics"
      ]
    },
    {
      "cell_type": "markdown",
      "metadata": {
        "id": "oxGJtoDuYIHL"
      },
      "source": [
        "Since the target sequences are padded, it is important to apply a padding mask when calculating the loss."
      ]
    },
    {
      "cell_type": "code",
      "metadata": {
        "id": "MlhsJMm0TW_B"
      },
      "source": [
        "loss_object = tf.keras.losses.SparseCategoricalCrossentropy(\n",
        "    from_logits=True, reduction='none')"
      ],
      "execution_count": 48,
      "outputs": []
    },
    {
      "cell_type": "code",
      "metadata": {
        "id": "67oqVHiT0Eiu"
      },
      "source": [
        "def loss_function(real, pred):\n",
        "  mask = tf.math.logical_not(tf.math.equal(real, 0))\n",
        "  loss_ = loss_object(real, pred)\n",
        "\n",
        "  mask = tf.cast(mask, dtype=loss_.dtype)\n",
        "  loss_ *= mask\n",
        "\n",
        "  return tf.reduce_sum(loss_)/tf.reduce_sum(mask)\n",
        "\n",
        "\n",
        "def accuracy_function(real, pred):\n",
        "  accuracies = tf.equal(real, tf.argmax(pred, axis=2))\n",
        "\n",
        "  mask = tf.math.logical_not(tf.math.equal(real, 0))\n",
        "  accuracies = tf.math.logical_and(mask, accuracies)\n",
        "\n",
        "  accuracies = tf.cast(accuracies, dtype=tf.float32)\n",
        "  mask = tf.cast(mask, dtype=tf.float32)\n",
        "  return tf.reduce_sum(accuracies)/tf.reduce_sum(mask)"
      ],
      "execution_count": 49,
      "outputs": []
    },
    {
      "cell_type": "code",
      "metadata": {
        "id": "phlyxMnm-Tpx"
      },
      "source": [
        "train_loss = tf.keras.metrics.Mean(name='train_loss')\n",
        "train_accuracy = tf.keras.metrics.Mean(name='train_accuracy')"
      ],
      "execution_count": 50,
      "outputs": []
    },
    {
      "cell_type": "markdown",
      "metadata": {
        "id": "aeHumfr7zmMa"
      },
      "source": [
        "## Training and checkpointing"
      ]
    },
    {
      "cell_type": "code",
      "metadata": {
        "id": "UiysUa--4tOU"
      },
      "source": [
        "transformer = Transformer(\n",
        "    num_layers=num_layers,\n",
        "    d_model=d_model,\n",
        "    num_heads=num_heads,\n",
        "    dff=dff,\n",
        "    input_vocab_size=tokenizers.pt.get_vocab_size().numpy(),\n",
        "    target_vocab_size=tokenizers.en.get_vocab_size().numpy(),\n",
        "    pe_input=1000,\n",
        "    pe_target=1000,\n",
        "    rate=dropout_rate)"
      ],
      "execution_count": 51,
      "outputs": []
    },
    {
      "cell_type": "markdown",
      "metadata": {
        "id": "Fzuf06YZp66w"
      },
      "source": [
        "Create the checkpoint path and the checkpoint manager. This will be used to save checkpoints every `n` epochs."
      ]
    },
    {
      "cell_type": "code",
      "metadata": {
        "id": "hNhuYfllndLZ"
      },
      "source": [
        "checkpoint_path = \"./checkpoints/train\"\n",
        "\n",
        "ckpt = tf.train.Checkpoint(transformer=transformer,\n",
        "                           optimizer=optimizer)\n",
        "\n",
        "ckpt_manager = tf.train.CheckpointManager(ckpt, checkpoint_path, max_to_keep=5)\n",
        "\n",
        "# if a checkpoint exists, restore the latest checkpoint.\n",
        "if ckpt_manager.latest_checkpoint:\n",
        "  ckpt.restore(ckpt_manager.latest_checkpoint)\n",
        "  print('Latest checkpoint restored!!')"
      ],
      "execution_count": 52,
      "outputs": []
    },
    {
      "cell_type": "markdown",
      "metadata": {
        "id": "0Di_Yaa1gf9r"
      },
      "source": [
        "The target is divided into tar_inp and tar_real. tar_inp is passed as an input to the decoder. `tar_real` is that same input shifted by 1: At each location in `tar_input`, `tar_real` contains the  next token that should be predicted.\n",
        "\n",
        "For example, `sentence` = \"SOS A lion in the jungle is sleeping EOS\"\n",
        "\n",
        "`tar_inp` =  \"SOS A lion in the jungle is sleeping\"\n",
        "\n",
        "`tar_real` = \"A lion in the jungle is sleeping EOS\"\n",
        "\n",
        "The transformer is an auto-regressive model: it makes predictions one part at a time, and uses its output so far to decide what to do next. \n",
        "\n",
        "During training this example uses teacher-forcing (like in the [text generation tutorial](https://www.tensorflow.org/text/tutorials/text_generation)). Teacher forcing is passing the true output to the next time step regardless of what the model predicts at the current time step.\n",
        "\n",
        "As the transformer predicts each token, *self-attention* allows it to look at the previous tokens in the input sequence to better predict the next token.\n",
        "\n",
        "To prevent the model from peeking at the expected output the model uses a look-ahead mask."
      ]
    },
    {
      "cell_type": "code",
      "metadata": {
        "id": "LKpoA6q1sJFj"
      },
      "source": [
        "EPOCHS = 20"
      ],
      "execution_count": 53,
      "outputs": []
    },
    {
      "cell_type": "code",
      "metadata": {
        "id": "iJwmp9OE29oj"
      },
      "source": [
        "# The @tf.function trace-compiles train_step into a TF graph for faster\n",
        "# execution. The function specializes to the precise shape of the argument\n",
        "# tensors. To avoid re-tracing due to the variable sequence lengths or variable\n",
        "# batch sizes (the last batch is smaller), use input_signature to specify\n",
        "# more generic shapes.\n",
        "\n",
        "train_step_signature = [\n",
        "    tf.TensorSpec(shape=(None, None), dtype=tf.int64),\n",
        "    tf.TensorSpec(shape=(None, None), dtype=tf.int64),\n",
        "]\n",
        "\n",
        "\n",
        "@tf.function(input_signature=train_step_signature)\n",
        "def train_step(inp, tar):\n",
        "  tar_inp = tar[:, :-1]\n",
        "  tar_real = tar[:, 1:]\n",
        "\n",
        "  with tf.GradientTape() as tape:\n",
        "    predictions, _ = transformer([inp, tar_inp],\n",
        "                                 training = True)\n",
        "    loss = loss_function(tar_real, predictions)\n",
        "\n",
        "  gradients = tape.gradient(loss, transformer.trainable_variables)\n",
        "  optimizer.apply_gradients(zip(gradients, transformer.trainable_variables))\n",
        "\n",
        "  train_loss(loss)\n",
        "  train_accuracy(accuracy_function(tar_real, predictions))"
      ],
      "execution_count": 54,
      "outputs": []
    },
    {
      "cell_type": "markdown",
      "metadata": {
        "id": "qM2PDWGDJ_8V"
      },
      "source": [
        "Portuguese is used as the input language and English is the target language."
      ]
    },
    {
      "cell_type": "code",
      "metadata": {
        "id": "bbvmaKNiznHZ",
        "colab": {
          "base_uri": "https://localhost:8080/"
        },
        "outputId": "1ce5f38b-a200-43cb-edd8-322a33f4418c"
      },
      "source": [
        "for epoch in range(EPOCHS):\n",
        "  start = time.time()\n",
        "\n",
        "  train_loss.reset_states()\n",
        "  train_accuracy.reset_states()\n",
        "\n",
        "  # inp -> portuguese, tar -> english\n",
        "  for (batch, (inp, tar)) in enumerate(train_batches):\n",
        "    train_step(inp, tar)\n",
        "\n",
        "    if batch % 50 == 0:\n",
        "      print(f'Epoch {epoch + 1} Batch {batch} Loss {train_loss.result():.4f} Accuracy {train_accuracy.result():.4f}')\n",
        "\n",
        "  if (epoch + 1) % 5 == 0:\n",
        "    ckpt_save_path = ckpt_manager.save()\n",
        "    print(f'Saving checkpoint for epoch {epoch+1} at {ckpt_save_path}')\n",
        "\n",
        "  print(f'Epoch {epoch + 1} Loss {train_loss.result():.4f} Accuracy {train_accuracy.result():.4f}')\n",
        "\n",
        "  print(f'Time taken for 1 epoch: {time.time() - start:.2f} secs\\n')"
      ],
      "execution_count": 55,
      "outputs": [
        {
          "output_type": "stream",
          "name": "stdout",
          "text": [
            "Epoch 1 Batch 0 Loss 8.8899 Accuracy 0.0000\n",
            "Epoch 1 Batch 50 Loss 8.8227 Accuracy 0.0012\n",
            "Epoch 1 Batch 100 Loss 8.7071 Accuracy 0.0182\n",
            "Epoch 1 Batch 150 Loss 8.5904 Accuracy 0.0268\n",
            "Epoch 1 Batch 200 Loss 8.4497 Accuracy 0.0319\n",
            "Epoch 1 Batch 250 Loss 8.2821 Accuracy 0.0354\n",
            "Epoch 1 Batch 300 Loss 8.0920 Accuracy 0.0413\n",
            "Epoch 1 Batch 350 Loss 7.8944 Accuracy 0.0468\n",
            "Epoch 1 Batch 400 Loss 7.7071 Accuracy 0.0546\n",
            "Epoch 1 Batch 450 Loss 7.5387 Accuracy 0.0630\n",
            "Epoch 1 Batch 500 Loss 7.3898 Accuracy 0.0712\n",
            "Epoch 1 Batch 550 Loss 7.2541 Accuracy 0.0792\n",
            "Epoch 1 Batch 600 Loss 7.1290 Accuracy 0.0869\n",
            "Epoch 1 Batch 650 Loss 7.0143 Accuracy 0.0941\n",
            "Epoch 1 Batch 700 Loss 6.9077 Accuracy 0.1010\n",
            "Epoch 1 Batch 750 Loss 6.8056 Accuracy 0.1076\n",
            "Epoch 1 Batch 800 Loss 6.7118 Accuracy 0.1137\n",
            "Epoch 1 Loss 6.6959 Accuracy 0.1147\n",
            "Time taken for 1 epoch: 230.90 secs\n",
            "\n",
            "Epoch 2 Batch 0 Loss 5.1768 Accuracy 0.2262\n",
            "Epoch 2 Batch 50 Loss 5.2544 Accuracy 0.2067\n",
            "Epoch 2 Batch 100 Loss 5.2139 Accuracy 0.2119\n",
            "Epoch 2 Batch 150 Loss 5.1767 Accuracy 0.2168\n",
            "Epoch 2 Batch 200 Loss 5.1478 Accuracy 0.2196\n",
            "Epoch 2 Batch 250 Loss 5.1189 Accuracy 0.2222\n",
            "Epoch 2 Batch 300 Loss 5.0982 Accuracy 0.2242\n",
            "Epoch 2 Batch 350 Loss 5.0751 Accuracy 0.2265\n",
            "Epoch 2 Batch 400 Loss 5.0562 Accuracy 0.2287\n",
            "Epoch 2 Batch 450 Loss 5.0319 Accuracy 0.2310\n",
            "Epoch 2 Batch 500 Loss 5.0072 Accuracy 0.2336\n",
            "Epoch 2 Batch 550 Loss 4.9885 Accuracy 0.2353\n",
            "Epoch 2 Batch 600 Loss 4.9695 Accuracy 0.2373\n",
            "Epoch 2 Batch 650 Loss 4.9491 Accuracy 0.2393\n",
            "Epoch 2 Batch 700 Loss 4.9323 Accuracy 0.2408\n",
            "Epoch 2 Batch 750 Loss 4.9171 Accuracy 0.2423\n",
            "Epoch 2 Batch 800 Loss 4.9021 Accuracy 0.2436\n",
            "Epoch 2 Loss 4.8981 Accuracy 0.2440\n",
            "Time taken for 1 epoch: 211.89 secs\n",
            "\n",
            "Epoch 3 Batch 0 Loss 4.4866 Accuracy 0.2652\n",
            "Epoch 3 Batch 50 Loss 4.6061 Accuracy 0.2690\n",
            "Epoch 3 Batch 100 Loss 4.5866 Accuracy 0.2709\n",
            "Epoch 3 Batch 150 Loss 4.5857 Accuracy 0.2704\n",
            "Epoch 3 Batch 200 Loss 4.5669 Accuracy 0.2727\n",
            "Epoch 3 Batch 250 Loss 4.5492 Accuracy 0.2757\n",
            "Epoch 3 Batch 300 Loss 4.5318 Accuracy 0.2778\n",
            "Epoch 3 Batch 350 Loss 4.5183 Accuracy 0.2797\n",
            "Epoch 3 Batch 400 Loss 4.5071 Accuracy 0.2811\n",
            "Epoch 3 Batch 450 Loss 4.4893 Accuracy 0.2833\n",
            "Epoch 3 Batch 500 Loss 4.4729 Accuracy 0.2851\n",
            "Epoch 3 Batch 550 Loss 4.4581 Accuracy 0.2869\n",
            "Epoch 3 Batch 600 Loss 4.4417 Accuracy 0.2888\n",
            "Epoch 3 Batch 650 Loss 4.4230 Accuracy 0.2913\n",
            "Epoch 3 Batch 700 Loss 4.4068 Accuracy 0.2933\n",
            "Epoch 3 Batch 750 Loss 4.3915 Accuracy 0.2952\n",
            "Epoch 3 Batch 800 Loss 4.3743 Accuracy 0.2973\n",
            "Epoch 3 Loss 4.3717 Accuracy 0.2977\n",
            "Time taken for 1 epoch: 213.15 secs\n",
            "\n",
            "Epoch 4 Batch 0 Loss 3.9382 Accuracy 0.3651\n",
            "Epoch 4 Batch 50 Loss 4.0286 Accuracy 0.3381\n",
            "Epoch 4 Batch 100 Loss 4.0164 Accuracy 0.3388\n",
            "Epoch 4 Batch 150 Loss 4.0003 Accuracy 0.3407\n",
            "Epoch 4 Batch 200 Loss 3.9805 Accuracy 0.3433\n",
            "Epoch 4 Batch 250 Loss 3.9647 Accuracy 0.3449\n",
            "Epoch 4 Batch 300 Loss 3.9508 Accuracy 0.3470\n",
            "Epoch 4 Batch 350 Loss 3.9335 Accuracy 0.3493\n",
            "Epoch 4 Batch 400 Loss 3.9181 Accuracy 0.3511\n",
            "Epoch 4 Batch 450 Loss 3.9040 Accuracy 0.3532\n",
            "Epoch 4 Batch 500 Loss 3.8848 Accuracy 0.3559\n",
            "Epoch 4 Batch 550 Loss 3.8698 Accuracy 0.3577\n",
            "Epoch 4 Batch 600 Loss 3.8559 Accuracy 0.3594\n",
            "Epoch 4 Batch 650 Loss 3.8469 Accuracy 0.3607\n",
            "Epoch 4 Batch 700 Loss 3.8330 Accuracy 0.3626\n",
            "Epoch 4 Batch 750 Loss 3.8202 Accuracy 0.3644\n",
            "Epoch 4 Batch 800 Loss 3.8064 Accuracy 0.3664\n",
            "Epoch 4 Loss 3.8048 Accuracy 0.3667\n",
            "Time taken for 1 epoch: 212.74 secs\n",
            "\n",
            "Epoch 5 Batch 0 Loss 3.4696 Accuracy 0.4048\n",
            "Epoch 5 Batch 50 Loss 3.4943 Accuracy 0.4027\n",
            "Epoch 5 Batch 100 Loss 3.4848 Accuracy 0.4027\n",
            "Epoch 5 Batch 150 Loss 3.4613 Accuracy 0.4061\n",
            "Epoch 5 Batch 200 Loss 3.4567 Accuracy 0.4069\n",
            "Epoch 5 Batch 250 Loss 3.4472 Accuracy 0.4083\n",
            "Epoch 5 Batch 300 Loss 3.4322 Accuracy 0.4103\n",
            "Epoch 5 Batch 350 Loss 3.4224 Accuracy 0.4116\n",
            "Epoch 5 Batch 400 Loss 3.4125 Accuracy 0.4130\n",
            "Epoch 5 Batch 450 Loss 3.4087 Accuracy 0.4137\n",
            "Epoch 5 Batch 500 Loss 3.3998 Accuracy 0.4147\n",
            "Epoch 5 Batch 550 Loss 3.3926 Accuracy 0.4157\n",
            "Epoch 5 Batch 600 Loss 3.3847 Accuracy 0.4168\n",
            "Epoch 5 Batch 650 Loss 3.3779 Accuracy 0.4178\n",
            "Epoch 5 Batch 700 Loss 3.3703 Accuracy 0.4191\n",
            "Epoch 5 Batch 750 Loss 3.3623 Accuracy 0.4203\n",
            "Epoch 5 Batch 800 Loss 3.3535 Accuracy 0.4214\n",
            "Saving checkpoint for epoch 5 at ./checkpoints/train/ckpt-1\n",
            "Epoch 5 Loss 3.3517 Accuracy 0.4217\n",
            "Time taken for 1 epoch: 210.97 secs\n",
            "\n",
            "Epoch 6 Batch 0 Loss 3.3009 Accuracy 0.4239\n",
            "Epoch 6 Batch 50 Loss 3.1161 Accuracy 0.4447\n",
            "Epoch 6 Batch 100 Loss 3.0873 Accuracy 0.4499\n",
            "Epoch 6 Batch 150 Loss 3.0786 Accuracy 0.4519\n",
            "Epoch 6 Batch 200 Loss 3.0624 Accuracy 0.4545\n",
            "Epoch 6 Batch 250 Loss 3.0493 Accuracy 0.4563\n",
            "Epoch 6 Batch 300 Loss 3.0397 Accuracy 0.4577\n",
            "Epoch 6 Batch 350 Loss 3.0313 Accuracy 0.4589\n",
            "Epoch 6 Batch 400 Loss 3.0272 Accuracy 0.4595\n",
            "Epoch 6 Batch 450 Loss 3.0179 Accuracy 0.4609\n",
            "Epoch 6 Batch 500 Loss 3.0091 Accuracy 0.4623\n",
            "Epoch 6 Batch 550 Loss 3.0020 Accuracy 0.4632\n",
            "Epoch 6 Batch 600 Loss 2.9945 Accuracy 0.4643\n",
            "Epoch 6 Batch 650 Loss 2.9856 Accuracy 0.4655\n",
            "Epoch 6 Batch 700 Loss 2.9773 Accuracy 0.4666\n",
            "Epoch 6 Batch 750 Loss 2.9721 Accuracy 0.4673\n",
            "Epoch 6 Batch 800 Loss 2.9642 Accuracy 0.4685\n",
            "Epoch 6 Loss 2.9634 Accuracy 0.4686\n",
            "Time taken for 1 epoch: 211.38 secs\n",
            "\n",
            "Epoch 7 Batch 0 Loss 2.5912 Accuracy 0.5140\n",
            "Epoch 7 Batch 50 Loss 2.7033 Accuracy 0.4961\n",
            "Epoch 7 Batch 100 Loss 2.6742 Accuracy 0.5020\n",
            "Epoch 7 Batch 150 Loss 2.6860 Accuracy 0.5008\n",
            "Epoch 7 Batch 200 Loss 2.6850 Accuracy 0.5013\n",
            "Epoch 7 Batch 250 Loss 2.6828 Accuracy 0.5023\n",
            "Epoch 7 Batch 300 Loss 2.6807 Accuracy 0.5028\n",
            "Epoch 7 Batch 350 Loss 2.6731 Accuracy 0.5040\n",
            "Epoch 7 Batch 400 Loss 2.6669 Accuracy 0.5047\n",
            "Epoch 7 Batch 450 Loss 2.6633 Accuracy 0.5053\n",
            "Epoch 7 Batch 500 Loss 2.6577 Accuracy 0.5062\n",
            "Epoch 7 Batch 550 Loss 2.6497 Accuracy 0.5076\n",
            "Epoch 7 Batch 600 Loss 2.6456 Accuracy 0.5084\n",
            "Epoch 7 Batch 650 Loss 2.6400 Accuracy 0.5093\n",
            "Epoch 7 Batch 700 Loss 2.6398 Accuracy 0.5095\n",
            "Epoch 7 Batch 750 Loss 2.6368 Accuracy 0.5102\n",
            "Epoch 7 Batch 800 Loss 2.6313 Accuracy 0.5111\n",
            "Epoch 7 Loss 2.6307 Accuracy 0.5112\n",
            "Time taken for 1 epoch: 210.71 secs\n",
            "\n",
            "Epoch 8 Batch 0 Loss 2.6941 Accuracy 0.4857\n",
            "Epoch 8 Batch 50 Loss 2.4224 Accuracy 0.5361\n",
            "Epoch 8 Batch 100 Loss 2.4350 Accuracy 0.5359\n",
            "Epoch 8 Batch 150 Loss 2.4312 Accuracy 0.5369\n",
            "Epoch 8 Batch 200 Loss 2.4236 Accuracy 0.5377\n",
            "Epoch 8 Batch 250 Loss 2.4267 Accuracy 0.5372\n",
            "Epoch 8 Batch 300 Loss 2.4133 Accuracy 0.5391\n",
            "Epoch 8 Batch 350 Loss 2.4086 Accuracy 0.5398\n",
            "Epoch 8 Batch 400 Loss 2.4057 Accuracy 0.5401\n",
            "Epoch 8 Batch 450 Loss 2.4046 Accuracy 0.5405\n",
            "Epoch 8 Batch 500 Loss 2.4023 Accuracy 0.5408\n",
            "Epoch 8 Batch 550 Loss 2.3995 Accuracy 0.5413\n",
            "Epoch 8 Batch 600 Loss 2.3982 Accuracy 0.5416\n",
            "Epoch 8 Batch 650 Loss 2.3961 Accuracy 0.5418\n",
            "Epoch 8 Batch 700 Loss 2.3959 Accuracy 0.5420\n",
            "Epoch 8 Batch 750 Loss 2.3951 Accuracy 0.5422\n",
            "Epoch 8 Batch 800 Loss 2.3928 Accuracy 0.5428\n",
            "Epoch 8 Loss 2.3919 Accuracy 0.5431\n",
            "Time taken for 1 epoch: 209.22 secs\n",
            "\n",
            "Epoch 9 Batch 0 Loss 2.1354 Accuracy 0.5890\n",
            "Epoch 9 Batch 50 Loss 2.2261 Accuracy 0.5623\n",
            "Epoch 9 Batch 100 Loss 2.2183 Accuracy 0.5650\n",
            "Epoch 9 Batch 150 Loss 2.2130 Accuracy 0.5654\n",
            "Epoch 9 Batch 200 Loss 2.2107 Accuracy 0.5658\n",
            "Epoch 9 Batch 250 Loss 2.2143 Accuracy 0.5656\n",
            "Epoch 9 Batch 300 Loss 2.2153 Accuracy 0.5659\n",
            "Epoch 9 Batch 350 Loss 2.2179 Accuracy 0.5654\n",
            "Epoch 9 Batch 400 Loss 2.2187 Accuracy 0.5654\n",
            "Epoch 9 Batch 450 Loss 2.2158 Accuracy 0.5659\n",
            "Epoch 9 Batch 500 Loss 2.2118 Accuracy 0.5665\n",
            "Epoch 9 Batch 550 Loss 2.2122 Accuracy 0.5666\n",
            "Epoch 9 Batch 600 Loss 2.2147 Accuracy 0.5664\n",
            "Epoch 9 Batch 650 Loss 2.2145 Accuracy 0.5665\n",
            "Epoch 9 Batch 700 Loss 2.2158 Accuracy 0.5663\n",
            "Epoch 9 Batch 750 Loss 2.2148 Accuracy 0.5665\n",
            "Epoch 9 Batch 800 Loss 2.2139 Accuracy 0.5669\n",
            "Epoch 9 Loss 2.2152 Accuracy 0.5667\n",
            "Time taken for 1 epoch: 211.01 secs\n",
            "\n",
            "Epoch 10 Batch 0 Loss 2.0169 Accuracy 0.5907\n",
            "Epoch 10 Batch 50 Loss 2.0576 Accuracy 0.5895\n",
            "Epoch 10 Batch 100 Loss 2.0514 Accuracy 0.5912\n",
            "Epoch 10 Batch 150 Loss 2.0562 Accuracy 0.5892\n",
            "Epoch 10 Batch 200 Loss 2.0632 Accuracy 0.5883\n",
            "Epoch 10 Batch 250 Loss 2.0695 Accuracy 0.5869\n",
            "Epoch 10 Batch 300 Loss 2.0696 Accuracy 0.5872\n",
            "Epoch 10 Batch 350 Loss 2.0733 Accuracy 0.5869\n",
            "Epoch 10 Batch 400 Loss 2.0700 Accuracy 0.5873\n",
            "Epoch 10 Batch 450 Loss 2.0709 Accuracy 0.5869\n",
            "Epoch 10 Batch 500 Loss 2.0702 Accuracy 0.5872\n",
            "Epoch 10 Batch 550 Loss 2.0672 Accuracy 0.5875\n",
            "Epoch 10 Batch 600 Loss 2.0691 Accuracy 0.5871\n",
            "Epoch 10 Batch 650 Loss 2.0689 Accuracy 0.5873\n",
            "Epoch 10 Batch 700 Loss 2.0704 Accuracy 0.5872\n",
            "Epoch 10 Batch 750 Loss 2.0731 Accuracy 0.5869\n",
            "Epoch 10 Batch 800 Loss 2.0747 Accuracy 0.5867\n",
            "Saving checkpoint for epoch 10 at ./checkpoints/train/ckpt-2\n",
            "Epoch 10 Loss 2.0752 Accuracy 0.5867\n",
            "Time taken for 1 epoch: 209.58 secs\n",
            "\n",
            "Epoch 11 Batch 0 Loss 1.8445 Accuracy 0.6147\n",
            "Epoch 11 Batch 50 Loss 1.9321 Accuracy 0.6073\n",
            "Epoch 11 Batch 100 Loss 1.9478 Accuracy 0.6048\n",
            "Epoch 11 Batch 150 Loss 1.9387 Accuracy 0.6055\n",
            "Epoch 11 Batch 200 Loss 1.9364 Accuracy 0.6050\n",
            "Epoch 11 Batch 250 Loss 1.9358 Accuracy 0.6054\n",
            "Epoch 11 Batch 300 Loss 1.9384 Accuracy 0.6051\n",
            "Epoch 11 Batch 350 Loss 1.9450 Accuracy 0.6045\n",
            "Epoch 11 Batch 400 Loss 1.9459 Accuracy 0.6044\n",
            "Epoch 11 Batch 450 Loss 1.9513 Accuracy 0.6035\n",
            "Epoch 11 Batch 500 Loss 1.9534 Accuracy 0.6032\n",
            "Epoch 11 Batch 550 Loss 1.9537 Accuracy 0.6032\n",
            "Epoch 11 Batch 600 Loss 1.9539 Accuracy 0.6034\n",
            "Epoch 11 Batch 650 Loss 1.9572 Accuracy 0.6029\n",
            "Epoch 11 Batch 700 Loss 1.9594 Accuracy 0.6027\n",
            "Epoch 11 Batch 750 Loss 1.9612 Accuracy 0.6026\n",
            "Epoch 11 Batch 800 Loss 1.9637 Accuracy 0.6025\n",
            "Epoch 11 Loss 1.9646 Accuracy 0.6024\n",
            "Time taken for 1 epoch: 210.30 secs\n",
            "\n",
            "Epoch 12 Batch 0 Loss 1.7285 Accuracy 0.6392\n",
            "Epoch 12 Batch 50 Loss 1.8389 Accuracy 0.6186\n",
            "Epoch 12 Batch 100 Loss 1.8457 Accuracy 0.6187\n",
            "Epoch 12 Batch 150 Loss 1.8443 Accuracy 0.6191\n",
            "Epoch 12 Batch 200 Loss 1.8479 Accuracy 0.6188\n",
            "Epoch 12 Batch 250 Loss 1.8544 Accuracy 0.6181\n",
            "Epoch 12 Batch 300 Loss 1.8576 Accuracy 0.6176\n",
            "Epoch 12 Batch 350 Loss 1.8548 Accuracy 0.6177\n",
            "Epoch 12 Batch 400 Loss 1.8581 Accuracy 0.6172\n",
            "Epoch 12 Batch 450 Loss 1.8609 Accuracy 0.6168\n",
            "Epoch 12 Batch 500 Loss 1.8617 Accuracy 0.6169\n",
            "Epoch 12 Batch 550 Loss 1.8623 Accuracy 0.6167\n",
            "Epoch 12 Batch 600 Loss 1.8605 Accuracy 0.6172\n",
            "Epoch 12 Batch 650 Loss 1.8622 Accuracy 0.6171\n",
            "Epoch 12 Batch 700 Loss 1.8642 Accuracy 0.6168\n",
            "Epoch 12 Batch 750 Loss 1.8676 Accuracy 0.6164\n",
            "Epoch 12 Batch 800 Loss 1.8698 Accuracy 0.6161\n",
            "Epoch 12 Loss 1.8706 Accuracy 0.6160\n",
            "Time taken for 1 epoch: 211.64 secs\n",
            "\n",
            "Epoch 13 Batch 0 Loss 1.7141 Accuracy 0.6433\n",
            "Epoch 13 Batch 50 Loss 1.7436 Accuracy 0.6343\n",
            "Epoch 13 Batch 100 Loss 1.7458 Accuracy 0.6341\n",
            "Epoch 13 Batch 150 Loss 1.7579 Accuracy 0.6317\n",
            "Epoch 13 Batch 200 Loss 1.7662 Accuracy 0.6307\n",
            "Epoch 13 Batch 250 Loss 1.7659 Accuracy 0.6306\n",
            "Epoch 13 Batch 300 Loss 1.7681 Accuracy 0.6306\n",
            "Epoch 13 Batch 350 Loss 1.7738 Accuracy 0.6299\n",
            "Epoch 13 Batch 400 Loss 1.7775 Accuracy 0.6292\n",
            "Epoch 13 Batch 450 Loss 1.7781 Accuracy 0.6291\n",
            "Epoch 13 Batch 500 Loss 1.7819 Accuracy 0.6284\n",
            "Epoch 13 Batch 550 Loss 1.7809 Accuracy 0.6287\n",
            "Epoch 13 Batch 600 Loss 1.7844 Accuracy 0.6281\n",
            "Epoch 13 Batch 650 Loss 1.7843 Accuracy 0.6281\n",
            "Epoch 13 Batch 700 Loss 1.7868 Accuracy 0.6279\n",
            "Epoch 13 Batch 750 Loss 1.7884 Accuracy 0.6278\n",
            "Epoch 13 Batch 800 Loss 1.7905 Accuracy 0.6276\n",
            "Epoch 13 Loss 1.7912 Accuracy 0.6276\n",
            "Time taken for 1 epoch: 211.13 secs\n",
            "\n",
            "Epoch 14 Batch 0 Loss 1.6111 Accuracy 0.6565\n",
            "Epoch 14 Batch 50 Loss 1.6687 Accuracy 0.6459\n",
            "Epoch 14 Batch 100 Loss 1.6882 Accuracy 0.6436\n",
            "Epoch 14 Batch 150 Loss 1.6912 Accuracy 0.6424\n",
            "Epoch 14 Batch 200 Loss 1.6917 Accuracy 0.6427\n",
            "Epoch 14 Batch 250 Loss 1.6964 Accuracy 0.6423\n",
            "Epoch 14 Batch 300 Loss 1.6971 Accuracy 0.6420\n",
            "Epoch 14 Batch 350 Loss 1.7020 Accuracy 0.6411\n",
            "Epoch 14 Batch 400 Loss 1.7070 Accuracy 0.6402\n",
            "Epoch 14 Batch 450 Loss 1.7102 Accuracy 0.6396\n",
            "Epoch 14 Batch 500 Loss 1.7111 Accuracy 0.6395\n",
            "Epoch 14 Batch 550 Loss 1.7142 Accuracy 0.6393\n",
            "Epoch 14 Batch 600 Loss 1.7152 Accuracy 0.6391\n",
            "Epoch 14 Batch 650 Loss 1.7161 Accuracy 0.6388\n",
            "Epoch 14 Batch 700 Loss 1.7186 Accuracy 0.6384\n",
            "Epoch 14 Batch 750 Loss 1.7212 Accuracy 0.6381\n",
            "Epoch 14 Batch 800 Loss 1.7217 Accuracy 0.6380\n",
            "Epoch 14 Loss 1.7228 Accuracy 0.6379\n",
            "Time taken for 1 epoch: 210.63 secs\n",
            "\n",
            "Epoch 15 Batch 0 Loss 1.6050 Accuracy 0.6554\n",
            "Epoch 15 Batch 50 Loss 1.6066 Accuracy 0.6525\n",
            "Epoch 15 Batch 100 Loss 1.6047 Accuracy 0.6549\n",
            "Epoch 15 Batch 150 Loss 1.6106 Accuracy 0.6543\n",
            "Epoch 15 Batch 200 Loss 1.6111 Accuracy 0.6545\n",
            "Epoch 15 Batch 250 Loss 1.6233 Accuracy 0.6527\n",
            "Epoch 15 Batch 300 Loss 1.6294 Accuracy 0.6518\n",
            "Epoch 15 Batch 350 Loss 1.6335 Accuracy 0.6511\n",
            "Epoch 15 Batch 400 Loss 1.6365 Accuracy 0.6504\n",
            "Epoch 15 Batch 450 Loss 1.6443 Accuracy 0.6491\n",
            "Epoch 15 Batch 500 Loss 1.6469 Accuracy 0.6487\n",
            "Epoch 15 Batch 550 Loss 1.6496 Accuracy 0.6485\n",
            "Epoch 15 Batch 600 Loss 1.6520 Accuracy 0.6482\n",
            "Epoch 15 Batch 650 Loss 1.6540 Accuracy 0.6479\n",
            "Epoch 15 Batch 700 Loss 1.6567 Accuracy 0.6476\n",
            "Epoch 15 Batch 750 Loss 1.6592 Accuracy 0.6473\n",
            "Epoch 15 Batch 800 Loss 1.6628 Accuracy 0.6466\n",
            "Saving checkpoint for epoch 15 at ./checkpoints/train/ckpt-3\n",
            "Epoch 15 Loss 1.6626 Accuracy 0.6467\n",
            "Time taken for 1 epoch: 211.00 secs\n",
            "\n",
            "Epoch 16 Batch 0 Loss 1.5818 Accuracy 0.6502\n",
            "Epoch 16 Batch 50 Loss 1.5605 Accuracy 0.6616\n",
            "Epoch 16 Batch 100 Loss 1.5664 Accuracy 0.6614\n",
            "Epoch 16 Batch 150 Loss 1.5733 Accuracy 0.6595\n",
            "Epoch 16 Batch 200 Loss 1.5762 Accuracy 0.6593\n",
            "Epoch 16 Batch 250 Loss 1.5832 Accuracy 0.6583\n",
            "Epoch 16 Batch 300 Loss 1.5853 Accuracy 0.6578\n",
            "Epoch 16 Batch 350 Loss 1.5834 Accuracy 0.6584\n",
            "Epoch 16 Batch 400 Loss 1.5875 Accuracy 0.6579\n",
            "Epoch 16 Batch 450 Loss 1.5895 Accuracy 0.6574\n",
            "Epoch 16 Batch 500 Loss 1.5916 Accuracy 0.6572\n",
            "Epoch 16 Batch 550 Loss 1.5963 Accuracy 0.6567\n",
            "Epoch 16 Batch 600 Loss 1.5987 Accuracy 0.6565\n",
            "Epoch 16 Batch 650 Loss 1.6000 Accuracy 0.6562\n",
            "Epoch 16 Batch 700 Loss 1.6038 Accuracy 0.6556\n",
            "Epoch 16 Batch 750 Loss 1.6066 Accuracy 0.6552\n",
            "Epoch 16 Batch 800 Loss 1.6096 Accuracy 0.6548\n",
            "Epoch 16 Loss 1.6095 Accuracy 0.6549\n",
            "Time taken for 1 epoch: 210.12 secs\n",
            "\n",
            "Epoch 17 Batch 0 Loss 1.4575 Accuracy 0.6654\n",
            "Epoch 17 Batch 50 Loss 1.5068 Accuracy 0.6694\n",
            "Epoch 17 Batch 100 Loss 1.5111 Accuracy 0.6691\n",
            "Epoch 17 Batch 150 Loss 1.5107 Accuracy 0.6698\n",
            "Epoch 17 Batch 200 Loss 1.5155 Accuracy 0.6692\n",
            "Epoch 17 Batch 250 Loss 1.5202 Accuracy 0.6683\n",
            "Epoch 17 Batch 300 Loss 1.5266 Accuracy 0.6672\n",
            "Epoch 17 Batch 350 Loss 1.5296 Accuracy 0.6667\n",
            "Epoch 17 Batch 400 Loss 1.5353 Accuracy 0.6662\n",
            "Epoch 17 Batch 450 Loss 1.5392 Accuracy 0.6655\n",
            "Epoch 17 Batch 500 Loss 1.5430 Accuracy 0.6649\n",
            "Epoch 17 Batch 550 Loss 1.5453 Accuracy 0.6647\n",
            "Epoch 17 Batch 600 Loss 1.5480 Accuracy 0.6643\n",
            "Epoch 17 Batch 650 Loss 1.5506 Accuracy 0.6641\n",
            "Epoch 17 Batch 700 Loss 1.5533 Accuracy 0.6636\n",
            "Epoch 17 Batch 750 Loss 1.5567 Accuracy 0.6630\n",
            "Epoch 17 Batch 800 Loss 1.5610 Accuracy 0.6624\n",
            "Epoch 17 Loss 1.5611 Accuracy 0.6624\n",
            "Time taken for 1 epoch: 209.86 secs\n",
            "\n",
            "Epoch 18 Batch 0 Loss 1.6131 Accuracy 0.6419\n",
            "Epoch 18 Batch 50 Loss 1.4611 Accuracy 0.6782\n",
            "Epoch 18 Batch 100 Loss 1.4728 Accuracy 0.6758\n",
            "Epoch 18 Batch 150 Loss 1.4723 Accuracy 0.6760\n",
            "Epoch 18 Batch 200 Loss 1.4759 Accuracy 0.6756\n",
            "Epoch 18 Batch 250 Loss 1.4791 Accuracy 0.6749\n",
            "Epoch 18 Batch 300 Loss 1.4796 Accuracy 0.6745\n",
            "Epoch 18 Batch 350 Loss 1.4903 Accuracy 0.6727\n",
            "Epoch 18 Batch 400 Loss 1.4908 Accuracy 0.6726\n",
            "Epoch 18 Batch 450 Loss 1.4946 Accuracy 0.6722\n",
            "Epoch 18 Batch 500 Loss 1.4965 Accuracy 0.6719\n",
            "Epoch 18 Batch 550 Loss 1.5001 Accuracy 0.6715\n",
            "Epoch 18 Batch 600 Loss 1.5031 Accuracy 0.6712\n",
            "Epoch 18 Batch 650 Loss 1.5063 Accuracy 0.6708\n",
            "Epoch 18 Batch 700 Loss 1.5117 Accuracy 0.6700\n",
            "Epoch 18 Batch 750 Loss 1.5138 Accuracy 0.6696\n",
            "Epoch 18 Batch 800 Loss 1.5173 Accuracy 0.6691\n",
            "Epoch 18 Loss 1.5173 Accuracy 0.6691\n",
            "Time taken for 1 epoch: 210.45 secs\n",
            "\n",
            "Epoch 19 Batch 0 Loss 1.4639 Accuracy 0.6851\n",
            "Epoch 19 Batch 50 Loss 1.4277 Accuracy 0.6829\n",
            "Epoch 19 Batch 100 Loss 1.4221 Accuracy 0.6846\n",
            "Epoch 19 Batch 150 Loss 1.4327 Accuracy 0.6826\n",
            "Epoch 19 Batch 200 Loss 1.4404 Accuracy 0.6814\n",
            "Epoch 19 Batch 250 Loss 1.4487 Accuracy 0.6796\n",
            "Epoch 19 Batch 300 Loss 1.4491 Accuracy 0.6802\n",
            "Epoch 19 Batch 350 Loss 1.4550 Accuracy 0.6791\n",
            "Epoch 19 Batch 400 Loss 1.4558 Accuracy 0.6791\n",
            "Epoch 19 Batch 450 Loss 1.4576 Accuracy 0.6787\n",
            "Epoch 19 Batch 500 Loss 1.4579 Accuracy 0.6784\n",
            "Epoch 19 Batch 550 Loss 1.4617 Accuracy 0.6776\n",
            "Epoch 19 Batch 600 Loss 1.4643 Accuracy 0.6771\n",
            "Epoch 19 Batch 650 Loss 1.4674 Accuracy 0.6766\n",
            "Epoch 19 Batch 700 Loss 1.4709 Accuracy 0.6760\n",
            "Epoch 19 Batch 750 Loss 1.4759 Accuracy 0.6752\n",
            "Epoch 19 Batch 800 Loss 1.4793 Accuracy 0.6746\n",
            "Epoch 19 Loss 1.4792 Accuracy 0.6746\n",
            "Time taken for 1 epoch: 210.35 secs\n",
            "\n",
            "Epoch 20 Batch 0 Loss 1.4084 Accuracy 0.6844\n",
            "Epoch 20 Batch 50 Loss 1.3798 Accuracy 0.6901\n",
            "Epoch 20 Batch 100 Loss 1.3895 Accuracy 0.6885\n",
            "Epoch 20 Batch 150 Loss 1.3966 Accuracy 0.6874\n",
            "Epoch 20 Batch 200 Loss 1.4001 Accuracy 0.6874\n",
            "Epoch 20 Batch 250 Loss 1.4102 Accuracy 0.6860\n",
            "Epoch 20 Batch 300 Loss 1.4107 Accuracy 0.6858\n",
            "Epoch 20 Batch 350 Loss 1.4145 Accuracy 0.6852\n",
            "Epoch 20 Batch 400 Loss 1.4165 Accuracy 0.6847\n",
            "Epoch 20 Batch 450 Loss 1.4171 Accuracy 0.6848\n",
            "Epoch 20 Batch 500 Loss 1.4180 Accuracy 0.6846\n",
            "Epoch 20 Batch 550 Loss 1.4205 Accuracy 0.6843\n",
            "Epoch 20 Batch 600 Loss 1.4258 Accuracy 0.6833\n",
            "Epoch 20 Batch 650 Loss 1.4294 Accuracy 0.6827\n",
            "Epoch 20 Batch 700 Loss 1.4357 Accuracy 0.6816\n",
            "Epoch 20 Batch 750 Loss 1.4390 Accuracy 0.6811\n",
            "Epoch 20 Batch 800 Loss 1.4424 Accuracy 0.6805\n",
            "Saving checkpoint for epoch 20 at ./checkpoints/train/ckpt-4\n",
            "Epoch 20 Loss 1.4428 Accuracy 0.6804\n",
            "Time taken for 1 epoch: 209.67 secs\n",
            "\n"
          ]
        }
      ]
    },
    {
      "cell_type": "markdown",
      "metadata": {
        "id": "QfcsSWswSdGV"
      },
      "source": [
        "### Run inference"
      ]
    },
    {
      "cell_type": "markdown",
      "metadata": {
        "id": "y6APsFrgImLW"
      },
      "source": [
        "The following steps are used for inference:\n",
        "\n",
        "* Encode the input sentence using the Portuguese tokenizer (`tokenizers.pt`). This is the encoder input.\n",
        "* The decoder input is initialized to the `[START]` token.\n",
        "* Calculate the padding masks and the look ahead masks.\n",
        "* The `decoder` then outputs the predictions by looking at the `encoder output` and its own output (self-attention).\n",
        "* Concatenate the predicted token to the decoder input and pass it to the decoder.\n",
        "* In this approach, the decoder predicts the next token based on the previous tokens it predicted."
      ]
    },
    {
      "cell_type": "markdown",
      "metadata": {
        "id": "-FQmQwtv9-kk"
      },
      "source": [
        "Note: The model is optimized for _efficient training_ and makes a next-token prediction for each token in the output simultaneously. This is redundant during inference, and only the last prediction is used.  This model can be made more efficient for inference if you only calculate the last prediction when running in inference mode (`training=False`)."
      ]
    },
    {
      "cell_type": "code",
      "metadata": {
        "id": "5buvMlnvyrFm"
      },
      "source": [
        "class Translator(tf.Module):\n",
        "  def __init__(self, tokenizers, transformer):\n",
        "    self.tokenizers = tokenizers\n",
        "    self.transformer = transformer\n",
        "\n",
        "  def __call__(self, sentence, max_length=20):\n",
        "    # input sentence is portuguese, hence adding the start and end token\n",
        "    assert isinstance(sentence, tf.Tensor)\n",
        "    if len(sentence.shape) == 0:\n",
        "      sentence = sentence[tf.newaxis]\n",
        "\n",
        "    sentence = self.tokenizers.pt.tokenize(sentence).to_tensor()\n",
        "    \n",
        "    encoder_input = sentence\n",
        "\n",
        "    # as the target is english, the first token to the transformer should be the\n",
        "    # english start token.\n",
        "    start_end = self.tokenizers.en.tokenize([''])[0]\n",
        "    start = start_end[0][tf.newaxis]\n",
        "    end = start_end[1][tf.newaxis]\n",
        "\n",
        "    # `tf.TensorArray` is required here (instead of a python list) so that the\n",
        "    # dynamic-loop can be traced by `tf.function`.\n",
        "    output_array = tf.TensorArray(dtype=tf.int64, size=0, dynamic_size=True)\n",
        "    output_array = output_array.write(0, start)\n",
        "    \n",
        "    for i in tf.range(max_length):\n",
        "      output = tf.transpose(output_array.stack())\n",
        "      predictions, _ = self.transformer([encoder_input, output], training=False)\n",
        "      \n",
        "      # select the last token from the seq_len dimension\n",
        "      predictions = predictions[:, -1:, :]  # (batch_size, 1, vocab_size)\n",
        "\n",
        "      predicted_id = tf.argmax(predictions, axis=-1)\n",
        "\n",
        "      # concatentate the predicted_id to the output which is given to the decoder\n",
        "      # as its input.\n",
        "      output_array = output_array.write(i+1, predicted_id[0])\n",
        "\n",
        "      if predicted_id == end:\n",
        "        break\n",
        "\n",
        "    output = tf.transpose(output_array.stack())\n",
        "    # output.shape (1, tokens)\n",
        "    text = tokenizers.en.detokenize(output)[0]  # shape: ()\n",
        "\n",
        "    tokens = tokenizers.en.lookup(output)[0]\n",
        "\n",
        "    # `tf.function` prevents us from using the attention_weights that were\n",
        "    # calculated on the last iteration of the loop. So recalculate them outside\n",
        "    # the loop.\n",
        "    _, attention_weights = self.transformer([encoder_input, output[:,:-1]], training=False)\n",
        "\n",
        "    return text, tokens, attention_weights"
      ],
      "execution_count": 56,
      "outputs": []
    },
    {
      "cell_type": "markdown",
      "metadata": {
        "id": "ofUWszmY3szZ"
      },
      "source": [
        "Create an instance of this `Translator` class, and try it out a few times:"
      ]
    },
    {
      "cell_type": "code",
      "metadata": {
        "id": "4OR2D4EXeIRY"
      },
      "source": [
        "translator = Translator(tokenizers, transformer)"
      ],
      "execution_count": 57,
      "outputs": []
    },
    {
      "cell_type": "code",
      "metadata": {
        "id": "lU2_yG_vBGza"
      },
      "source": [
        "def print_translation(sentence, tokens, ground_truth):\n",
        "  print(f'{\"Input:\":15s}: {sentence}')\n",
        "  print(f'{\"Prediction\":15s}: {tokens.numpy().decode(\"utf-8\")}')\n",
        "  print(f'{\"Ground truth\":15s}: {ground_truth}')"
      ],
      "execution_count": 58,
      "outputs": []
    },
    {
      "cell_type": "code",
      "metadata": {
        "id": "YsxrAlvFG8SZ",
        "colab": {
          "base_uri": "https://localhost:8080/"
        },
        "outputId": "ee0c9896-ba70-4b41-d7bf-81968a18e8d4"
      },
      "source": [
        "sentence = \"este é um problema que temos que resolver.\"\n",
        "ground_truth = \"this is a problem we have to solve .\"\n",
        "\n",
        "translated_text, translated_tokens, attention_weights = translator(\n",
        "    tf.constant(sentence))\n",
        "print_translation(sentence, translated_text, ground_truth)"
      ],
      "execution_count": 59,
      "outputs": [
        {
          "output_type": "stream",
          "name": "stdout",
          "text": [
            "Input:         : este é um problema que temos que resolver.\n",
            "Prediction     : this is a problem that we have to solve .\n",
            "Ground truth   : this is a problem we have to solve .\n"
          ]
        }
      ]
    },
    {
      "cell_type": "code",
      "metadata": {
        "id": "7EH5y_aqI4t1",
        "colab": {
          "base_uri": "https://localhost:8080/"
        },
        "outputId": "28bb6d34-fc48-48f9-d736-ca664e2afc94"
      },
      "source": [
        "sentence = \"os meus vizinhos ouviram sobre esta ideia.\"\n",
        "ground_truth = \"and my neighboring homes heard about this idea .\"\n",
        "\n",
        "translated_text, translated_tokens, attention_weights = translator(\n",
        "    tf.constant(sentence))\n",
        "print_translation(sentence, translated_text, ground_truth)"
      ],
      "execution_count": 60,
      "outputs": [
        {
          "output_type": "stream",
          "name": "stdout",
          "text": [
            "Input:         : os meus vizinhos ouviram sobre esta ideia.\n",
            "Prediction     : my neighbors heard about this idea .\n",
            "Ground truth   : and my neighboring homes heard about this idea .\n"
          ]
        }
      ]
    },
    {
      "cell_type": "code",
      "metadata": {
        "id": "J-hVCTSUMlkb",
        "colab": {
          "base_uri": "https://localhost:8080/"
        },
        "outputId": "2f05ce57-b72c-4400-a55f-b20c50c501f9"
      },
      "source": [
        "sentence = \"vou então muito rapidamente partilhar convosco algumas histórias de algumas coisas mágicas que aconteceram.\"\n",
        "ground_truth = \"so i \\'ll just share with you some stories very quickly of some magical things that have happened .\"\n",
        "\n",
        "translated_text, translated_tokens, attention_weights = translator(\n",
        "    tf.constant(sentence))\n",
        "print_translation(sentence, translated_text, ground_truth)"
      ],
      "execution_count": 61,
      "outputs": [
        {
          "output_type": "stream",
          "name": "stdout",
          "text": [
            "Input:         : vou então muito rapidamente partilhar convosco algumas histórias de algumas coisas mágicas que aconteceram.\n",
            "Prediction     : so i ' m going to share with you a couple of stories from some magic news that happened .\n",
            "Ground truth   : so i 'll just share with you some stories very quickly of some magical things that have happened .\n"
          ]
        }
      ]
    },
    {
      "cell_type": "markdown",
      "metadata": {
        "id": "S3EQiFUC--Ds"
      },
      "source": [
        "## Attention plots"
      ]
    },
    {
      "cell_type": "markdown",
      "metadata": {
        "id": "hHV2pdXHGz-0"
      },
      "source": [
        "The `Translator` class returns a dictionary of attention maps you can use to visualize the internal working of the model:"
      ]
    },
    {
      "cell_type": "code",
      "metadata": {
        "id": "t-kFyiOLH0xg",
        "colab": {
          "base_uri": "https://localhost:8080/"
        },
        "outputId": "f3fd4dc1-fa44-4763-ad4d-54b50ad6afdd"
      },
      "source": [
        "sentence = \"este é o primeiro livro que eu fiz.\"\n",
        "ground_truth = \"this is the first book i've ever done.\"\n",
        "\n",
        "translated_text, translated_tokens, attention_weights = translator(\n",
        "    tf.constant(sentence))\n",
        "print_translation(sentence, translated_text, ground_truth)"
      ],
      "execution_count": 62,
      "outputs": [
        {
          "output_type": "stream",
          "name": "stdout",
          "text": [
            "Input:         : este é o primeiro livro que eu fiz.\n",
            "Prediction     : this is the first book i did .\n",
            "Ground truth   : this is the first book i've ever done.\n"
          ]
        }
      ]
    },
    {
      "cell_type": "code",
      "metadata": {
        "id": "CcI4DxAK5EHY"
      },
      "source": [
        "def plot_attention_head(in_tokens, translated_tokens, attention):\n",
        "  # The plot is of the attention when a token was generated.\n",
        "  # The model didn't generate `<START>` in the output. Skip it.\n",
        "  translated_tokens = translated_tokens[1:]\n",
        "\n",
        "  ax = plt.gca()\n",
        "  ax.matshow(attention)\n",
        "  ax.set_xticks(range(len(in_tokens)))\n",
        "  ax.set_yticks(range(len(translated_tokens)))\n",
        "\n",
        "  labels = [label.decode('utf-8') for label in in_tokens.numpy()]\n",
        "  ax.set_xticklabels(\n",
        "      labels, rotation=90)\n",
        "\n",
        "  labels = [label.decode('utf-8') for label in translated_tokens.numpy()]\n",
        "  ax.set_yticklabels(labels)"
      ],
      "execution_count": 63,
      "outputs": []
    },
    {
      "cell_type": "code",
      "metadata": {
        "id": "_KY4c2cryuxY",
        "colab": {
          "base_uri": "https://localhost:8080/"
        },
        "outputId": "d01b1e0f-dd70-492d-d47c-0440488526c9"
      },
      "source": [
        "head = 0\n",
        "# shape: (batch=1, num_heads, seq_len_q, seq_len_k)\n",
        "attention_heads = tf.squeeze(\n",
        "  attention_weights['decoder_layer4_block2'], 0)\n",
        "attention = attention_heads[head]\n",
        "attention.shape"
      ],
      "execution_count": 64,
      "outputs": [
        {
          "output_type": "execute_result",
          "data": {
            "text/plain": [
              "TensorShape([9, 11])"
            ]
          },
          "metadata": {},
          "execution_count": 64
        }
      ]
    },
    {
      "cell_type": "code",
      "metadata": {
        "id": "XdxmakWE6Om3",
        "colab": {
          "base_uri": "https://localhost:8080/"
        },
        "outputId": "489ef8f0-5dc8-4cc8-b445-bfb41a4f7ab5"
      },
      "source": [
        "in_tokens = tf.convert_to_tensor([sentence])\n",
        "in_tokens = tokenizers.pt.tokenize(in_tokens).to_tensor()\n",
        "in_tokens = tokenizers.pt.lookup(in_tokens)[0]\n",
        "in_tokens"
      ],
      "execution_count": 65,
      "outputs": [
        {
          "output_type": "execute_result",
          "data": {
            "text/plain": [
              "<tf.Tensor: shape=(11,), dtype=string, numpy=\n",
              "array([b'[START]', b'este', b'e', b'o', b'primeiro', b'livro', b'que',\n",
              "       b'eu', b'fiz', b'.', b'[END]'], dtype=object)>"
            ]
          },
          "metadata": {},
          "execution_count": 65
        }
      ]
    },
    {
      "cell_type": "code",
      "metadata": {
        "id": "hVdPSfecmrpj",
        "colab": {
          "base_uri": "https://localhost:8080/"
        },
        "outputId": "8a059c33-7f49-457c-8653-7801c461f103"
      },
      "source": [
        "translated_tokens"
      ],
      "execution_count": 66,
      "outputs": [
        {
          "output_type": "execute_result",
          "data": {
            "text/plain": [
              "<tf.Tensor: shape=(10,), dtype=string, numpy=\n",
              "array([b'[START]', b'this', b'is', b'the', b'first', b'book', b'i',\n",
              "       b'did', b'.', b'[END]'], dtype=object)>"
            ]
          },
          "metadata": {},
          "execution_count": 66
        }
      ]
    },
    {
      "cell_type": "code",
      "metadata": {
        "id": "XtzyKCFamm4N",
        "colab": {
          "base_uri": "https://localhost:8080/",
          "height": 301
        },
        "outputId": "76c0c3c5-5075-4075-d3fa-613b952c2ef4"
      },
      "source": [
        "plot_attention_head(in_tokens, translated_tokens, attention)"
      ],
      "execution_count": 67,
      "outputs": [
        {
          "output_type": "display_data",
          "data": {
            "image/png": "[encoded data removed]",
            "text/plain": [
              "<Figure size 432x288 with 1 Axes>"
            ]
          },
          "metadata": {
            "needs_background": "light"
          }
        }
      ]
    },
    {
      "cell_type": "code",
      "metadata": {
        "id": "MBliB-PCzNK3"
      },
      "source": [
        "def plot_attention_weights(sentence, translated_tokens, attention_heads):\n",
        "  in_tokens = tf.convert_to_tensor([sentence])\n",
        "  in_tokens = tokenizers.pt.tokenize(in_tokens).to_tensor()\n",
        "  in_tokens = tokenizers.pt.lookup(in_tokens)[0]\n",
        "  in_tokens\n",
        "\n",
        "  fig = plt.figure(figsize=(16, 8))\n",
        "\n",
        "  for h, head in enumerate(attention_heads):\n",
        "    ax = fig.add_subplot(2, 4, h+1)\n",
        "\n",
        "    plot_attention_head(in_tokens, translated_tokens, head)\n",
        "\n",
        "    ax.set_xlabel(f'Head {h+1}')\n",
        "\n",
        "  plt.tight_layout()\n",
        "  plt.show()"
      ],
      "execution_count": 68,
      "outputs": []
    },
    {
      "cell_type": "code",
      "metadata": {
        "id": "pyRQi7944wru",
        "colab": {
          "base_uri": "https://localhost:8080/",
          "height": 568
        },
        "outputId": "17b98a4b-947b-4bf9-eac0-7be0b2a21f9e"
      },
      "source": [
        "plot_attention_weights(sentence, translated_tokens,\n",
        "                       attention_weights['decoder_layer4_block2'][0])"
      ],
      "execution_count": 69,
      "outputs": [
        {
          "output_type": "display_data",
          "data": {
            "image/png": "[encoded data removed]",
            "text/plain": [
              "<Figure size 1152x576 with 8 Axes>"
            ]
          },
          "metadata": {
            "needs_background": "light"
          }
        }
      ]
    },
    {
      "cell_type": "markdown",
      "metadata": {
        "id": "MZJirKUtikTt"
      },
      "source": [
        "The model does okay on unfamiliar words. Neither \"triceratops\" or \"encyclopedia\" are in the input dataset and the model almost learns to transliterate them, even without a shared vocabulary:"
      ]
    },
    {
      "cell_type": "code",
      "metadata": {
        "id": "9cxysY7uh3jg",
        "colab": {
          "base_uri": "https://localhost:8080/",
          "height": 615
        },
        "outputId": "964ce727-9c39-467f-f636-b8d05e8b34af"
      },
      "source": [
        "sentence = \"Eu li sobre triceratops na enciclopédia.\"\n",
        "ground_truth = \"I read about triceratops in the encyclopedia.\"\n",
        "\n",
        "translated_text, translated_tokens, attention_weights = translator(\n",
        "    tf.constant(sentence))\n",
        "print_translation(sentence, translated_text, ground_truth)\n",
        "\n",
        "plot_attention_weights(sentence, translated_tokens,\n",
        "                       attention_weights['decoder_layer4_block2'][0])"
      ],
      "execution_count": 70,
      "outputs": [
        {
          "output_type": "stream",
          "name": "stdout",
          "text": [
            "Input:         : Eu li sobre triceratops na enciclopédia.\n",
            "Prediction     : i read about triumphs in the enclody .\n",
            "Ground truth   : I read about triceratops in the encyclopedia.\n"
          ]
        },
        {
          "output_type": "display_data",
          "data": {
            "image/png": "[encoded data removed]",
            "text/plain": [
              "<Figure size 1152x576 with 8 Axes>"
            ]
          },
          "metadata": {
            "needs_background": "light"
          }
        }
      ]
    },
    {
      "cell_type": "markdown",
      "metadata": {
        "id": "mOyiOetL2l60"
      },
      "source": [
        "## Export"
      ]
    },
    {
      "cell_type": "markdown",
      "metadata": {
        "id": "YTK3g2UL2oMc"
      },
      "source": [
        "That inference model is working, so next you'll export it as a `tf.saved_model`.\n",
        "\n",
        "To do that, wrap it in yet another `tf.Module` sub-class, this time with a `tf.function` on the `__call__` method:"
      ]
    },
    {
      "cell_type": "code",
      "metadata": {
        "id": "GRmzkibLusQi"
      },
      "source": [
        "class ExportTranslator(tf.Module):\n",
        "  def __init__(self, translator):\n",
        "    self.translator = translator\n",
        "\n",
        "  @tf.function(input_signature=[tf.TensorSpec(shape=[], dtype=tf.string)])\n",
        "  def __call__(self, sentence):\n",
        "    (result, \n",
        "     tokens,\n",
        "     attention_weights) = self.translator(sentence, max_length=100)\n",
        "    \n",
        "    return result"
      ],
      "execution_count": 71,
      "outputs": []
    },
    {
      "cell_type": "markdown",
      "metadata": {
        "id": "O9f_pmEA4kql"
      },
      "source": [
        "In the above `tf.function` only the output sentence is returned. Thanks to the [non-strict execution](https://tensorflow.org/guide/intro_to_graphs) in `tf.function` any unnecessary values are never computed."
      ]
    },
    {
      "cell_type": "code",
      "metadata": {
        "id": "EfomoJDP2n5n"
      },
      "source": [
        "translator = ExportTranslator(translator)"
      ],
      "execution_count": 72,
      "outputs": []
    },
    {
      "cell_type": "markdown",
      "metadata": {
        "id": "SUfoCWPS9LuB"
      },
      "source": [
        "Since the model is decoding the predictions using `tf.argmax` the predictions are deterministic. The original model and one reloaded from its `SavedModel` should give identical predictions:"
      ]
    },
    {
      "cell_type": "code",
      "metadata": {
        "id": "hAlqyycz3IYL",
        "colab": {
          "base_uri": "https://localhost:8080/"
        },
        "outputId": "a74a7d09-827d-42d6-8397-d09c965f6d57"
      },
      "source": [
        "translator(\"este é o primeiro livro que eu fiz.\").numpy()"
      ],
      "execution_count": 89,
      "outputs": [
        {
          "output_type": "execute_result",
          "data": {
            "text/plain": [
              "b'this is the first book i did .'"
            ]
          },
          "metadata": {},
          "execution_count": 89
        }
      ]
    },
    {
      "cell_type": "code",
      "metadata": {
        "id": "ar3LO-Vuvlnv",
        "colab": {
          "base_uri": "https://localhost:8080/"
        },
        "outputId": "bb52eb5c-34c2-4acc-d981-96fe726049cc"
      },
      "source": [
        "tf.saved_model.save(translator, export_dir='translator')"
      ],
      "execution_count": 74,
      "outputs": [
        {
          "output_type": "stream",
          "name": "stderr",
          "text": [
            "WARNING:absl:Found untraced functions such as embedding_4_layer_call_and_return_conditional_losses, embedding_4_layer_call_fn, dropout_37_layer_call_and_return_conditional_losses, dropout_37_layer_call_fn, embedding_5_layer_call_and_return_conditional_losses while saving (showing 5 of 560). These functions will not be directly callable after loading.\n"
          ]
        }
      ]
    },
    {
      "cell_type": "code",
      "metadata": {
        "id": "8WUflwyT1SEF"
      },
      "source": [
        "reloaded = tf.saved_model.load('translator')"
      ],
      "execution_count": 75,
      "outputs": []
    },
    {
      "cell_type": "code",
      "metadata": {
        "id": "-sBTBWwR1XMr",
        "colab": {
          "base_uri": "https://localhost:8080/"
        },
        "outputId": "2e3e624b-4dc3-467a-f08c-09b2a3c97fa4"
      },
      "source": [
        "reloaded(\"este é o primeiro livro que eu fiz.\").numpy()"
      ],
      "execution_count": 76,
      "outputs": [
        {
          "output_type": "execute_result",
          "data": {
            "text/plain": [
              "b'this is the first book i did .'"
            ]
          },
          "metadata": {},
          "execution_count": 76
        }
      ]
    },
    {
      "cell_type": "markdown",
      "metadata": {
        "id": "WHAAPAPxl_6K"
      },
      "source": [
        "## Training for english to Portugal "
      ]
    },
    {
      "cell_type": "code",
      "metadata": {
        "id": "t7zv4PxOFhmK"
      },
      "source": [
        "# English to Portuguse \n",
        "transformer_ep = Transformer(\n",
        "    num_layers=num_layers,\n",
        "    d_model=d_model,\n",
        "    num_heads=num_heads,\n",
        "    dff=dff,\n",
        "    input_vocab_size=tokenizers.en.get_vocab_size().numpy(),\n",
        "    target_vocab_size=tokenizers.pt.get_vocab_size().numpy(),\n",
        "    pe_input=1000,\n",
        "    pe_target=1000,\n",
        "    rate=dropout_rate)"
      ],
      "execution_count": 79,
      "outputs": []
    },
    {
      "cell_type": "code",
      "metadata": {
        "id": "cutvQCBqbI54"
      },
      "source": [
        "checkpoint_path = \"./checkpoints/train/opposite\"\n",
        "\n",
        "ckpt_ep = tf.train.Checkpoint(transformer=transformer_ep,\n",
        "                           optimizer=optimizer)\n",
        "\n",
        "ckpt_manager = tf.train.CheckpointManager(ckpt_ep, checkpoint_path, max_to_keep=5)\n",
        "\n",
        "# if a checkpoint exists, restore the latest checkpoint.\n",
        "if ckpt_manager.latest_checkpoint:\n",
        "  ckpt_ep.restore(ckpt_manager.latest_checkpoint)\n",
        "  print('Latest checkpoint restored!!')"
      ],
      "execution_count": 80,
      "outputs": []
    },
    {
      "cell_type": "code",
      "metadata": {
        "id": "IA7JZ_LWM0LO"
      },
      "source": [
        "EPOCHS = 20"
      ],
      "execution_count": 81,
      "outputs": []
    },
    {
      "cell_type": "code",
      "metadata": {
        "id": "Joag7yMRM0LP"
      },
      "source": [
        "# The @tf.function trace-compiles train_step into a TF graph for faster\n",
        "# execution. The function specializes to the precise shape of the argument\n",
        "# tensors. To avoid re-tracing due to the variable sequence lengths or variable\n",
        "# batch sizes (the last batch is smaller), use input_signature to specify\n",
        "# more generic shapes.\n",
        "\n",
        "train_step_signature = [\n",
        "    tf.TensorSpec(shape=(None, None), dtype=tf.int64),\n",
        "    tf.TensorSpec(shape=(None, None), dtype=tf.int64),\n",
        "]\n",
        "\n",
        "\n",
        "@tf.function(input_signature=train_step_signature)\n",
        "def train_step(inp, tar):\n",
        "  tar_inp = tar[:, :-1]\n",
        "  tar_real = tar[:, 1:]\n",
        "\n",
        "  with tf.GradientTape() as tape:\n",
        "    predictions, _ = transformer_ep([inp, tar_inp],\n",
        "                                 training = True)\n",
        "    loss = loss_function(tar_real, predictions)\n",
        "\n",
        "  gradients = tape.gradient(loss, transformer_ep.trainable_variables)\n",
        "  optimizer.apply_gradients(zip(gradients, transformer_ep.trainable_variables))\n",
        "\n",
        "  train_loss(loss)\n",
        "  train_accuracy(accuracy_function(tar_real, predictions))"
      ],
      "execution_count": 82,
      "outputs": []
    },
    {
      "cell_type": "code",
      "metadata": {
        "colab": {
          "base_uri": "https://localhost:8080/"
        },
        "id": "qGNAawn4M0LP",
        "outputId": "66f58a1b-511e-4fe5-fd7e-fba79941f4c7"
      },
      "source": [
        "for epoch in range(EPOCHS):\n",
        "  start = time.time()\n",
        "\n",
        "  train_loss.reset_states()\n",
        "  train_accuracy.reset_states()\n",
        "\n",
        "  # inp -> english, tar -> portugese\n",
        "  for (batch, (inp, tar)) in enumerate(train_batches):\n",
        "    train_step(inp, tar)\n",
        "\n",
        "    if batch % 50 == 0:\n",
        "      print(f'Epoch {epoch + 1} Batch {batch} Loss {train_loss.result():.4f} Accuracy {train_accuracy.result():.4f}')\n",
        "\n",
        "  if (epoch + 1) % 5 == 0:\n",
        "    ckpt_save_path = ckpt_manager.save()\n",
        "    print(f'Saving checkpoint for epoch {epoch+1} at {ckpt_save_path}')\n",
        "\n",
        "  print(f'Epoch {epoch + 1} Loss {train_loss.result():.4f} Accuracy {train_accuracy.result():.4f}')\n",
        "\n",
        "  print(f'Time taken for 1 epoch: {time.time() - start:.2f} secs\\n')"
      ],
      "execution_count": 83,
      "outputs": [
        {
          "output_type": "stream",
          "name": "stdout",
          "text": [
            "Epoch 1 Batch 0 Loss 8.9900 Accuracy 0.0000\n",
            "Epoch 1 Batch 50 Loss 6.9873 Accuracy 0.0499\n",
            "Epoch 1 Batch 100 Loss 6.6058 Accuracy 0.0586\n",
            "Epoch 1 Batch 150 Loss 6.4645 Accuracy 0.0624\n",
            "Epoch 1 Batch 200 Loss 6.3759 Accuracy 0.0704\n",
            "Epoch 1 Batch 250 Loss 6.2740 Accuracy 0.0807\n",
            "Epoch 1 Batch 300 Loss 6.1732 Accuracy 0.0918\n",
            "Epoch 1 Batch 350 Loss 6.0823 Accuracy 0.1026\n",
            "Epoch 1 Batch 400 Loss 5.9933 Accuracy 0.1131\n",
            "Epoch 1 Batch 450 Loss 5.9101 Accuracy 0.1228\n",
            "Epoch 1 Batch 500 Loss 5.8376 Accuracy 0.1311\n",
            "Epoch 1 Batch 550 Loss 5.7674 Accuracy 0.1390\n",
            "Epoch 1 Batch 600 Loss 5.7087 Accuracy 0.1456\n",
            "Epoch 1 Batch 650 Loss 5.6533 Accuracy 0.1517\n",
            "Epoch 1 Batch 700 Loss 5.6047 Accuracy 0.1572\n",
            "Epoch 1 Batch 750 Loss 5.5588 Accuracy 0.1623\n",
            "Epoch 1 Batch 800 Loss 5.5149 Accuracy 0.1671\n",
            "Epoch 1 Loss 5.5062 Accuracy 0.1680\n",
            "Time taken for 1 epoch: 228.48 secs\n",
            "\n",
            "Epoch 2 Batch 0 Loss 4.8317 Accuracy 0.2479\n",
            "Epoch 2 Batch 50 Loss 4.8084 Accuracy 0.2414\n",
            "Epoch 2 Batch 100 Loss 4.7822 Accuracy 0.2437\n",
            "Epoch 2 Batch 150 Loss 4.7755 Accuracy 0.2443\n",
            "Epoch 2 Batch 200 Loss 4.7718 Accuracy 0.2441\n",
            "Epoch 2 Batch 250 Loss 4.7585 Accuracy 0.2456\n",
            "Epoch 2 Batch 300 Loss 4.7499 Accuracy 0.2461\n",
            "Epoch 2 Batch 350 Loss 4.7385 Accuracy 0.2471\n",
            "Epoch 2 Batch 400 Loss 4.7268 Accuracy 0.2482\n",
            "Epoch 2 Batch 450 Loss 4.7204 Accuracy 0.2488\n",
            "Epoch 2 Batch 500 Loss 4.7100 Accuracy 0.2497\n",
            "Epoch 2 Batch 550 Loss 4.6985 Accuracy 0.2506\n",
            "Epoch 2 Batch 600 Loss 4.6898 Accuracy 0.2513\n",
            "Epoch 2 Batch 650 Loss 4.6795 Accuracy 0.2521\n",
            "Epoch 2 Batch 700 Loss 4.6703 Accuracy 0.2529\n",
            "Epoch 2 Batch 750 Loss 4.6598 Accuracy 0.2539\n",
            "Epoch 2 Batch 800 Loss 4.6517 Accuracy 0.2547\n",
            "Epoch 2 Loss 4.6511 Accuracy 0.2548\n",
            "Time taken for 1 epoch: 214.44 secs\n",
            "\n",
            "Epoch 3 Batch 0 Loss 4.4684 Accuracy 0.2905\n",
            "Epoch 3 Batch 50 Loss 4.4122 Accuracy 0.2746\n",
            "Epoch 3 Batch 100 Loss 4.4192 Accuracy 0.2741\n",
            "Epoch 3 Batch 150 Loss 4.4241 Accuracy 0.2736\n",
            "Epoch 3 Batch 200 Loss 4.4272 Accuracy 0.2733\n",
            "Epoch 3 Batch 250 Loss 4.4276 Accuracy 0.2733\n",
            "Epoch 3 Batch 300 Loss 4.4282 Accuracy 0.2730\n",
            "Epoch 3 Batch 350 Loss 4.4217 Accuracy 0.2739\n",
            "Epoch 3 Batch 400 Loss 4.4172 Accuracy 0.2742\n",
            "Epoch 3 Batch 450 Loss 4.4111 Accuracy 0.2748\n",
            "Epoch 3 Batch 500 Loss 4.4070 Accuracy 0.2751\n",
            "Epoch 3 Batch 550 Loss 4.4004 Accuracy 0.2757\n",
            "Epoch 3 Batch 600 Loss 4.3962 Accuracy 0.2761\n",
            "Epoch 3 Batch 650 Loss 4.3924 Accuracy 0.2765\n",
            "Epoch 3 Batch 700 Loss 4.3881 Accuracy 0.2767\n",
            "Epoch 3 Batch 750 Loss 4.3834 Accuracy 0.2772\n",
            "Epoch 3 Batch 800 Loss 4.3793 Accuracy 0.2776\n",
            "Epoch 3 Loss 4.3789 Accuracy 0.2777\n",
            "Time taken for 1 epoch: 212.85 secs\n",
            "\n",
            "Epoch 4 Batch 0 Loss 4.2164 Accuracy 0.2852\n",
            "Epoch 4 Batch 50 Loss 4.2466 Accuracy 0.2879\n",
            "Epoch 4 Batch 100 Loss 4.2625 Accuracy 0.2854\n",
            "Epoch 4 Batch 150 Loss 4.2538 Accuracy 0.2862\n",
            "Epoch 4 Batch 200 Loss 4.2521 Accuracy 0.2863\n",
            "Epoch 4 Batch 250 Loss 4.2465 Accuracy 0.2868\n",
            "Epoch 4 Batch 300 Loss 4.2418 Accuracy 0.2873\n",
            "Epoch 4 Batch 350 Loss 4.2339 Accuracy 0.2881\n",
            "Epoch 4 Batch 400 Loss 4.2275 Accuracy 0.2889\n",
            "Epoch 4 Batch 450 Loss 4.2243 Accuracy 0.2892\n",
            "Epoch 4 Batch 500 Loss 4.2200 Accuracy 0.2898\n",
            "Epoch 4 Batch 550 Loss 4.2197 Accuracy 0.2899\n",
            "Epoch 4 Batch 600 Loss 4.2174 Accuracy 0.2900\n",
            "Epoch 4 Batch 650 Loss 4.2139 Accuracy 0.2905\n",
            "Epoch 4 Batch 700 Loss 4.2136 Accuracy 0.2905\n",
            "Epoch 4 Batch 750 Loss 4.2115 Accuracy 0.2906\n",
            "Epoch 4 Batch 800 Loss 4.2080 Accuracy 0.2909\n",
            "Epoch 4 Loss 4.2073 Accuracy 0.2910\n",
            "Time taken for 1 epoch: 213.34 secs\n",
            "\n",
            "Epoch 5 Batch 0 Loss 3.8736 Accuracy 0.3245\n",
            "Epoch 5 Batch 50 Loss 4.0679 Accuracy 0.3035\n",
            "Epoch 5 Batch 100 Loss 4.0866 Accuracy 0.3021\n",
            "Epoch 5 Batch 150 Loss 4.0783 Accuracy 0.3027\n",
            "Epoch 5 Batch 200 Loss 4.0712 Accuracy 0.3031\n",
            "Epoch 5 Batch 250 Loss 4.0725 Accuracy 0.3032\n",
            "Epoch 5 Batch 300 Loss 4.0766 Accuracy 0.3029\n",
            "Epoch 5 Batch 350 Loss 4.0770 Accuracy 0.3028\n",
            "Epoch 5 Batch 400 Loss 4.0732 Accuracy 0.3037\n",
            "Epoch 5 Batch 450 Loss 4.0721 Accuracy 0.3037\n",
            "Epoch 5 Batch 500 Loss 4.0692 Accuracy 0.3039\n",
            "Epoch 5 Batch 550 Loss 4.0660 Accuracy 0.3044\n",
            "Epoch 5 Batch 600 Loss 4.0649 Accuracy 0.3045\n",
            "Epoch 5 Batch 650 Loss 4.0609 Accuracy 0.3050\n",
            "Epoch 5 Batch 700 Loss 4.0600 Accuracy 0.3051\n",
            "Epoch 5 Batch 750 Loss 4.0581 Accuracy 0.3054\n",
            "Epoch 5 Batch 800 Loss 4.0559 Accuracy 0.3057\n",
            "Saving checkpoint for epoch 5 at ./checkpoints/train/opposite/ckpt-1\n",
            "Epoch 5 Loss 4.0557 Accuracy 0.3057\n",
            "Time taken for 1 epoch: 213.51 secs\n",
            "\n",
            "Epoch 6 Batch 0 Loss 3.8914 Accuracy 0.3184\n",
            "Epoch 6 Batch 50 Loss 3.9450 Accuracy 0.3147\n",
            "Epoch 6 Batch 100 Loss 3.9445 Accuracy 0.3153\n",
            "Epoch 6 Batch 150 Loss 3.9305 Accuracy 0.3167\n",
            "Epoch 6 Batch 200 Loss 3.9328 Accuracy 0.3171\n",
            "Epoch 6 Batch 250 Loss 3.9321 Accuracy 0.3170\n",
            "Epoch 6 Batch 300 Loss 3.9388 Accuracy 0.3161\n",
            "Epoch 6 Batch 350 Loss 3.9358 Accuracy 0.3163\n",
            "Epoch 6 Batch 400 Loss 3.9333 Accuracy 0.3169\n",
            "Epoch 6 Batch 450 Loss 3.9300 Accuracy 0.3173\n",
            "Epoch 6 Batch 500 Loss 3.9290 Accuracy 0.3177\n",
            "Epoch 6 Batch 550 Loss 3.9265 Accuracy 0.3181\n",
            "Epoch 6 Batch 600 Loss 3.9254 Accuracy 0.3184\n",
            "Epoch 6 Batch 650 Loss 3.9239 Accuracy 0.3185\n",
            "Epoch 6 Batch 700 Loss 3.9242 Accuracy 0.3184\n",
            "Epoch 6 Batch 750 Loss 3.9234 Accuracy 0.3185\n",
            "Epoch 6 Batch 800 Loss 3.9222 Accuracy 0.3185\n",
            "Epoch 6 Loss 3.9222 Accuracy 0.3186\n",
            "Time taken for 1 epoch: 214.77 secs\n",
            "\n",
            "Epoch 7 Batch 0 Loss 4.1182 Accuracy 0.2957\n",
            "Epoch 7 Batch 50 Loss 3.7980 Accuracy 0.3285\n",
            "Epoch 7 Batch 100 Loss 3.7927 Accuracy 0.3296\n",
            "Epoch 7 Batch 150 Loss 3.8007 Accuracy 0.3287\n",
            "Epoch 7 Batch 200 Loss 3.8004 Accuracy 0.3284\n",
            "Epoch 7 Batch 250 Loss 3.8035 Accuracy 0.3279\n",
            "Epoch 7 Batch 300 Loss 3.8081 Accuracy 0.3273\n",
            "Epoch 7 Batch 350 Loss 3.8097 Accuracy 0.3272\n",
            "Epoch 7 Batch 400 Loss 3.8103 Accuracy 0.3274\n",
            "Epoch 7 Batch 450 Loss 3.8083 Accuracy 0.3278\n",
            "Epoch 7 Batch 500 Loss 3.8042 Accuracy 0.3284\n",
            "Epoch 7 Batch 550 Loss 3.8060 Accuracy 0.3281\n",
            "Epoch 7 Batch 600 Loss 3.8049 Accuracy 0.3283\n",
            "Epoch 7 Batch 650 Loss 3.8050 Accuracy 0.3284\n",
            "Epoch 7 Batch 700 Loss 3.8048 Accuracy 0.3285\n",
            "Epoch 7 Batch 750 Loss 3.8032 Accuracy 0.3290\n",
            "Epoch 7 Batch 800 Loss 3.8025 Accuracy 0.3294\n",
            "Epoch 7 Loss 3.8023 Accuracy 0.3295\n",
            "Time taken for 1 epoch: 213.50 secs\n",
            "\n",
            "Epoch 8 Batch 0 Loss 3.7341 Accuracy 0.3329\n",
            "Epoch 8 Batch 50 Loss 3.6848 Accuracy 0.3387\n",
            "Epoch 8 Batch 100 Loss 3.6941 Accuracy 0.3388\n",
            "Epoch 8 Batch 150 Loss 3.6949 Accuracy 0.3391\n",
            "Epoch 8 Batch 200 Loss 3.6917 Accuracy 0.3390\n",
            "Epoch 8 Batch 250 Loss 3.6934 Accuracy 0.3387\n",
            "Epoch 8 Batch 300 Loss 3.6918 Accuracy 0.3393\n",
            "Epoch 8 Batch 350 Loss 3.6923 Accuracy 0.3396\n",
            "Epoch 8 Batch 400 Loss 3.6911 Accuracy 0.3398\n",
            "Epoch 8 Batch 450 Loss 3.6879 Accuracy 0.3401\n",
            "Epoch 8 Batch 500 Loss 3.6876 Accuracy 0.3402\n",
            "Epoch 8 Batch 550 Loss 3.6893 Accuracy 0.3404\n",
            "Epoch 8 Batch 600 Loss 3.6905 Accuracy 0.3405\n",
            "Epoch 8 Batch 650 Loss 3.6908 Accuracy 0.3403\n",
            "Epoch 8 Batch 700 Loss 3.6900 Accuracy 0.3406\n",
            "Epoch 8 Batch 750 Loss 3.6899 Accuracy 0.3407\n",
            "Epoch 8 Batch 800 Loss 3.6904 Accuracy 0.3408\n",
            "Epoch 8 Loss 3.6907 Accuracy 0.3409\n",
            "Time taken for 1 epoch: 212.59 secs\n",
            "\n",
            "Epoch 9 Batch 0 Loss 3.5332 Accuracy 0.3489\n",
            "Epoch 9 Batch 50 Loss 3.5912 Accuracy 0.3484\n",
            "Epoch 9 Batch 100 Loss 3.5884 Accuracy 0.3501\n",
            "Epoch 9 Batch 150 Loss 3.5904 Accuracy 0.3497\n",
            "Epoch 9 Batch 200 Loss 3.5929 Accuracy 0.3490\n",
            "Epoch 9 Batch 250 Loss 3.5916 Accuracy 0.3497\n",
            "Epoch 9 Batch 300 Loss 3.5926 Accuracy 0.3495\n",
            "Epoch 9 Batch 350 Loss 3.5939 Accuracy 0.3496\n",
            "Epoch 9 Batch 400 Loss 3.5919 Accuracy 0.3501\n",
            "Epoch 9 Batch 450 Loss 3.5917 Accuracy 0.3503\n",
            "Epoch 9 Batch 500 Loss 3.5888 Accuracy 0.3507\n",
            "Epoch 9 Batch 550 Loss 3.5889 Accuracy 0.3509\n",
            "Epoch 9 Batch 600 Loss 3.5898 Accuracy 0.3509\n",
            "Epoch 9 Batch 650 Loss 3.5881 Accuracy 0.3512\n",
            "Epoch 9 Batch 700 Loss 3.5887 Accuracy 0.3513\n",
            "Epoch 9 Batch 750 Loss 3.5903 Accuracy 0.3510\n",
            "Epoch 9 Batch 800 Loss 3.5898 Accuracy 0.3511\n",
            "Epoch 9 Loss 3.5900 Accuracy 0.3510\n",
            "Time taken for 1 epoch: 212.85 secs\n",
            "\n",
            "Epoch 10 Batch 0 Loss 3.5057 Accuracy 0.3500\n",
            "Epoch 10 Batch 50 Loss 3.4794 Accuracy 0.3596\n",
            "Epoch 10 Batch 100 Loss 3.4775 Accuracy 0.3609\n",
            "Epoch 10 Batch 150 Loss 3.4842 Accuracy 0.3614\n",
            "Epoch 10 Batch 200 Loss 3.4834 Accuracy 0.3617\n",
            "Epoch 10 Batch 250 Loss 3.4888 Accuracy 0.3607\n",
            "Epoch 10 Batch 300 Loss 3.4929 Accuracy 0.3604\n",
            "Epoch 10 Batch 350 Loss 3.4945 Accuracy 0.3602\n",
            "Epoch 10 Batch 400 Loss 3.4929 Accuracy 0.3605\n",
            "Epoch 10 Batch 450 Loss 3.4932 Accuracy 0.3604\n",
            "Epoch 10 Batch 500 Loss 3.4963 Accuracy 0.3602\n",
            "Epoch 10 Batch 550 Loss 3.4966 Accuracy 0.3602\n",
            "Epoch 10 Batch 600 Loss 3.4976 Accuracy 0.3601\n",
            "Epoch 10 Batch 650 Loss 3.4980 Accuracy 0.3601\n",
            "Epoch 10 Batch 700 Loss 3.4999 Accuracy 0.3600\n",
            "Epoch 10 Batch 750 Loss 3.4995 Accuracy 0.3601\n",
            "Epoch 10 Batch 800 Loss 3.5006 Accuracy 0.3600\n",
            "Saving checkpoint for epoch 10 at ./checkpoints/train/opposite/ckpt-2\n",
            "Epoch 10 Loss 3.5007 Accuracy 0.3601\n",
            "Time taken for 1 epoch: 213.56 secs\n",
            "\n",
            "Epoch 11 Batch 0 Loss 3.4939 Accuracy 0.3606\n",
            "Epoch 11 Batch 50 Loss 3.4038 Accuracy 0.3669\n",
            "Epoch 11 Batch 100 Loss 3.4068 Accuracy 0.3668\n",
            "Epoch 11 Batch 150 Loss 3.4079 Accuracy 0.3670\n",
            "Epoch 11 Batch 200 Loss 3.4068 Accuracy 0.3680\n",
            "Epoch 11 Batch 250 Loss 3.4084 Accuracy 0.3684\n",
            "Epoch 11 Batch 300 Loss 3.4139 Accuracy 0.3681\n",
            "Epoch 11 Batch 350 Loss 3.4142 Accuracy 0.3681\n",
            "Epoch 11 Batch 400 Loss 3.4174 Accuracy 0.3678\n",
            "Epoch 11 Batch 450 Loss 3.4166 Accuracy 0.3682\n",
            "Epoch 11 Batch 500 Loss 3.4177 Accuracy 0.3682\n",
            "Epoch 11 Batch 550 Loss 3.4185 Accuracy 0.3681\n",
            "Epoch 11 Batch 600 Loss 3.4212 Accuracy 0.3679\n",
            "Epoch 11 Batch 650 Loss 3.4195 Accuracy 0.3682\n",
            "Epoch 11 Batch 700 Loss 3.4195 Accuracy 0.3682\n",
            "Epoch 11 Batch 750 Loss 3.4202 Accuracy 0.3680\n",
            "Epoch 11 Batch 800 Loss 3.4212 Accuracy 0.3680\n",
            "Epoch 11 Loss 3.4211 Accuracy 0.3680\n",
            "Time taken for 1 epoch: 213.43 secs\n",
            "\n",
            "Epoch 12 Batch 0 Loss 3.3765 Accuracy 0.3567\n",
            "Epoch 12 Batch 50 Loss 3.2959 Accuracy 0.3780\n",
            "Epoch 12 Batch 100 Loss 3.3088 Accuracy 0.3775\n",
            "Epoch 12 Batch 150 Loss 3.3150 Accuracy 0.3771\n",
            "Epoch 12 Batch 200 Loss 3.3252 Accuracy 0.3765\n",
            "Epoch 12 Batch 250 Loss 3.3307 Accuracy 0.3764\n",
            "Epoch 12 Batch 300 Loss 3.3318 Accuracy 0.3765\n",
            "Epoch 12 Batch 350 Loss 3.3366 Accuracy 0.3764\n",
            "Epoch 12 Batch 400 Loss 3.3358 Accuracy 0.3764\n",
            "Epoch 12 Batch 450 Loss 3.3362 Accuracy 0.3762\n",
            "Epoch 12 Batch 500 Loss 3.3384 Accuracy 0.3761\n",
            "Epoch 12 Batch 550 Loss 3.3398 Accuracy 0.3759\n",
            "Epoch 12 Batch 600 Loss 3.3406 Accuracy 0.3761\n",
            "Epoch 12 Batch 650 Loss 3.3426 Accuracy 0.3760\n",
            "Epoch 12 Batch 700 Loss 3.3436 Accuracy 0.3758\n",
            "Epoch 12 Batch 750 Loss 3.3456 Accuracy 0.3757\n",
            "Epoch 12 Batch 800 Loss 3.3475 Accuracy 0.3755\n",
            "Epoch 12 Loss 3.3480 Accuracy 0.3754\n",
            "Time taken for 1 epoch: 212.99 secs\n",
            "\n",
            "Epoch 13 Batch 0 Loss 3.4774 Accuracy 0.3437\n",
            "Epoch 13 Batch 50 Loss 3.2374 Accuracy 0.3855\n",
            "Epoch 13 Batch 100 Loss 3.2584 Accuracy 0.3829\n",
            "Epoch 13 Batch 150 Loss 3.2555 Accuracy 0.3834\n",
            "Epoch 13 Batch 200 Loss 3.2556 Accuracy 0.3842\n",
            "Epoch 13 Batch 250 Loss 3.2550 Accuracy 0.3844\n",
            "Epoch 13 Batch 300 Loss 3.2600 Accuracy 0.3837\n",
            "Epoch 13 Batch 350 Loss 3.2625 Accuracy 0.3833\n",
            "Epoch 13 Batch 400 Loss 3.2650 Accuracy 0.3831\n",
            "Epoch 13 Batch 450 Loss 3.2632 Accuracy 0.3838\n",
            "Epoch 13 Batch 500 Loss 3.2652 Accuracy 0.3839\n",
            "Epoch 13 Batch 550 Loss 3.2653 Accuracy 0.3839\n",
            "Epoch 13 Batch 600 Loss 3.2680 Accuracy 0.3835\n",
            "Epoch 13 Batch 650 Loss 3.2688 Accuracy 0.3834\n",
            "Epoch 13 Batch 700 Loss 3.2719 Accuracy 0.3832\n",
            "Epoch 13 Batch 750 Loss 3.2750 Accuracy 0.3829\n",
            "Epoch 13 Batch 800 Loss 3.2789 Accuracy 0.3826\n",
            "Epoch 13 Loss 3.2791 Accuracy 0.3826\n",
            "Time taken for 1 epoch: 211.84 secs\n",
            "\n",
            "Epoch 14 Batch 0 Loss 3.1767 Accuracy 0.3915\n",
            "Epoch 14 Batch 50 Loss 3.1830 Accuracy 0.3907\n",
            "Epoch 14 Batch 100 Loss 3.1820 Accuracy 0.3914\n",
            "Epoch 14 Batch 150 Loss 3.1921 Accuracy 0.3906\n",
            "Epoch 14 Batch 200 Loss 3.1980 Accuracy 0.3904\n",
            "Epoch 14 Batch 250 Loss 3.2042 Accuracy 0.3896\n",
            "Epoch 14 Batch 300 Loss 3.2020 Accuracy 0.3898\n",
            "Epoch 14 Batch 350 Loss 3.2014 Accuracy 0.3902\n",
            "Epoch 14 Batch 400 Loss 3.2042 Accuracy 0.3900\n",
            "Epoch 14 Batch 450 Loss 3.2029 Accuracy 0.3903\n",
            "Epoch 14 Batch 500 Loss 3.2046 Accuracy 0.3901\n",
            "Epoch 14 Batch 550 Loss 3.2065 Accuracy 0.3898\n",
            "Epoch 14 Batch 600 Loss 3.2086 Accuracy 0.3896\n",
            "Epoch 14 Batch 650 Loss 3.2122 Accuracy 0.3893\n",
            "Epoch 14 Batch 700 Loss 3.2125 Accuracy 0.3893\n",
            "Epoch 14 Batch 750 Loss 3.2155 Accuracy 0.3890\n",
            "Epoch 14 Batch 800 Loss 3.2170 Accuracy 0.3890\n",
            "Epoch 14 Loss 3.2171 Accuracy 0.3890\n",
            "Time taken for 1 epoch: 213.21 secs\n",
            "\n",
            "Epoch 15 Batch 0 Loss 3.1344 Accuracy 0.4016\n",
            "Epoch 15 Batch 50 Loss 3.1192 Accuracy 0.3987\n",
            "Epoch 15 Batch 100 Loss 3.1266 Accuracy 0.3986\n",
            "Epoch 15 Batch 150 Loss 3.1332 Accuracy 0.3978\n",
            "Epoch 15 Batch 200 Loss 3.1374 Accuracy 0.3965\n",
            "Epoch 15 Batch 250 Loss 3.1414 Accuracy 0.3958\n",
            "Epoch 15 Batch 300 Loss 3.1419 Accuracy 0.3958\n",
            "Epoch 15 Batch 350 Loss 3.1414 Accuracy 0.3961\n",
            "Epoch 15 Batch 400 Loss 3.1466 Accuracy 0.3954\n",
            "Epoch 15 Batch 450 Loss 3.1484 Accuracy 0.3954\n",
            "Epoch 15 Batch 500 Loss 3.1480 Accuracy 0.3957\n",
            "Epoch 15 Batch 550 Loss 3.1499 Accuracy 0.3956\n",
            "Epoch 15 Batch 600 Loss 3.1525 Accuracy 0.3953\n",
            "Epoch 15 Batch 650 Loss 3.1560 Accuracy 0.3950\n",
            "Epoch 15 Batch 700 Loss 3.1567 Accuracy 0.3950\n",
            "Epoch 15 Batch 750 Loss 3.1599 Accuracy 0.3949\n",
            "Epoch 15 Batch 800 Loss 3.1610 Accuracy 0.3949\n",
            "Saving checkpoint for epoch 15 at ./checkpoints/train/opposite/ckpt-3\n",
            "Epoch 15 Loss 3.1613 Accuracy 0.3950\n",
            "Time taken for 1 epoch: 214.47 secs\n",
            "\n",
            "Epoch 16 Batch 0 Loss 2.9969 Accuracy 0.4255\n",
            "Epoch 16 Batch 50 Loss 3.0722 Accuracy 0.4015\n",
            "Epoch 16 Batch 100 Loss 3.0670 Accuracy 0.4042\n",
            "Epoch 16 Batch 150 Loss 3.0664 Accuracy 0.4046\n",
            "Epoch 16 Batch 200 Loss 3.0725 Accuracy 0.4039\n",
            "Epoch 16 Batch 250 Loss 3.0786 Accuracy 0.4035\n",
            "Epoch 16 Batch 300 Loss 3.0807 Accuracy 0.4031\n",
            "Epoch 16 Batch 350 Loss 3.0822 Accuracy 0.4028\n",
            "Epoch 16 Batch 400 Loss 3.0882 Accuracy 0.4022\n",
            "Epoch 16 Batch 450 Loss 3.0900 Accuracy 0.4019\n",
            "Epoch 16 Batch 500 Loss 3.0922 Accuracy 0.4018\n",
            "Epoch 16 Batch 550 Loss 3.0922 Accuracy 0.4021\n",
            "Epoch 16 Batch 600 Loss 3.0962 Accuracy 0.4015\n",
            "Epoch 16 Batch 650 Loss 3.0991 Accuracy 0.4013\n",
            "Epoch 16 Batch 700 Loss 3.1019 Accuracy 0.4010\n",
            "Epoch 16 Batch 750 Loss 3.1037 Accuracy 0.4008\n",
            "Epoch 16 Batch 800 Loss 3.1060 Accuracy 0.4006\n",
            "Epoch 16 Loss 3.1055 Accuracy 0.4007\n",
            "Time taken for 1 epoch: 213.44 secs\n",
            "\n",
            "Epoch 17 Batch 0 Loss 2.9793 Accuracy 0.4020\n",
            "Epoch 17 Batch 50 Loss 3.0167 Accuracy 0.4091\n",
            "Epoch 17 Batch 100 Loss 3.0254 Accuracy 0.4072\n",
            "Epoch 17 Batch 150 Loss 3.0304 Accuracy 0.4069\n",
            "Epoch 17 Batch 200 Loss 3.0332 Accuracy 0.4071\n",
            "Epoch 17 Batch 250 Loss 3.0320 Accuracy 0.4081\n",
            "Epoch 17 Batch 300 Loss 3.0328 Accuracy 0.4080\n",
            "Epoch 17 Batch 350 Loss 3.0374 Accuracy 0.4075\n",
            "Epoch 17 Batch 400 Loss 3.0386 Accuracy 0.4074\n",
            "Epoch 17 Batch 450 Loss 3.0427 Accuracy 0.4069\n",
            "Epoch 17 Batch 500 Loss 3.0458 Accuracy 0.4067\n",
            "Epoch 17 Batch 550 Loss 3.0459 Accuracy 0.4070\n",
            "Epoch 17 Batch 600 Loss 3.0506 Accuracy 0.4066\n",
            "Epoch 17 Batch 650 Loss 3.0534 Accuracy 0.4065\n",
            "Epoch 17 Batch 700 Loss 3.0544 Accuracy 0.4064\n",
            "Epoch 17 Batch 750 Loss 3.0541 Accuracy 0.4066\n",
            "Epoch 17 Batch 800 Loss 3.0564 Accuracy 0.4063\n",
            "Epoch 17 Loss 3.0565 Accuracy 0.4064\n",
            "Time taken for 1 epoch: 212.79 secs\n",
            "\n",
            "Epoch 18 Batch 0 Loss 3.0636 Accuracy 0.3934\n",
            "Epoch 18 Batch 50 Loss 2.9596 Accuracy 0.4145\n",
            "Epoch 18 Batch 100 Loss 2.9751 Accuracy 0.4131\n",
            "Epoch 18 Batch 150 Loss 2.9852 Accuracy 0.4123\n",
            "Epoch 18 Batch 200 Loss 2.9851 Accuracy 0.4125\n",
            "Epoch 18 Batch 250 Loss 2.9840 Accuracy 0.4131\n",
            "Epoch 18 Batch 300 Loss 2.9845 Accuracy 0.4136\n",
            "Epoch 18 Batch 350 Loss 2.9870 Accuracy 0.4132\n",
            "Epoch 18 Batch 400 Loss 2.9907 Accuracy 0.4131\n",
            "Epoch 18 Batch 450 Loss 2.9936 Accuracy 0.4129\n",
            "Epoch 18 Batch 500 Loss 2.9958 Accuracy 0.4127\n",
            "Epoch 18 Batch 550 Loss 2.9954 Accuracy 0.4126\n",
            "Epoch 18 Batch 600 Loss 2.9980 Accuracy 0.4126\n",
            "Epoch 18 Batch 650 Loss 3.0005 Accuracy 0.4125\n",
            "Epoch 18 Batch 700 Loss 3.0043 Accuracy 0.4120\n",
            "Epoch 18 Batch 750 Loss 3.0076 Accuracy 0.4117\n",
            "Epoch 18 Batch 800 Loss 3.0108 Accuracy 0.4113\n",
            "Epoch 18 Loss 3.0110 Accuracy 0.4112\n",
            "Time taken for 1 epoch: 212.75 secs\n",
            "\n",
            "Epoch 19 Batch 0 Loss 2.7610 Accuracy 0.4654\n",
            "Epoch 19 Batch 50 Loss 2.8893 Accuracy 0.4234\n",
            "Epoch 19 Batch 100 Loss 2.9172 Accuracy 0.4202\n",
            "Epoch 19 Batch 150 Loss 2.9295 Accuracy 0.4188\n",
            "Epoch 19 Batch 200 Loss 2.9334 Accuracy 0.4186\n",
            "Epoch 19 Batch 250 Loss 2.9314 Accuracy 0.4190\n",
            "Epoch 19 Batch 300 Loss 2.9357 Accuracy 0.4187\n",
            "Epoch 19 Batch 350 Loss 2.9399 Accuracy 0.4182\n",
            "Epoch 19 Batch 400 Loss 2.9432 Accuracy 0.4176\n",
            "Epoch 19 Batch 450 Loss 2.9521 Accuracy 0.4167\n",
            "Epoch 19 Batch 500 Loss 2.9537 Accuracy 0.4167\n",
            "Epoch 19 Batch 550 Loss 2.9567 Accuracy 0.4164\n",
            "Epoch 19 Batch 600 Loss 2.9599 Accuracy 0.4160\n",
            "Epoch 19 Batch 650 Loss 2.9624 Accuracy 0.4158\n",
            "Epoch 19 Batch 700 Loss 2.9627 Accuracy 0.4159\n",
            "Epoch 19 Batch 750 Loss 2.9657 Accuracy 0.4156\n",
            "Epoch 19 Batch 800 Loss 2.9678 Accuracy 0.4155\n",
            "Epoch 19 Loss 2.9685 Accuracy 0.4155\n",
            "Time taken for 1 epoch: 213.56 secs\n",
            "\n",
            "Epoch 20 Batch 0 Loss 3.0205 Accuracy 0.4052\n",
            "Epoch 20 Batch 50 Loss 2.8852 Accuracy 0.4250\n",
            "Epoch 20 Batch 100 Loss 2.8880 Accuracy 0.4247\n",
            "Epoch 20 Batch 150 Loss 2.8930 Accuracy 0.4230\n",
            "Epoch 20 Batch 200 Loss 2.8894 Accuracy 0.4236\n",
            "Epoch 20 Batch 250 Loss 2.8954 Accuracy 0.4235\n",
            "Epoch 20 Batch 300 Loss 2.9014 Accuracy 0.4223\n",
            "Epoch 20 Batch 350 Loss 2.9011 Accuracy 0.4226\n",
            "Epoch 20 Batch 400 Loss 2.9020 Accuracy 0.4228\n",
            "Epoch 20 Batch 450 Loss 2.9026 Accuracy 0.4229\n",
            "Epoch 20 Batch 500 Loss 2.9063 Accuracy 0.4228\n",
            "Epoch 20 Batch 550 Loss 2.9122 Accuracy 0.4220\n",
            "Epoch 20 Batch 600 Loss 2.9159 Accuracy 0.4216\n",
            "Epoch 20 Batch 650 Loss 2.9179 Accuracy 0.4216\n",
            "Epoch 20 Batch 700 Loss 2.9201 Accuracy 0.4214\n",
            "Epoch 20 Batch 750 Loss 2.9227 Accuracy 0.4210\n",
            "Epoch 20 Batch 800 Loss 2.9266 Accuracy 0.4205\n",
            "Saving checkpoint for epoch 20 at ./checkpoints/train/opposite/ckpt-4\n",
            "Epoch 20 Loss 2.9271 Accuracy 0.4205\n",
            "Time taken for 1 epoch: 215.16 secs\n",
            "\n"
          ]
        }
      ]
    },
    {
      "cell_type": "code",
      "metadata": {
        "id": "-NcUFGBjPL_-"
      },
      "source": [
        "class Translator_ep(tf.Module):\n",
        "  def __init__(self, tokenizers, transformer):\n",
        "    self.tokenizers = tokenizers\n",
        "    self.transformer = transformer\n",
        "\n",
        "  def __call__(self, sentence, max_length=20):\n",
        "    # input sentence is english, hence adding the start and end token\n",
        "    assert isinstance(sentence, tf.Tensor)\n",
        "    if len(sentence.shape) == 0:\n",
        "      sentence = sentence[tf.newaxis]\n",
        "\n",
        "    sentence = self.tokenizers.en.tokenize(sentence).to_tensor()\n",
        "    \n",
        "    encoder_input = sentence\n",
        "\n",
        "    # as the target is portuguese, the first token to the transformer should be the\n",
        "    # english start token.\n",
        "    start_end = self.tokenizers.pt.tokenize([''])[0]\n",
        "    start = start_end[0][tf.newaxis]\n",
        "    end = start_end[1][tf.newaxis]\n",
        "\n",
        "    # `tf.TensorArray` is required here (instead of a python list) so that the\n",
        "    # dynamic-loop can be traced by `tf.function`.\n",
        "    output_array = tf.TensorArray(dtype=tf.int64, size=0, dynamic_size=True)\n",
        "    output_array = output_array.write(0, start)\n",
        "    \n",
        "    for i in tf.range(max_length):\n",
        "      output = tf.transpose(output_array.stack())\n",
        "      predictions, _ = self.transformer([encoder_input, output], training=False)\n",
        "      \n",
        "      # select the last token from the seq_len dimension\n",
        "      predictions = predictions[:, -1:, :]  # (batch_size, 1, vocab_size)\n",
        "\n",
        "      predicted_id = tf.argmax(predictions, axis=-1)\n",
        "\n",
        "      # concatentate the predicted_id to the output which is given to the decoder\n",
        "      # as its input.\n",
        "      output_array = output_array.write(i+1, predicted_id[0])\n",
        "\n",
        "      if predicted_id == end:\n",
        "        break\n",
        "\n",
        "    output = tf.transpose(output_array.stack())\n",
        "    # output.shape (1, tokens)\n",
        "    text = tokenizers.pt.detokenize(output)[0]  # shape: ()\n",
        "\n",
        "    tokens = tokenizers.pt.lookup(output)[0]\n",
        "\n",
        "    # `tf.function` prevents us from using the attention_weights that were\n",
        "    # calculated on the last iteration of the loop. So recalculate them outside\n",
        "    # the loop.\n",
        "    _, attention_weights = self.transformer([encoder_input, output[:,:-1]], training=False)\n",
        "\n",
        "    return text, tokens, attention_weights"
      ],
      "execution_count": 84,
      "outputs": []
    },
    {
      "cell_type": "code",
      "metadata": {
        "id": "guLjxfOHiR6G"
      },
      "source": [
        "translator_ep = Translator_ep(tokenizers, transformer_ep)"
      ],
      "execution_count": 85,
      "outputs": []
    },
    {
      "cell_type": "markdown",
      "metadata": {
        "id": "U8OiV5M5ko3-"
      },
      "source": [
        "### Experimenting with english to portugese model "
      ]
    },
    {
      "cell_type": "markdown",
      "metadata": {
        "id": "PpcLSPDakzbv"
      },
      "source": [
        "#### Sentence 1"
      ]
    },
    {
      "cell_type": "code",
      "metadata": {
        "id": "_XIxQ2z0is3p",
        "colab": {
          "base_uri": "https://localhost:8080/"
        },
        "outputId": "0e71f2ec-5452-40aa-dde9-ad016c3e37c1"
      },
      "source": [
        "portugal_truth = \"este é o primeiro livro que eu fiz.\"\n",
        "english = \"this is the first book i've ever done.\"\n",
        "\n",
        "translated_text, translated_tokens, attention_weights = translator_ep(\n",
        "    tf.constant(english))\n",
        "prediction_portugal = translated_text.numpy().decode(\"utf-8\")\n",
        "print(prediction_portugal)"
      ],
      "execution_count": 86,
      "outputs": [
        {
          "output_type": "stream",
          "name": "stdout",
          "text": [
            "f ' meu tudo “ mas problema solucoes sentem -\n"
          ]
        }
      ]
    },
    {
      "cell_type": "code",
      "metadata": {
        "id": "1qp_fHDYj5sR",
        "colab": {
          "base_uri": "https://localhost:8080/"
        },
        "outputId": "b636e578-2cc6-451c-8c7e-1d53584867ba"
      },
      "source": [
        "prediction_english = reloaded(prediction_portugal).numpy()\n",
        "print(prediction_english)"
      ],
      "execution_count": 100,
      "outputs": [
        {
          "output_type": "stream",
          "name": "stdout",
          "text": [
            "b'my whole but problem shapes is all about a sudden .'\n"
          ]
        }
      ]
    },
    {
      "cell_type": "markdown",
      "metadata": {
        "id": "jzJ7EzHDk29G"
      },
      "source": [
        "#### Sentence 2"
      ]
    },
    {
      "cell_type": "code",
      "metadata": {
        "id": "TA-0xuhFk8ec",
        "colab": {
          "base_uri": "https://localhost:8080/"
        },
        "outputId": "75f5476e-8211-480c-fea5-d911ac0f196f"
      },
      "source": [
        "portugal_truth = \"os meus vizinhos ouviram sobre esta ideia.\"\n",
        "english =  \"and my neighboring homes heard about this idea .\"\n",
        "\n",
        "translated_text, translated_tokens, attention_weights = translator_ep(\n",
        "    tf.constant(english))\n",
        "prediction_portugal = translated_text.numpy().decode(\"utf-8\")\n",
        "print(prediction_portugal)"
      ],
      "execution_count": 101,
      "outputs": [
        {
          "output_type": "stream",
          "name": "stdout",
          "text": [
            "mas sido da nos como amanha do mas problema terem especificamente -\n"
          ]
        }
      ]
    },
    {
      "cell_type": "code",
      "metadata": {
        "id": "I5Ce6vOZlBQ2",
        "colab": {
          "base_uri": "https://localhost:8080/"
        },
        "outputId": "1a54ffc1-1ca3-42df-828b-d17d2a4282d1"
      },
      "source": [
        "prediction_english = reloaded(prediction_portugal).numpy()\n",
        "print(prediction_english)"
      ],
      "execution_count": 102,
      "outputs": [
        {
          "output_type": "stream",
          "name": "stdout",
          "text": [
            "b'but it was about us as tomorrow but to have specifically to do specifically .'\n"
          ]
        }
      ]
    },
    {
      "cell_type": "markdown",
      "metadata": {
        "id": "YKsNHTZslfvE"
      },
      "source": [
        "COMMENTS: \n",
        "\n",
        "The results are not good because I've only trained this on 20 epoches. The training time for one epoch was approximately 230 seconds. So for 40 epoch (10 of portugal to english and 10 of english to portugal). So total 40*230= ~ 2.5 hours. \n",
        "\n",
        "Also the accuracy achieved for english to portuguse was only 42% which didn't give good results."
      ]
    }
  ]
}