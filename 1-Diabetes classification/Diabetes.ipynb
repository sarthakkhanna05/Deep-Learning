{
 "cells": [
  {
   "cell_type": "code",
   "execution_count": 34,
   "metadata": {
    "scrolled": true
   },
   "outputs": [],
   "source": [
    "import pandas as pd\n",
    "import numpy as np\n",
    "import tensorflow as tf\n",
    "from sklearn.model_selection import train_test_split\n",
    "from sklearn.metrics import accuracy_score"
   ]
  },
  {
   "cell_type": "markdown",
   "metadata": {},
   "source": [
    "### 1. Loading the dataset"
   ]
  },
  {
   "cell_type": "code",
   "execution_count": 35,
   "metadata": {},
   "outputs": [],
   "source": [
    "df=pd.read_csv(\"diabetes.csv\", header = None)"
   ]
  },
  {
   "cell_type": "code",
   "execution_count": 36,
   "metadata": {
    "scrolled": true
   },
   "outputs": [
    {
     "data": {
      "text/html": [
       "<div>\n",
       "<style scoped>\n",
       "    .dataframe tbody tr th:only-of-type {\n",
       "        vertical-align: middle;\n",
       "    }\n",
       "\n",
       "    .dataframe tbody tr th {\n",
       "        vertical-align: top;\n",
       "    }\n",
       "\n",
       "    .dataframe thead th {\n",
       "        text-align: right;\n",
       "    }\n",
       "</style>\n",
       "<table border=\"1\" class=\"dataframe\">\n",
       "  <thead>\n",
       "    <tr style=\"text-align: right;\">\n",
       "      <th></th>\n",
       "      <th>0</th>\n",
       "      <th>1</th>\n",
       "      <th>2</th>\n",
       "      <th>3</th>\n",
       "      <th>4</th>\n",
       "      <th>5</th>\n",
       "      <th>6</th>\n",
       "      <th>7</th>\n",
       "      <th>8</th>\n",
       "    </tr>\n",
       "  </thead>\n",
       "  <tbody>\n",
       "    <tr>\n",
       "      <th>0</th>\n",
       "      <td>-0.294118</td>\n",
       "      <td>0.487437</td>\n",
       "      <td>0.180328</td>\n",
       "      <td>-0.292929</td>\n",
       "      <td>0.000000</td>\n",
       "      <td>0.001490</td>\n",
       "      <td>-0.531170</td>\n",
       "      <td>-0.033333</td>\n",
       "      <td>0</td>\n",
       "    </tr>\n",
       "    <tr>\n",
       "      <th>1</th>\n",
       "      <td>-0.882353</td>\n",
       "      <td>-0.145729</td>\n",
       "      <td>0.081967</td>\n",
       "      <td>-0.414141</td>\n",
       "      <td>0.000000</td>\n",
       "      <td>-0.207153</td>\n",
       "      <td>-0.766866</td>\n",
       "      <td>-0.666667</td>\n",
       "      <td>1</td>\n",
       "    </tr>\n",
       "    <tr>\n",
       "      <th>2</th>\n",
       "      <td>-0.058824</td>\n",
       "      <td>0.839196</td>\n",
       "      <td>0.049180</td>\n",
       "      <td>0.000000</td>\n",
       "      <td>0.000000</td>\n",
       "      <td>-0.305514</td>\n",
       "      <td>-0.492741</td>\n",
       "      <td>-0.633333</td>\n",
       "      <td>0</td>\n",
       "    </tr>\n",
       "    <tr>\n",
       "      <th>3</th>\n",
       "      <td>-0.882353</td>\n",
       "      <td>-0.105528</td>\n",
       "      <td>0.081967</td>\n",
       "      <td>-0.535354</td>\n",
       "      <td>-0.777778</td>\n",
       "      <td>-0.162444</td>\n",
       "      <td>-0.923997</td>\n",
       "      <td>0.000000</td>\n",
       "      <td>1</td>\n",
       "    </tr>\n",
       "    <tr>\n",
       "      <th>4</th>\n",
       "      <td>0.000000</td>\n",
       "      <td>0.376884</td>\n",
       "      <td>-0.344262</td>\n",
       "      <td>-0.292929</td>\n",
       "      <td>-0.602837</td>\n",
       "      <td>0.284650</td>\n",
       "      <td>0.887276</td>\n",
       "      <td>-0.600000</td>\n",
       "      <td>0</td>\n",
       "    </tr>\n",
       "  </tbody>\n",
       "</table>\n",
       "</div>"
      ],
      "text/plain": [
       "          0         1         2         3         4         5         6  \\\n",
       "0 -0.294118  0.487437  0.180328 -0.292929  0.000000  0.001490 -0.531170   \n",
       "1 -0.882353 -0.145729  0.081967 -0.414141  0.000000 -0.207153 -0.766866   \n",
       "2 -0.058824  0.839196  0.049180  0.000000  0.000000 -0.305514 -0.492741   \n",
       "3 -0.882353 -0.105528  0.081967 -0.535354 -0.777778 -0.162444 -0.923997   \n",
       "4  0.000000  0.376884 -0.344262 -0.292929 -0.602837  0.284650  0.887276   \n",
       "\n",
       "          7  8  \n",
       "0 -0.033333  0  \n",
       "1 -0.666667  1  \n",
       "2 -0.633333  0  \n",
       "3  0.000000  1  \n",
       "4 -0.600000  0  "
      ]
     },
     "execution_count": 36,
     "metadata": {},
     "output_type": "execute_result"
    }
   ],
   "source": [
    "df.head()"
   ]
  },
  {
   "cell_type": "code",
   "execution_count": 37,
   "metadata": {},
   "outputs": [
    {
     "data": {
      "text/plain": [
       "(759, 9)"
      ]
     },
     "execution_count": 37,
     "metadata": {},
     "output_type": "execute_result"
    }
   ],
   "source": [
    "df.shape"
   ]
  },
  {
   "cell_type": "markdown",
   "metadata": {},
   "source": [
    "The table has no missing values which means we can move forward with visualization and modelling"
   ]
  },
  {
   "cell_type": "markdown",
   "metadata": {},
   "source": [
    "### 2. Preprocess the data as you see fit"
   ]
  },
  {
   "cell_type": "markdown",
   "metadata": {},
   "source": [
    "#### 2.1 Checking for missing values "
   ]
  },
  {
   "cell_type": "code",
   "execution_count": 38,
   "metadata": {
    "scrolled": false
   },
   "outputs": [
    {
     "data": {
      "text/plain": [
       "0    0\n",
       "1    0\n",
       "2    0\n",
       "3    0\n",
       "4    0\n",
       "5    0\n",
       "6    0\n",
       "7    0\n",
       "8    0\n",
       "dtype: int64"
      ]
     },
     "execution_count": 38,
     "metadata": {},
     "output_type": "execute_result"
    }
   ],
   "source": [
    "df.isna().sum()"
   ]
  },
  {
   "cell_type": "markdown",
   "metadata": {},
   "source": [
    "No Missing values"
   ]
  },
  {
   "cell_type": "markdown",
   "metadata": {},
   "source": [
    "#### 2.2 To check if the values are Normalized"
   ]
  },
  {
   "cell_type": "code",
   "execution_count": 39,
   "metadata": {
    "scrolled": true
   },
   "outputs": [
    {
     "data": {
      "text/plain": [
       "-0.994876"
      ]
     },
     "execution_count": 39,
     "metadata": {},
     "output_type": "execute_result"
    }
   ],
   "source": [
    "min(df.iloc[:,:-1].min())"
   ]
  },
  {
   "cell_type": "code",
   "execution_count": 40,
   "metadata": {
    "scrolled": true
   },
   "outputs": [
    {
     "data": {
      "text/plain": [
       "1.0"
      ]
     },
     "execution_count": 40,
     "metadata": {},
     "output_type": "execute_result"
    }
   ],
   "source": [
    "max(df.iloc[:,:-1].max())"
   ]
  },
  {
   "cell_type": "markdown",
   "metadata": {},
   "source": [
    "Data already Scaled "
   ]
  },
  {
   "cell_type": "markdown",
   "metadata": {},
   "source": [
    "#### 2.3 Duplicate values"
   ]
  },
  {
   "cell_type": "code",
   "execution_count": 41,
   "metadata": {},
   "outputs": [
    {
     "data": {
      "text/html": [
       "<div>\n",
       "<style scoped>\n",
       "    .dataframe tbody tr th:only-of-type {\n",
       "        vertical-align: middle;\n",
       "    }\n",
       "\n",
       "    .dataframe tbody tr th {\n",
       "        vertical-align: top;\n",
       "    }\n",
       "\n",
       "    .dataframe thead th {\n",
       "        text-align: right;\n",
       "    }\n",
       "</style>\n",
       "<table border=\"1\" class=\"dataframe\">\n",
       "  <thead>\n",
       "    <tr style=\"text-align: right;\">\n",
       "      <th></th>\n",
       "      <th>0</th>\n",
       "      <th>1</th>\n",
       "      <th>2</th>\n",
       "      <th>3</th>\n",
       "      <th>4</th>\n",
       "      <th>5</th>\n",
       "      <th>6</th>\n",
       "      <th>7</th>\n",
       "      <th>8</th>\n",
       "    </tr>\n",
       "  </thead>\n",
       "  <tbody>\n",
       "  </tbody>\n",
       "</table>\n",
       "</div>"
      ],
      "text/plain": [
       "Empty DataFrame\n",
       "Columns: [0, 1, 2, 3, 4, 5, 6, 7, 8]\n",
       "Index: []"
      ]
     },
     "execution_count": 41,
     "metadata": {},
     "output_type": "execute_result"
    }
   ],
   "source": [
    "duplicate = df[df.duplicated()]\n",
    "duplicate"
   ]
  },
  {
   "cell_type": "markdown",
   "metadata": {},
   "source": [
    "Since the values are already normalized, has no missing and duplicate values, we don't need to pre-process it. "
   ]
  },
  {
   "cell_type": "markdown",
   "metadata": {},
   "source": [
    "#### 2.3 Renaming label column"
   ]
  },
  {
   "cell_type": "code",
   "execution_count": 42,
   "metadata": {},
   "outputs": [
    {
     "data": {
      "text/html": [
       "<div>\n",
       "<style scoped>\n",
       "    .dataframe tbody tr th:only-of-type {\n",
       "        vertical-align: middle;\n",
       "    }\n",
       "\n",
       "    .dataframe tbody tr th {\n",
       "        vertical-align: top;\n",
       "    }\n",
       "\n",
       "    .dataframe thead th {\n",
       "        text-align: right;\n",
       "    }\n",
       "</style>\n",
       "<table border=\"1\" class=\"dataframe\">\n",
       "  <thead>\n",
       "    <tr style=\"text-align: right;\">\n",
       "      <th></th>\n",
       "      <th>0</th>\n",
       "      <th>1</th>\n",
       "      <th>2</th>\n",
       "      <th>3</th>\n",
       "      <th>4</th>\n",
       "      <th>5</th>\n",
       "      <th>6</th>\n",
       "      <th>7</th>\n",
       "      <th>label</th>\n",
       "    </tr>\n",
       "  </thead>\n",
       "  <tbody>\n",
       "    <tr>\n",
       "      <th>0</th>\n",
       "      <td>-0.294118</td>\n",
       "      <td>0.487437</td>\n",
       "      <td>0.180328</td>\n",
       "      <td>-0.292929</td>\n",
       "      <td>0.000000</td>\n",
       "      <td>0.001490</td>\n",
       "      <td>-0.531170</td>\n",
       "      <td>-0.033333</td>\n",
       "      <td>0</td>\n",
       "    </tr>\n",
       "    <tr>\n",
       "      <th>1</th>\n",
       "      <td>-0.882353</td>\n",
       "      <td>-0.145729</td>\n",
       "      <td>0.081967</td>\n",
       "      <td>-0.414141</td>\n",
       "      <td>0.000000</td>\n",
       "      <td>-0.207153</td>\n",
       "      <td>-0.766866</td>\n",
       "      <td>-0.666667</td>\n",
       "      <td>1</td>\n",
       "    </tr>\n",
       "    <tr>\n",
       "      <th>2</th>\n",
       "      <td>-0.058824</td>\n",
       "      <td>0.839196</td>\n",
       "      <td>0.049180</td>\n",
       "      <td>0.000000</td>\n",
       "      <td>0.000000</td>\n",
       "      <td>-0.305514</td>\n",
       "      <td>-0.492741</td>\n",
       "      <td>-0.633333</td>\n",
       "      <td>0</td>\n",
       "    </tr>\n",
       "    <tr>\n",
       "      <th>3</th>\n",
       "      <td>-0.882353</td>\n",
       "      <td>-0.105528</td>\n",
       "      <td>0.081967</td>\n",
       "      <td>-0.535354</td>\n",
       "      <td>-0.777778</td>\n",
       "      <td>-0.162444</td>\n",
       "      <td>-0.923997</td>\n",
       "      <td>0.000000</td>\n",
       "      <td>1</td>\n",
       "    </tr>\n",
       "    <tr>\n",
       "      <th>4</th>\n",
       "      <td>0.000000</td>\n",
       "      <td>0.376884</td>\n",
       "      <td>-0.344262</td>\n",
       "      <td>-0.292929</td>\n",
       "      <td>-0.602837</td>\n",
       "      <td>0.284650</td>\n",
       "      <td>0.887276</td>\n",
       "      <td>-0.600000</td>\n",
       "      <td>0</td>\n",
       "    </tr>\n",
       "  </tbody>\n",
       "</table>\n",
       "</div>"
      ],
      "text/plain": [
       "          0         1         2         3         4         5         6  \\\n",
       "0 -0.294118  0.487437  0.180328 -0.292929  0.000000  0.001490 -0.531170   \n",
       "1 -0.882353 -0.145729  0.081967 -0.414141  0.000000 -0.207153 -0.766866   \n",
       "2 -0.058824  0.839196  0.049180  0.000000  0.000000 -0.305514 -0.492741   \n",
       "3 -0.882353 -0.105528  0.081967 -0.535354 -0.777778 -0.162444 -0.923997   \n",
       "4  0.000000  0.376884 -0.344262 -0.292929 -0.602837  0.284650  0.887276   \n",
       "\n",
       "          7  label  \n",
       "0 -0.033333      0  \n",
       "1 -0.666667      1  \n",
       "2 -0.633333      0  \n",
       "3  0.000000      1  \n",
       "4 -0.600000      0  "
      ]
     },
     "execution_count": 42,
     "metadata": {},
     "output_type": "execute_result"
    }
   ],
   "source": [
    "df=df.rename(columns={8: \"label\"})\n",
    "df.head()"
   ]
  },
  {
   "cell_type": "markdown",
   "metadata": {},
   "source": [
    "### 3. Split into 80% train 20% test"
   ]
  },
  {
   "cell_type": "code",
   "execution_count": 43,
   "metadata": {},
   "outputs": [],
   "source": [
    "x=df.iloc[:,:-1]\n",
    "y=df.iloc[:,-1]\n",
    "x_train, x_test, y_train, y_test = train_test_split(x, y, test_size=0.2, random_state=0)"
   ]
  },
  {
   "cell_type": "markdown",
   "metadata": {},
   "source": [
    "### 4. Modify the model shown in the demo to take the new data"
   ]
  },
  {
   "cell_type": "code",
   "execution_count": 44,
   "metadata": {},
   "outputs": [],
   "source": [
    "model = tf.keras.Sequential([tf.keras.layers.Dense(16, input_shape= [8,]),\n",
    "                                    tf.keras.layers.Dense(16,activation='relu'),\n",
    "                                    tf.keras.layers.Dense(1, activation='sigmoid')\n",
    "                                    ])"
   ]
  },
  {
   "cell_type": "markdown",
   "metadata": {},
   "source": [
    "The only change needed was changing the input shape"
   ]
  },
  {
   "cell_type": "markdown",
   "metadata": {},
   "source": [
    "### 5. Train the model on the data"
   ]
  },
  {
   "cell_type": "code",
   "execution_count": 45,
   "metadata": {},
   "outputs": [],
   "source": [
    "example_loss = tf.keras.losses.MeanSquaredError()"
   ]
  },
  {
   "cell_type": "code",
   "execution_count": 46,
   "metadata": {},
   "outputs": [],
   "source": [
    "model.compile(optimizer='adam',\n",
    "                     loss=example_loss,\n",
    "                     metrics=['mean_squared_error'])"
   ]
  },
  {
   "cell_type": "code",
   "execution_count": 47,
   "metadata": {},
   "outputs": [
    {
     "name": "stdout",
     "output_type": "stream",
     "text": [
      "Model: \"sequential_2\"\n",
      "_________________________________________________________________\n",
      "Layer (type)                 Output Shape              Param #   \n",
      "=================================================================\n",
      "dense_12 (Dense)             (None, 16)                144       \n",
      "_________________________________________________________________\n",
      "dense_13 (Dense)             (None, 16)                272       \n",
      "_________________________________________________________________\n",
      "dense_14 (Dense)             (None, 1)                 17        \n",
      "=================================================================\n",
      "Total params: 433\n",
      "Trainable params: 433\n",
      "Non-trainable params: 0\n",
      "_________________________________________________________________\n"
     ]
    }
   ],
   "source": [
    "model.summary()"
   ]
  },
  {
   "cell_type": "code",
   "execution_count": 48,
   "metadata": {},
   "outputs": [
    {
     "name": "stdout",
     "output_type": "stream",
     "text": [
      "Epoch 1/5\n",
      "19/19 [==============================] - 0s 776us/step - loss: 0.2689 - mean_squared_error: 0.2689\n",
      "Epoch 2/5\n",
      "19/19 [==============================] - 0s 889us/step - loss: 0.2416 - mean_squared_error: 0.2416\n",
      "Epoch 3/5\n",
      "19/19 [==============================] - 0s 944us/step - loss: 0.2244 - mean_squared_error: 0.2244\n",
      "Epoch 4/5\n",
      "19/19 [==============================] - 0s 833us/step - loss: 0.2139 - mean_squared_error: 0.2139\n",
      "Epoch 5/5\n",
      "19/19 [==============================] - 0s 833us/step - loss: 0.2074 - mean_squared_error: 0.2074\n"
     ]
    },
    {
     "data": {
      "text/plain": [
       "<keras.callbacks.History at 0x185cb4816a0>"
      ]
     },
     "execution_count": 48,
     "metadata": {},
     "output_type": "execute_result"
    }
   ],
   "source": [
    "model.fit(x_train,y_train,epochs=5)"
   ]
  },
  {
   "cell_type": "markdown",
   "metadata": {},
   "source": [
    "### 6. Make predictions on the test data and compare them to the test labels"
   ]
  },
  {
   "cell_type": "code",
   "execution_count": 49,
   "metadata": {},
   "outputs": [],
   "source": [
    "# making predictions on the test set\n",
    "y_pred = model.predict(x_test)\n",
    "\n",
    "#converting continous values into between 0 and 1 using a threshold of 0.5\n",
    "y_pred = np.where(y_pred > 0.5, 1, 0)"
   ]
  },
  {
   "cell_type": "code",
   "execution_count": 50,
   "metadata": {},
   "outputs": [
    {
     "data": {
      "text/plain": [
       "152"
      ]
     },
     "execution_count": 50,
     "metadata": {},
     "output_type": "execute_result"
    }
   ],
   "source": [
    "len(y_pred)"
   ]
  },
  {
   "cell_type": "code",
   "execution_count": 51,
   "metadata": {},
   "outputs": [],
   "source": [
    "df_compare=pd.DataFrame(columns=['Actual labels', 'Predicted labels'])\n",
    "df_compare['Actual labels']= y_test\n",
    "df_compare['Predicted labels']= y_pred"
   ]
  },
  {
   "cell_type": "code",
   "execution_count": 52,
   "metadata": {
    "scrolled": true
   },
   "outputs": [
    {
     "data": {
      "text/html": [
       "<div>\n",
       "<style scoped>\n",
       "    .dataframe tbody tr th:only-of-type {\n",
       "        vertical-align: middle;\n",
       "    }\n",
       "\n",
       "    .dataframe tbody tr th {\n",
       "        vertical-align: top;\n",
       "    }\n",
       "\n",
       "    .dataframe thead th {\n",
       "        text-align: right;\n",
       "    }\n",
       "</style>\n",
       "<table border=\"1\" class=\"dataframe\">\n",
       "  <thead>\n",
       "    <tr style=\"text-align: right;\">\n",
       "      <th></th>\n",
       "      <th>Actual labels</th>\n",
       "      <th>Predicted labels</th>\n",
       "    </tr>\n",
       "  </thead>\n",
       "  <tbody>\n",
       "    <tr>\n",
       "      <th>747</th>\n",
       "      <td>1</td>\n",
       "      <td>1</td>\n",
       "    </tr>\n",
       "    <tr>\n",
       "      <th>583</th>\n",
       "      <td>1</td>\n",
       "      <td>1</td>\n",
       "    </tr>\n",
       "    <tr>\n",
       "      <th>575</th>\n",
       "      <td>1</td>\n",
       "      <td>1</td>\n",
       "    </tr>\n",
       "    <tr>\n",
       "      <th>40</th>\n",
       "      <td>1</td>\n",
       "      <td>1</td>\n",
       "    </tr>\n",
       "    <tr>\n",
       "      <th>243</th>\n",
       "      <td>1</td>\n",
       "      <td>1</td>\n",
       "    </tr>\n",
       "  </tbody>\n",
       "</table>\n",
       "</div>"
      ],
      "text/plain": [
       "     Actual labels  Predicted labels\n",
       "747              1                 1\n",
       "583              1                 1\n",
       "575              1                 1\n",
       "40               1                 1\n",
       "243              1                 1"
      ]
     },
     "execution_count": 52,
     "metadata": {},
     "output_type": "execute_result"
    }
   ],
   "source": [
    "df_compare.head()"
   ]
  },
  {
   "cell_type": "markdown",
   "metadata": {},
   "source": [
    "#### Confusion matrix "
   ]
  },
  {
   "cell_type": "code",
   "execution_count": 53,
   "metadata": {},
   "outputs": [
    {
     "data": {
      "text/plain": [
       "array([[ 1, 55],\n",
       "       [ 0, 96]], dtype=int64)"
      ]
     },
     "execution_count": 53,
     "metadata": {},
     "output_type": "execute_result"
    }
   ],
   "source": [
    "from sklearn.metrics import confusion_matrix\n",
    "cm=confusion_matrix(y_test, y_pred)\n",
    "cm"
   ]
  },
  {
   "cell_type": "code",
   "execution_count": 54,
   "metadata": {},
   "outputs": [],
   "source": [
    "target_names=['non-diabetic','diabetic']"
   ]
  },
  {
   "cell_type": "code",
   "execution_count": 55,
   "metadata": {
    "scrolled": true
   },
   "outputs": [
    {
     "data": {
      "text/plain": [
       "Text(0.5, 69.0, 'Predicted')"
      ]
     },
     "execution_count": 55,
     "metadata": {},
     "output_type": "execute_result"
    },
    {
     "data": {
      "image/png": "[encoded data removed]",
      "text/plain": [
       "<Figure size 864x720 with 2 Axes>"
      ]
     },
     "metadata": {
      "needs_background": "light"
     },
     "output_type": "display_data"
    }
   ],
   "source": [
    "import seaborn as sns\n",
    "import matplotlib.pyplot as plt\n",
    "plt.figure(figsize=(12,10))\n",
    "ax= plt.subplot()\n",
    "sns.heatmap(cm, annot=True, fmt='g', ax=ax, cmap='Blues',annot_kws={\"size\": 18})\n",
    "ax.xaxis.set_ticklabels(target_names, rotation=0, fontsize=18)\n",
    "ax.yaxis.set_ticklabels(target_names, rotation=0,fontsize=18)\n",
    "ax.set_ylabel('Actual',fontsize=18)\n",
    "ax.set_xlabel('Predicted',fontsize=18)"
   ]
  },
  {
   "cell_type": "code",
   "execution_count": 56,
   "metadata": {},
   "outputs": [
    {
     "name": "stdout",
     "output_type": "stream",
     "text": [
      "              precision    recall  f1-score   support\n",
      "\n",
      "           0       1.00      0.02      0.04        56\n",
      "           1       0.64      1.00      0.78        96\n",
      "\n",
      "    accuracy                           0.64       152\n",
      "   macro avg       0.82      0.51      0.41       152\n",
      "weighted avg       0.77      0.64      0.50       152\n",
      "\n"
     ]
    }
   ],
   "source": [
    "from sklearn.metrics import classification_report\n",
    "print(classification_report(y_test, y_pred))"
   ]
  },
  {
   "cell_type": "markdown",
   "metadata": {},
   "source": [
    "### 7. Calculate the accuracy of your results"
   ]
  },
  {
   "cell_type": "code",
   "execution_count": 57,
   "metadata": {},
   "outputs": [
    {
     "name": "stdout",
     "output_type": "stream",
     "text": [
      "Test accuracy score 0.64\n"
     ]
    }
   ],
   "source": [
    "print(\"Test accuracy score\", round(accuracy_score(y_pred, y_test),2))"
   ]
  },
  {
   "cell_type": "markdown",
   "metadata": {},
   "source": [
    "We can see that the test accuracy score was 68%. It can be improved by fine tuning the current model "
   ]
  },
  {
   "cell_type": "markdown",
   "metadata": {},
   "source": [
    "### 8. Hypothesize a change you can make to the model. Type out your hypothesis as comments in the code or in a text cell"
   ]
  },
  {
   "cell_type": "markdown",
   "metadata": {},
   "source": [
    "#### 8.1 Data Augmentation"
   ]
  },
  {
   "cell_type": "code",
   "execution_count": 58,
   "metadata": {},
   "outputs": [],
   "source": [
    "model_new = tf.keras.Sequential([tf.keras.layers.Dense(1024, input_shape= [8,]),\n",
    "                                    tf.keras.layers.Dense(1024,activation='relu'),\n",
    "                                 #tf.keras.layers.Dropout(0.2),\n",
    "                                 tf.keras.layers.BatchNormalization(),\n",
    "                                 tf.keras.layers.Dense(512,activation='relu'),\n",
    "                                 tf.keras.layers.Dense(512,activation='relu'),\n",
    "                                 tf.keras.layers.Dropout(0.2),\n",
    "                                 tf.keras.layers.BatchNormalization(),\n",
    "                                 tf.keras.layers.Dense(256,activation='relu'),\n",
    "                                 tf.keras.layers.BatchNormalization(),\n",
    "                                 tf.keras.layers.Dense(128,activation='relu'),\n",
    "                                 tf.keras.layers.BatchNormalization(),\n",
    "                                 tf.keras.layers.Dense(64,activation='relu'), \n",
    "                                 tf.keras.layers.Dense(32,activation='relu'),\n",
    "                                 tf.keras.layers.BatchNormalization(),\n",
    "                                    tf.keras.layers.Dense(1, activation='sigmoid')\n",
    "                                    ])"
   ]
  },
  {
   "cell_type": "code",
   "execution_count": 59,
   "metadata": {},
   "outputs": [
    {
     "name": "stderr",
     "output_type": "stream",
     "text": [
      "C:\\Users\\sarth\\Anaconda3\\envs\\tensorflow\\lib\\site-packages\\keras\\optimizer_v2\\optimizer_v2.py:355: UserWarning: The `lr` argument is deprecated, use `learning_rate` instead.\n",
      "  warnings.warn(\n"
     ]
    }
   ],
   "source": [
    "model_new.compile(optimizer=tf.keras.optimizers.Adam(lr=0.0001),loss=example_loss,\n",
    "                     metrics=['mean_squared_error'])"
   ]
  },
  {
   "cell_type": "code",
   "execution_count": 60,
   "metadata": {
    "scrolled": true
   },
   "outputs": [
    {
     "name": "stdout",
     "output_type": "stream",
     "text": [
      "Model: \"sequential_3\"\n",
      "_________________________________________________________________\n",
      "Layer (type)                 Output Shape              Param #   \n",
      "=================================================================\n",
      "dense_15 (Dense)             (None, 1024)              9216      \n",
      "_________________________________________________________________\n",
      "dense_16 (Dense)             (None, 1024)              1049600   \n",
      "_________________________________________________________________\n",
      "batch_normalization_5 (Batch (None, 1024)              4096      \n",
      "_________________________________________________________________\n",
      "dense_17 (Dense)             (None, 512)               524800    \n",
      "_________________________________________________________________\n",
      "dense_18 (Dense)             (None, 512)               262656    \n",
      "_________________________________________________________________\n",
      "dropout_1 (Dropout)          (None, 512)               0         \n",
      "_________________________________________________________________\n",
      "batch_normalization_6 (Batch (None, 512)               2048      \n",
      "_________________________________________________________________\n",
      "dense_19 (Dense)             (None, 256)               131328    \n",
      "_________________________________________________________________\n",
      "batch_normalization_7 (Batch (None, 256)               1024      \n",
      "_________________________________________________________________\n",
      "dense_20 (Dense)             (None, 128)               32896     \n",
      "_________________________________________________________________\n",
      "batch_normalization_8 (Batch (None, 128)               512       \n",
      "_________________________________________________________________\n",
      "dense_21 (Dense)             (None, 64)                8256      \n",
      "_________________________________________________________________\n",
      "dense_22 (Dense)             (None, 32)                2080      \n",
      "_________________________________________________________________\n",
      "batch_normalization_9 (Batch (None, 32)                128       \n",
      "_________________________________________________________________\n",
      "dense_23 (Dense)             (None, 1)                 33        \n",
      "=================================================================\n",
      "Total params: 2,028,673\n",
      "Trainable params: 2,024,769\n",
      "Non-trainable params: 3,904\n",
      "_________________________________________________________________\n"
     ]
    }
   ],
   "source": [
    "model_new.summary()"
   ]
  },
  {
   "cell_type": "code",
   "execution_count": 61,
   "metadata": {},
   "outputs": [],
   "source": [
    "es = tf.keras.callbacks.EarlyStopping(monitor='val_loss', mode='min', patience=20, restore_best_weights=True)"
   ]
  },
  {
   "cell_type": "markdown",
   "metadata": {},
   "source": [
    "#### Things tried:\n",
    "\n",
    "1. <B>Adding multiple layers:</B> I added layers upto 1024 so that the model tries to fit all the training data. This might cause overfitting problems which I've solved using DropOut. \n",
    "\n",
    "2. <B>BatchNormalization:</B> Implemented batchnormalization so that the output after everylayer stays between 0 and 1. This maintains the data destribution. \n",
    "\n",
    "3. <B>DropOut:</B> Adding multiple layers to the model makes it more complicated and it tries to fit the training data completely. However, this creates a problem for the testing data as the model is not generalized for new data rather it is specific for the training data. DropOut randomly deletes some nodes during training. \n",
    "\n",
    "4. <B>Learning rate:</B> Choosing current learning rates is very important otherwise the model would never converge to global minima. \n",
    "\n",
    "5. <B>Early stopping callback:</B> Early stopping utilizes resources by stating the condition for the model to stop in case there is no increase in val accuracy/ val loss. It also let's you restore best weights during training. "
   ]
  },
  {
   "cell_type": "markdown",
   "metadata": {},
   "source": [
    "### 9.Test your hypothesis by training your edited model"
   ]
  },
  {
   "cell_type": "code",
   "execution_count": 62,
   "metadata": {
    "scrolled": true
   },
   "outputs": [
    {
     "name": "stdout",
     "output_type": "stream",
     "text": [
      "Epoch 1/150\n",
      "19/19 [==============================] - 2s 24ms/step - loss: 0.2559 - mean_squared_error: 0.2559 - val_loss: 0.2449 - val_mean_squared_error: 0.2449\n",
      "Epoch 2/150\n",
      "19/19 [==============================] - 0s 10ms/step - loss: 0.2046 - mean_squared_error: 0.2046 - val_loss: 0.2413 - val_mean_squared_error: 0.2413\n",
      "Epoch 3/150\n",
      "19/19 [==============================] - 0s 10ms/step - loss: 0.1766 - mean_squared_error: 0.1766 - val_loss: 0.2367 - val_mean_squared_error: 0.2367\n",
      "Epoch 4/150\n",
      "19/19 [==============================] - 0s 10ms/step - loss: 0.1686 - mean_squared_error: 0.1686 - val_loss: 0.2344 - val_mean_squared_error: 0.2344\n",
      "Epoch 5/150\n",
      "19/19 [==============================] - 0s 10ms/step - loss: 0.1695 - mean_squared_error: 0.1695 - val_loss: 0.2351 - val_mean_squared_error: 0.2351\n",
      "Epoch 6/150\n",
      "19/19 [==============================] - 0s 10ms/step - loss: 0.1530 - mean_squared_error: 0.1530 - val_loss: 0.2372 - val_mean_squared_error: 0.2372\n",
      "Epoch 7/150\n",
      "19/19 [==============================] - 0s 10ms/step - loss: 0.1600 - mean_squared_error: 0.1600 - val_loss: 0.2411 - val_mean_squared_error: 0.2411\n",
      "Epoch 8/150\n",
      "19/19 [==============================] - 0s 10ms/step - loss: 0.1570 - mean_squared_error: 0.1570 - val_loss: 0.2372 - val_mean_squared_error: 0.2372\n",
      "Epoch 9/150\n",
      "19/19 [==============================] - 0s 10ms/step - loss: 0.1482 - mean_squared_error: 0.1482 - val_loss: 0.2326 - val_mean_squared_error: 0.2326\n",
      "Epoch 10/150\n",
      "19/19 [==============================] - 0s 10ms/step - loss: 0.1380 - mean_squared_error: 0.1380 - val_loss: 0.2314 - val_mean_squared_error: 0.2314\n",
      "Epoch 11/150\n",
      "19/19 [==============================] - 0s 10ms/step - loss: 0.1330 - mean_squared_error: 0.1330 - val_loss: 0.2252 - val_mean_squared_error: 0.2252\n",
      "Epoch 12/150\n",
      "19/19 [==============================] - 0s 10ms/step - loss: 0.1446 - mean_squared_error: 0.1446 - val_loss: 0.2305 - val_mean_squared_error: 0.2305\n",
      "Epoch 13/150\n",
      "19/19 [==============================] - 0s 10ms/step - loss: 0.1351 - mean_squared_error: 0.1351 - val_loss: 0.2309 - val_mean_squared_error: 0.2309\n",
      "Epoch 14/150\n",
      "19/19 [==============================] - 0s 10ms/step - loss: 0.1390 - mean_squared_error: 0.1390 - val_loss: 0.2253 - val_mean_squared_error: 0.2253\n",
      "Epoch 15/150\n",
      "19/19 [==============================] - 0s 10ms/step - loss: 0.1302 - mean_squared_error: 0.1302 - val_loss: 0.2236 - val_mean_squared_error: 0.2236\n",
      "Epoch 16/150\n",
      "19/19 [==============================] - 0s 10ms/step - loss: 0.1263 - mean_squared_error: 0.1263 - val_loss: 0.2197 - val_mean_squared_error: 0.2197\n",
      "Epoch 17/150\n",
      "19/19 [==============================] - 0s 10ms/step - loss: 0.1273 - mean_squared_error: 0.1273 - val_loss: 0.2197 - val_mean_squared_error: 0.2197\n",
      "Epoch 18/150\n",
      "19/19 [==============================] - 0s 10ms/step - loss: 0.1264 - mean_squared_error: 0.1264 - val_loss: 0.2205 - val_mean_squared_error: 0.2205\n",
      "Epoch 19/150\n",
      "19/19 [==============================] - 0s 10ms/step - loss: 0.1214 - mean_squared_error: 0.1214 - val_loss: 0.2099 - val_mean_squared_error: 0.2099\n",
      "Epoch 20/150\n",
      "19/19 [==============================] - 0s 11ms/step - loss: 0.1236 - mean_squared_error: 0.1236 - val_loss: 0.2041 - val_mean_squared_error: 0.2041\n",
      "Epoch 21/150\n",
      "19/19 [==============================] - 0s 10ms/step - loss: 0.1287 - mean_squared_error: 0.1287 - val_loss: 0.1957 - val_mean_squared_error: 0.1957\n",
      "Epoch 22/150\n",
      "19/19 [==============================] - 0s 11ms/step - loss: 0.1229 - mean_squared_error: 0.1229 - val_loss: 0.2042 - val_mean_squared_error: 0.2042\n",
      "Epoch 23/150\n",
      "19/19 [==============================] - 0s 10ms/step - loss: 0.1257 - mean_squared_error: 0.1257 - val_loss: 0.2050 - val_mean_squared_error: 0.2050\n",
      "Epoch 24/150\n",
      "19/19 [==============================] - 0s 11ms/step - loss: 0.1036 - mean_squared_error: 0.1036 - val_loss: 0.2098 - val_mean_squared_error: 0.2098\n",
      "Epoch 25/150\n",
      "19/19 [==============================] - 0s 12ms/step - loss: 0.1176 - mean_squared_error: 0.1176 - val_loss: 0.2107 - val_mean_squared_error: 0.2107\n",
      "Epoch 26/150\n",
      "19/19 [==============================] - 0s 11ms/step - loss: 0.1256 - mean_squared_error: 0.1256 - val_loss: 0.2003 - val_mean_squared_error: 0.2003\n",
      "Epoch 27/150\n",
      "19/19 [==============================] - 0s 11ms/step - loss: 0.1177 - mean_squared_error: 0.1177 - val_loss: 0.1888 - val_mean_squared_error: 0.1888\n",
      "Epoch 28/150\n",
      "19/19 [==============================] - 0s 11ms/step - loss: 0.1014 - mean_squared_error: 0.1014 - val_loss: 0.1896 - val_mean_squared_error: 0.1896\n",
      "Epoch 29/150\n",
      "19/19 [==============================] - 0s 12ms/step - loss: 0.1092 - mean_squared_error: 0.1092 - val_loss: 0.1875 - val_mean_squared_error: 0.1875\n",
      "Epoch 30/150\n",
      "19/19 [==============================] - 0s 11ms/step - loss: 0.1162 - mean_squared_error: 0.1162 - val_loss: 0.1841 - val_mean_squared_error: 0.1841\n",
      "Epoch 31/150\n",
      "19/19 [==============================] - 0s 11ms/step - loss: 0.0992 - mean_squared_error: 0.0992 - val_loss: 0.1758 - val_mean_squared_error: 0.1758\n",
      "Epoch 32/150\n",
      "19/19 [==============================] - 0s 11ms/step - loss: 0.0978 - mean_squared_error: 0.0978 - val_loss: 0.1800 - val_mean_squared_error: 0.1800\n",
      "Epoch 33/150\n",
      "19/19 [==============================] - 0s 12ms/step - loss: 0.0957 - mean_squared_error: 0.0957 - val_loss: 0.1752 - val_mean_squared_error: 0.1752\n",
      "Epoch 34/150\n",
      "19/19 [==============================] - 0s 12ms/step - loss: 0.0913 - mean_squared_error: 0.0913 - val_loss: 0.1777 - val_mean_squared_error: 0.1777\n",
      "Epoch 35/150\n",
      "19/19 [==============================] - 0s 13ms/step - loss: 0.0998 - mean_squared_error: 0.0998 - val_loss: 0.1799 - val_mean_squared_error: 0.1799\n",
      "Epoch 36/150\n",
      "19/19 [==============================] - 0s 15ms/step - loss: 0.1014 - mean_squared_error: 0.1014 - val_loss: 0.1891 - val_mean_squared_error: 0.1891\n",
      "Epoch 37/150\n",
      "19/19 [==============================] - 0s 11ms/step - loss: 0.1027 - mean_squared_error: 0.1027 - val_loss: 0.2023 - val_mean_squared_error: 0.2023\n",
      "Epoch 38/150\n",
      "19/19 [==============================] - 0s 11ms/step - loss: 0.1020 - mean_squared_error: 0.1020 - val_loss: 0.1800 - val_mean_squared_error: 0.1800\n",
      "Epoch 39/150\n",
      "19/19 [==============================] - 0s 11ms/step - loss: 0.1067 - mean_squared_error: 0.1067 - val_loss: 0.1786 - val_mean_squared_error: 0.1786\n",
      "Epoch 40/150\n",
      "19/19 [==============================] - 0s 11ms/step - loss: 0.0937 - mean_squared_error: 0.0937 - val_loss: 0.1847 - val_mean_squared_error: 0.1847\n",
      "Epoch 41/150\n",
      "19/19 [==============================] - 0s 11ms/step - loss: 0.1027 - mean_squared_error: 0.1027 - val_loss: 0.1847 - val_mean_squared_error: 0.1847\n",
      "Epoch 42/150\n",
      "19/19 [==============================] - 0s 11ms/step - loss: 0.1008 - mean_squared_error: 0.1008 - val_loss: 0.1835 - val_mean_squared_error: 0.1835\n",
      "Epoch 43/150\n",
      "19/19 [==============================] - 0s 11ms/step - loss: 0.1007 - mean_squared_error: 0.1007 - val_loss: 0.1762 - val_mean_squared_error: 0.1762\n",
      "Epoch 44/150\n",
      "19/19 [==============================] - 0s 11ms/step - loss: 0.0801 - mean_squared_error: 0.0801 - val_loss: 0.1820 - val_mean_squared_error: 0.1820\n",
      "Epoch 45/150\n",
      "19/19 [==============================] - 0s 11ms/step - loss: 0.0863 - mean_squared_error: 0.0863 - val_loss: 0.1848 - val_mean_squared_error: 0.1848\n",
      "Epoch 46/150\n",
      "19/19 [==============================] - 0s 11ms/step - loss: 0.0955 - mean_squared_error: 0.0955 - val_loss: 0.1865 - val_mean_squared_error: 0.1865\n",
      "Epoch 47/150\n",
      "19/19 [==============================] - 0s 11ms/step - loss: 0.0791 - mean_squared_error: 0.0791 - val_loss: 0.1768 - val_mean_squared_error: 0.1768\n",
      "Epoch 48/150\n",
      "19/19 [==============================] - 0s 11ms/step - loss: 0.0909 - mean_squared_error: 0.0909 - val_loss: 0.1898 - val_mean_squared_error: 0.1898\n",
      "Epoch 49/150\n",
      "19/19 [==============================] - 0s 11ms/step - loss: 0.0942 - mean_squared_error: 0.0942 - val_loss: 0.1962 - val_mean_squared_error: 0.1962\n",
      "Epoch 50/150\n",
      "19/19 [==============================] - 0s 11ms/step - loss: 0.0901 - mean_squared_error: 0.0901 - val_loss: 0.1873 - val_mean_squared_error: 0.1873\n",
      "Epoch 51/150\n"
     ]
    },
    {
     "name": "stdout",
     "output_type": "stream",
     "text": [
      "19/19 [==============================] - 0s 10ms/step - loss: 0.0842 - mean_squared_error: 0.0842 - val_loss: 0.1784 - val_mean_squared_error: 0.1784\n",
      "Epoch 52/150\n",
      "19/19 [==============================] - 0s 11ms/step - loss: 0.0842 - mean_squared_error: 0.0842 - val_loss: 0.1967 - val_mean_squared_error: 0.1967\n",
      "Epoch 53/150\n",
      "19/19 [==============================] - 0s 11ms/step - loss: 0.0864 - mean_squared_error: 0.0864 - val_loss: 0.1947 - val_mean_squared_error: 0.1947\n"
     ]
    },
    {
     "data": {
      "text/plain": [
       "<keras.callbacks.History at 0x185cc1ce280>"
      ]
     },
     "execution_count": 62,
     "metadata": {},
     "output_type": "execute_result"
    }
   ],
   "source": [
    "model_new.fit(x_train,y_train,epochs=150, callbacks=[es], validation_data=(x_test, y_test))"
   ]
  },
  {
   "cell_type": "code",
   "execution_count": 63,
   "metadata": {},
   "outputs": [],
   "source": [
    "y_pred_new = model_new.predict(x_test)\n",
    "y_pred_new= np.where(y_pred_new > 0.5, 1, 0)"
   ]
  },
  {
   "cell_type": "markdown",
   "metadata": {},
   "source": [
    "### 10. Show the results of your changed model by repeating steps 6 and 7. Discuss the differences if any"
   ]
  },
  {
   "cell_type": "code",
   "execution_count": 64,
   "metadata": {},
   "outputs": [
    {
     "data": {
      "text/html": [
       "<div>\n",
       "<style scoped>\n",
       "    .dataframe tbody tr th:only-of-type {\n",
       "        vertical-align: middle;\n",
       "    }\n",
       "\n",
       "    .dataframe tbody tr th {\n",
       "        vertical-align: top;\n",
       "    }\n",
       "\n",
       "    .dataframe thead th {\n",
       "        text-align: right;\n",
       "    }\n",
       "</style>\n",
       "<table border=\"1\" class=\"dataframe\">\n",
       "  <thead>\n",
       "    <tr style=\"text-align: right;\">\n",
       "      <th></th>\n",
       "      <th>Actual labels</th>\n",
       "      <th>Predicted labels</th>\n",
       "    </tr>\n",
       "  </thead>\n",
       "  <tbody>\n",
       "    <tr>\n",
       "      <th>389</th>\n",
       "      <td>0</td>\n",
       "      <td>0</td>\n",
       "    </tr>\n",
       "    <tr>\n",
       "      <th>428</th>\n",
       "      <td>1</td>\n",
       "      <td>1</td>\n",
       "    </tr>\n",
       "    <tr>\n",
       "      <th>122</th>\n",
       "      <td>0</td>\n",
       "      <td>1</td>\n",
       "    </tr>\n",
       "    <tr>\n",
       "      <th>31</th>\n",
       "      <td>1</td>\n",
       "      <td>1</td>\n",
       "    </tr>\n",
       "    <tr>\n",
       "      <th>283</th>\n",
       "      <td>1</td>\n",
       "      <td>1</td>\n",
       "    </tr>\n",
       "  </tbody>\n",
       "</table>\n",
       "</div>"
      ],
      "text/plain": [
       "     Actual labels  Predicted labels\n",
       "389              0                 0\n",
       "428              1                 1\n",
       "122              0                 1\n",
       "31               1                 1\n",
       "283              1                 1"
      ]
     },
     "execution_count": 64,
     "metadata": {},
     "output_type": "execute_result"
    }
   ],
   "source": [
    "df_comp_new=pd.DataFrame(columns=['Actual labels', 'Predicted labels'])\n",
    "df_comp_new['Actual labels']= y_test\n",
    "df_comp_new['Predicted labels']= y_pred_new\n",
    "df_comp_new[5:10]"
   ]
  },
  {
   "cell_type": "code",
   "execution_count": 65,
   "metadata": {},
   "outputs": [
    {
     "data": {
      "text/plain": [
       "Text(0.5, 69.0, 'Predicted')"
      ]
     },
     "execution_count": 65,
     "metadata": {},
     "output_type": "execute_result"
    },
    {
     "data": {
      "image/png": "[encoded data removed]",
      "text/plain": [
       "<Figure size 864x720 with 2 Axes>"
      ]
     },
     "metadata": {
      "needs_background": "light"
     },
     "output_type": "display_data"
    }
   ],
   "source": [
    "cm_new=confusion_matrix(y_test, y_pred_new)\n",
    "\n",
    "plt.figure(figsize=(12,10))\n",
    "ax= plt.subplot()\n",
    "sns.heatmap(cm_new, annot=True, fmt='g', ax=ax, cmap='Blues',annot_kws={\"size\": 18})\n",
    "ax.xaxis.set_ticklabels(target_names, rotation=0, fontsize=18)\n",
    "ax.yaxis.set_ticklabels(target_names, rotation=0,fontsize=18)\n",
    "ax.set_ylabel('Actual',fontsize=18)\n",
    "ax.set_xlabel('Predicted',fontsize=18)"
   ]
  },
  {
   "cell_type": "code",
   "execution_count": 66,
   "metadata": {
    "scrolled": true
   },
   "outputs": [
    {
     "name": "stdout",
     "output_type": "stream",
     "text": [
      "Test accuracy score (Hypothesis) 0.76\n",
      "Test accuracy score (sample) 0.64\n"
     ]
    }
   ],
   "source": [
    "print(\"Test accuracy score (Hypothesis)\", round(accuracy_score(y_test, y_pred_new),2))\n",
    "print(\"Test accuracy score (sample)\", round(accuracy_score(y_pred, y_test),2))"
   ]
  },
  {
   "cell_type": "markdown",
   "metadata": {},
   "source": [
    "#### Differeneces: \n",
    "\n",
    "We can see that the test accuracy score for the sample and hypothesis has a difference of 0.12. Using a more complicated model with various parameters helps improve the accuracy of the model. \n",
    "\n",
    "Other classification algorithms such as SVM, Decision Trees, Logistic regression might work better for this problem as we have less data. "
   ]
  },
  {
   "cell_type": "code",
   "execution_count": 67,
   "metadata": {},
   "outputs": [
    {
     "name": "stderr",
     "output_type": "stream",
     "text": [
      "[NbConvertApp] Converting notebook diabetes.ipynb to html\n",
      "[NbConvertApp] Writing 674135 bytes to diabetes.html\n"
     ]
    }
   ],
   "source": [
    "!jupyter nbconvert --to html diabetes.ipynb"
   ]
  }
 ],
 "metadata": {
  "kernelspec": {
   "display_name": "Python 3 (ipykernel)",
   "language": "python",
   "name": "python3"
  },
  "language_info": {
   "codemirror_mode": {
    "name": "ipython",
    "version": 3
   },
   "file_extension": ".py",
   "mimetype": "text/x-python",
   "name": "python",
   "nbconvert_exporter": "python",
   "pygments_lexer": "ipython3",
   "version": "3.9.7"
  }
 },
 "nbformat": 4,
 "nbformat_minor": 4
}
